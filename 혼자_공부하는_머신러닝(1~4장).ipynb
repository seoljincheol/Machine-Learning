{
  "nbformat": 4,
  "nbformat_minor": 0,
  "metadata": {
    "colab": {
      "name": "혼자_공부하는_머신러닝(1~4장).ipynb",
      "provenance": [],
      "collapsed_sections": [],
      "toc_visible": true,
      "include_colab_link": true
    },
    "kernelspec": {
      "name": "python3",
      "display_name": "Python 3"
    }
  },
  "cells": [
    {
      "cell_type": "markdown",
      "metadata": {
        "id": "view-in-github",
        "colab_type": "text"
      },
      "source": [
        "<a href=\"https://colab.research.google.com/github/seoljincheol/Machine-Learning/blob/main/%ED%98%BC%EC%9E%90_%EA%B3%B5%EB%B6%80%ED%95%98%EB%8A%94_%EB%A8%B8%EC%8B%A0%EB%9F%AC%EB%8B%9D(1~4%EC%9E%A5).ipynb\" target=\"_parent\"><img src=\"https://colab.research.google.com/assets/colab-badge.svg\" alt=\"Open In Colab\"/></a>"
      ]
    },
    {
      "cell_type": "markdown",
      "metadata": {
        "id": "z6WQC-loXnSf"
      },
      "source": [
        "# 혼자 공부하는 머신러닝"
      ]
    },
    {
      "cell_type": "markdown",
      "metadata": {
        "id": "jtZZZpFHXq_H"
      },
      "source": [
        "## 1. 마켓과 머신러닝\r\n",
        "* K-최근접 이웃 알고리즘"
      ]
    },
    {
      "cell_type": "code",
      "metadata": {
        "id": "UEGvcIC0Xpdd"
      },
      "source": [
        "# 생선분류문제\r\n",
        "\r\n",
        "# bream(도미)\r\n",
        "bream_length = [25.4, 26.3, 26.5, 29.0, 29.0, 29.7, 29.7, 30.0, 30.0, 30.7, 31.0, 31.0, \r\n",
        "                31.5, 32.0, 32.0, 32.0, 33.0, 33.0, 33.5, 33.5, 34.0, 34.0, 34.5, 35.0, \r\n",
        "                35.0, 35.0, 35.0, 36.0, 36.0, 37.0, 38.5, 38.5, 39.5, 41.0, 41.0]\r\n",
        "bream_weight = [242.0, 290.0, 340.0, 363.0, 430.0, 450.0, 500.0, 390.0, 450.0, 500.0, 475.0, 500.0, \r\n",
        "                500.0, 340.0, 600.0, 600.0, 700.0, 700.0, 610.0, 650.0, 575.0, 685.0, 620.0, 680.0, \r\n",
        "                700.0, 725.0, 720.0, 714.0, 850.0, 1000.0, 920.0, 955.0, 925.0, 975.0, 950.0]\r\n",
        "\r\n",
        "# smelt(빙어)\r\n",
        "smelt_length = [9.8, 10.5, 10.6, 11.0, 11.2, 11.3, 11.8, 11.8, 12.0, 12.2, 12.4, 13.0, 14.3, 15.0]\r\n",
        "smelt_weight = [6.7, 7.5, 7.0, 9.7, 9.8, 8.7, 10.0, 9.9, 9.8, 12.2, 13.4, 12.2, 19.7, 19.9]"
      ],
      "execution_count": null,
      "outputs": []
    },
    {
      "cell_type": "code",
      "metadata": {
        "colab": {
          "base_uri": "https://localhost:8080/",
          "height": 279
        },
        "id": "ABH1oaCGYsJ1",
        "outputId": "6098de32-42d4-40b1-bd4f-cd10a6be0190"
      },
      "source": [
        "import matplotlib.pyplot as plt\r\n",
        "\r\n",
        "plt.scatter(bream_length, bream_weight)\r\n",
        "plt.scatter(smelt_length, smelt_weight)\r\n",
        "plt.xlabel('length')\r\n",
        "plt.ylabel('weight')\r\n",
        "plt.show()"
      ],
      "execution_count": null,
      "outputs": [
        {
          "output_type": "display_data",
          "data": {
            "image/png": "[encoded data removed]",
            "text/plain": [
              "<Figure size 432x288 with 1 Axes>"
            ]
          },
          "metadata": {
            "tags": [],
            "needs_background": "light"
          }
        }
      ]
    },
    {
      "cell_type": "code",
      "metadata": {
        "colab": {
          "base_uri": "https://localhost:8080/"
        },
        "id": "jNA8fDwsZXxl",
        "outputId": "05338085-fcf7-44ea-dd51-72007ee8abb0"
      },
      "source": [
        "length = bream_length + smelt_length\r\n",
        "weight = bream_weight + smelt_weight\r\n",
        "\r\n",
        "fish_data = [[l,w] for l,w in zip(length, weight)]\r\n",
        "len(fish_data)"
      ],
      "execution_count": null,
      "outputs": [
        {
          "output_type": "execute_result",
          "data": {
            "text/plain": [
              "49"
            ]
          },
          "metadata": {
            "tags": []
          },
          "execution_count": 3
        }
      ]
    },
    {
      "cell_type": "code",
      "metadata": {
        "colab": {
          "base_uri": "https://localhost:8080/"
        },
        "id": "NERy7U8oZszS",
        "outputId": "e3bf72e4-2867-481e-d51b-a85b8c4232cc"
      },
      "source": [
        "fish_target = [1]*35 + [0]*14\r\n",
        "len(fish_target)"
      ],
      "execution_count": null,
      "outputs": [
        {
          "output_type": "execute_result",
          "data": {
            "text/plain": [
              "49"
            ]
          },
          "metadata": {
            "tags": []
          },
          "execution_count": 4
        }
      ]
    },
    {
      "cell_type": "code",
      "metadata": {
        "colab": {
          "base_uri": "https://localhost:8080/"
        },
        "id": "U663VURFZ5fA",
        "outputId": "9fc3ba97-b933-4c72-e3a4-1b4f73a97308"
      },
      "source": [
        "from sklearn.neighbors import KNeighborsClassifier\r\n",
        "\r\n",
        "kn = KNeighborsClassifier()\r\n",
        "kn.fit(fish_data, fish_target)\r\n",
        "kn.score(fish_data, fish_target)"
      ],
      "execution_count": null,
      "outputs": [
        {
          "output_type": "execute_result",
          "data": {
            "text/plain": [
              "1.0"
            ]
          },
          "metadata": {
            "tags": []
          },
          "execution_count": 5
        }
      ]
    },
    {
      "cell_type": "code",
      "metadata": {
        "colab": {
          "base_uri": "https://localhost:8080/",
          "height": 279
        },
        "id": "ZOY9BrQCaSyg",
        "outputId": "f3573252-3166-4003-e95e-4c48cf20c401"
      },
      "source": [
        "plt.scatter(bream_length, bream_weight)\r\n",
        "plt.scatter(smelt_length, smelt_weight)\r\n",
        "plt.scatter(30, 600, marker='^') # 해당 데이터는 어디로 분류할까?\r\n",
        "plt.xlabel('length')\r\n",
        "plt.ylabel('weight')\r\n",
        "plt.show()"
      ],
      "execution_count": null,
      "outputs": [
        {
          "output_type": "display_data",
          "data": {
            "image/png": "[encoded data removed]",
            "text/plain": [
              "<Figure size 432x288 with 1 Axes>"
            ]
          },
          "metadata": {
            "tags": [],
            "needs_background": "light"
          }
        }
      ]
    },
    {
      "cell_type": "code",
      "metadata": {
        "id": "0PXVyLKvahMM",
        "colab": {
          "base_uri": "https://localhost:8080/"
        },
        "outputId": "c3883cb4-b57f-40d3-cbc6-8b89fd9f29a9"
      },
      "source": [
        "kn.predict([[30, 600]]) # length:30, weight:600\r\n",
        "print(kn._fit_X)\r\n",
        "print(kn._y)"
      ],
      "execution_count": null,
      "outputs": [
        {
          "output_type": "stream",
          "text": [
            "[[  25.4  242. ]\n",
            " [  26.3  290. ]\n",
            " [  26.5  340. ]\n",
            " [  29.   363. ]\n",
            " [  29.   430. ]\n",
            " [  29.7  450. ]\n",
            " [  29.7  500. ]\n",
            " [  30.   390. ]\n",
            " [  30.   450. ]\n",
            " [  30.7  500. ]\n",
            " [  31.   475. ]\n",
            " [  31.   500. ]\n",
            " [  31.5  500. ]\n",
            " [  32.   340. ]\n",
            " [  32.   600. ]\n",
            " [  32.   600. ]\n",
            " [  33.   700. ]\n",
            " [  33.   700. ]\n",
            " [  33.5  610. ]\n",
            " [  33.5  650. ]\n",
            " [  34.   575. ]\n",
            " [  34.   685. ]\n",
            " [  34.5  620. ]\n",
            " [  35.   680. ]\n",
            " [  35.   700. ]\n",
            " [  35.   725. ]\n",
            " [  35.   720. ]\n",
            " [  36.   714. ]\n",
            " [  36.   850. ]\n",
            " [  37.  1000. ]\n",
            " [  38.5  920. ]\n",
            " [  38.5  955. ]\n",
            " [  39.5  925. ]\n",
            " [  41.   975. ]\n",
            " [  41.   950. ]\n",
            " [   9.8    6.7]\n",
            " [  10.5    7.5]\n",
            " [  10.6    7. ]\n",
            " [  11.     9.7]\n",
            " [  11.2    9.8]\n",
            " [  11.3    8.7]\n",
            " [  11.8   10. ]\n",
            " [  11.8    9.9]\n",
            " [  12.     9.8]\n",
            " [  12.2   12.2]\n",
            " [  12.4   13.4]\n",
            " [  13.    12.2]\n",
            " [  14.3   19.7]\n",
            " [  15.    19.9]]\n",
            "[1 1 1 1 1 1 1 1 1 1 1 1 1 1 1 1 1 1 1 1 1 1 1 1 1 1 1 1 1 1 1 1 1 1 1 0 0\n",
            " 0 0 0 0 0 0 0 0 0 0 0 0]\n"
          ],
          "name": "stdout"
        }
      ]
    },
    {
      "cell_type": "code",
      "metadata": {
        "colab": {
          "base_uri": "https://localhost:8080/"
        },
        "id": "LYwLskl4a8jk",
        "outputId": "bc879482-b579-437e-912d-07cf61787767"
      },
      "source": [
        "# n_neighbors 값을 49로 조정 (default = 5)\r\n",
        "kn49 = KNeighborsClassifier(n_neighbors=49)\r\n",
        "\r\n",
        "kn49.fit(fish_data, fish_target)\r\n",
        "kn49.score(fish_data, fish_target)\r\n",
        "\r\n",
        "#print(35/49) 총 49마리 중 35개(bream이 데이터의 대다수인 35마리인데, n_neighbors=49로 조정시 bream만 맞춤)"
      ],
      "execution_count": null,
      "outputs": [
        {
          "output_type": "execute_result",
          "data": {
            "text/plain": [
              "0.7142857142857143"
            ]
          },
          "metadata": {
            "tags": []
          },
          "execution_count": 8
        }
      ]
    },
    {
      "cell_type": "code",
      "metadata": {
        "colab": {
          "base_uri": "https://localhost:8080/"
        },
        "id": "catNd29AbawW",
        "outputId": "2001b683-fa4e-42b0-b4f7-8fcf752b4e6f"
      },
      "source": [
        "# accuracy가 1이 아닐 때의 n, score\r\n",
        "kn = KNeighborsClassifier()\r\n",
        "kn.fit(fish_data, fish_target)\r\n",
        "\r\n",
        "for n in range(5, 50):\r\n",
        "    kn.n_neighbors = n\r\n",
        "    score = kn.score(fish_data, fish_target)\r\n",
        "    if score < 1:\r\n",
        "        print(' n_neighbors:{}\\n score:{}'.format(n,score))\r\n",
        "        break"
      ],
      "execution_count": null,
      "outputs": [
        {
          "output_type": "stream",
          "text": [
            " n_neighbors:18\n",
            " score:0.9795918367346939\n"
          ],
          "name": "stdout"
        }
      ]
    },
    {
      "cell_type": "markdown",
      "metadata": {
        "id": "N2O3s0qzmS1D"
      },
      "source": [
        "# 2. 데이터 다루기"
      ]
    },
    {
      "cell_type": "code",
      "metadata": {
        "id": "K313MLjEmU6g"
      },
      "source": [
        "import numpy as np"
      ],
      "execution_count": null,
      "outputs": []
    },
    {
      "cell_type": "code",
      "metadata": {
        "colab": {
          "base_uri": "https://localhost:8080/"
        },
        "id": "FNcW8zilnI0Q",
        "outputId": "bd2ac25b-b33c-418d-e39c-6992162ac7c4"
      },
      "source": [
        "input_arr = np.array(fish_data)\r\n",
        "target_arr = np.array(fish_target)\r\n",
        "\r\n",
        "input_arr.shape"
      ],
      "execution_count": null,
      "outputs": [
        {
          "output_type": "execute_result",
          "data": {
            "text/plain": [
              "(49, 2)"
            ]
          },
          "metadata": {
            "tags": []
          },
          "execution_count": 11
        }
      ]
    },
    {
      "cell_type": "code",
      "metadata": {
        "colab": {
          "base_uri": "https://localhost:8080/"
        },
        "id": "bLR4Aic-Yt9r",
        "outputId": "c77e4a61-172b-4b87-88e1-6547653e788f"
      },
      "source": [
        "fish_data[:2]"
      ],
      "execution_count": null,
      "outputs": [
        {
          "output_type": "execute_result",
          "data": {
            "text/plain": [
              "[[25.4, 242.0], [26.3, 290.0]]"
            ]
          },
          "metadata": {
            "tags": []
          },
          "execution_count": 20
        }
      ]
    },
    {
      "cell_type": "code",
      "metadata": {
        "colab": {
          "base_uri": "https://localhost:8080/"
        },
        "id": "8cbnrgrbYyfT",
        "outputId": "feed9e8d-f346-469b-ee81-45eb8bf101c1"
      },
      "source": [
        "fish_target[:2]"
      ],
      "execution_count": null,
      "outputs": [
        {
          "output_type": "execute_result",
          "data": {
            "text/plain": [
              "[1, 1]"
            ]
          },
          "metadata": {
            "tags": []
          },
          "execution_count": 21
        }
      ]
    },
    {
      "cell_type": "code",
      "metadata": {
        "id": "x65NdT0vZBYL"
      },
      "source": [
        "from sklearn.neighbors import KNeighborsClassifier\r\n",
        "kn = KNeighborsClassifier()"
      ],
      "execution_count": null,
      "outputs": []
    },
    {
      "cell_type": "code",
      "metadata": {
        "colab": {
          "base_uri": "https://localhost:8080/"
        },
        "id": "TsbQVgL0nc6r",
        "outputId": "81ba489b-0496-44d3-f624-b7ea07f590b9"
      },
      "source": [
        "input_arr[:5]"
      ],
      "execution_count": null,
      "outputs": [
        {
          "output_type": "execute_result",
          "data": {
            "text/plain": [
              "array([[ 25.4, 242. ],\n",
              "       [ 26.3, 290. ],\n",
              "       [ 26.5, 340. ],\n",
              "       [ 29. , 363. ],\n",
              "       [ 29. , 430. ]])"
            ]
          },
          "metadata": {
            "tags": []
          },
          "execution_count": 12
        }
      ]
    },
    {
      "cell_type": "code",
      "metadata": {
        "colab": {
          "base_uri": "https://localhost:8080/"
        },
        "id": "vdxhVs_Xqih9",
        "outputId": "8d725469-d709-4c49-d9b7-089ecd118f63"
      },
      "source": [
        "target_arr[:5]"
      ],
      "execution_count": null,
      "outputs": [
        {
          "output_type": "execute_result",
          "data": {
            "text/plain": [
              "array([1, 1, 1, 1, 1])"
            ]
          },
          "metadata": {
            "tags": []
          },
          "execution_count": 13
        }
      ]
    },
    {
      "cell_type": "code",
      "metadata": {
        "colab": {
          "base_uri": "https://localhost:8080/"
        },
        "id": "Tl7Mdx1NqmRg",
        "outputId": "e3b6b2b2-619b-46cd-fbed-e3088b396c56"
      },
      "source": [
        "# 데이터 랜덤으로 섞기\r\n",
        "np.random.seed(42) # 랜덤시드 고정\r\n",
        "index = np.arange(49)\r\n",
        "np.random.shuffle(index)\r\n",
        "print(index)"
      ],
      "execution_count": null,
      "outputs": [
        {
          "output_type": "stream",
          "text": [
            "[13 45 47 44 17 27 26 25 31 19 12  4 34  8  3  6 40 41 46 15  9 16 24 33\n",
            " 30  0 43 32  5 29 11 36  1 21  2 37 35 23 39 10 22 18 48 20  7 42 14 28\n",
            " 38]\n"
          ],
          "name": "stdout"
        }
      ]
    },
    {
      "cell_type": "code",
      "metadata": {
        "id": "saBqrRthq3B5"
      },
      "source": [
        "# train_test_split\r\n",
        "train_input = input_arr[index[:35]]\r\n",
        "train_target = target_arr[index[:35]]\r\n",
        "\r\n",
        "test_input = input_arr[index[35:]]\r\n",
        "test_target = target_arr[index[35:]]"
      ],
      "execution_count": null,
      "outputs": []
    },
    {
      "cell_type": "code",
      "metadata": {
        "colab": {
          "base_uri": "https://localhost:8080/"
        },
        "id": "NPZTkulNsmqt",
        "outputId": "55501ebb-ce4c-406f-823a-39be610e23cb"
      },
      "source": [
        "train_input[1:5]"
      ],
      "execution_count": null,
      "outputs": [
        {
          "output_type": "execute_result",
          "data": {
            "text/plain": [
              "array([[ 12.4,  13.4],\n",
              "       [ 14.3,  19.7],\n",
              "       [ 12.2,  12.2],\n",
              "       [ 33. , 700. ]])"
            ]
          },
          "metadata": {
            "tags": []
          },
          "execution_count": 16
        }
      ]
    },
    {
      "cell_type": "code",
      "metadata": {
        "colab": {
          "base_uri": "https://localhost:8080/"
        },
        "id": "wzlUaAhOtAfK",
        "outputId": "ecaffb02-151a-4cd6-f742-a5410c2b9e7f"
      },
      "source": [
        "train_target[1:5]"
      ],
      "execution_count": null,
      "outputs": [
        {
          "output_type": "execute_result",
          "data": {
            "text/plain": [
              "array([0, 0, 0, 1])"
            ]
          },
          "metadata": {
            "tags": []
          },
          "execution_count": 17
        }
      ]
    },
    {
      "cell_type": "code",
      "metadata": {
        "colab": {
          "base_uri": "https://localhost:8080/",
          "height": 279
        },
        "id": "EBqoghTirvdc",
        "outputId": "3247394a-a54f-4da3-efb9-86df9809ea8e"
      },
      "source": [
        "import matplotlib.pyplot as plt\r\n",
        "plt.scatter(train_input[:,0], train_input[:,1])\r\n",
        "plt.scatter(test_input[:,0], test_input[:,1])\r\n",
        "plt.xlabel('length')\r\n",
        "plt.ylabel('weight')\r\n",
        "plt.show()\r\n",
        "# blue:train, orange:test"
      ],
      "execution_count": null,
      "outputs": [
        {
          "output_type": "display_data",
          "data": {
            "image/png": "[encoded data removed]",
            "text/plain": [
              "<Figure size 432x288 with 1 Axes>"
            ]
          },
          "metadata": {
            "tags": [],
            "needs_background": "light"
          }
        }
      ]
    },
    {
      "cell_type": "code",
      "metadata": {
        "colab": {
          "base_uri": "https://localhost:8080/"
        },
        "id": "2ehCjDtnsWuO",
        "outputId": "23a6da34-2b7c-465d-89c3-d36caeb74ea7"
      },
      "source": [
        "kn = kn.fit(train_input, train_target)\r\n",
        "kn.score(test_input, test_target)"
      ],
      "execution_count": null,
      "outputs": [
        {
          "output_type": "execute_result",
          "data": {
            "text/plain": [
              "0.5714285714285714"
            ]
          },
          "metadata": {
            "tags": []
          },
          "execution_count": 19
        }
      ]
    },
    {
      "cell_type": "markdown",
      "metadata": {
        "id": "a4Rc1eWQaNEW"
      },
      "source": [
        "# 2-2. 데이터 전처리 _ 스케일이 다른 데이터 전처리 (1/16)"
      ]
    },
    {
      "cell_type": "code",
      "metadata": {
        "id": "Ai65ku1UaPl2"
      },
      "source": [
        "fish_length = [25.4, 26.3, 26.5, 29.0, 29.0, 29.7, 29.7, 30.0, 30.0, 30.7, 31.0, 31.0, \r\n",
        "                31.5, 32.0, 32.0, 32.0, 33.0, 33.0, 33.5, 33.5, 34.0, 34.0, 34.5, 35.0, \r\n",
        "                35.0, 35.0, 35.0, 36.0, 36.0, 37.0, 38.5, 38.5, 39.5, 41.0, 41.0, 9.8, \r\n",
        "                10.5, 10.6, 11.0, 11.2, 11.3, 11.8, 11.8, 12.0, 12.2, 12.4, 13.0, 14.3, 15.0]\r\n",
        "fish_weight = [242.0, 290.0, 340.0, 363.0, 430.0, 450.0, 500.0, 390.0, 450.0, 500.0, 475.0, 500.0, \r\n",
        "                500.0, 340.0, 600.0, 600.0, 700.0, 700.0, 610.0, 650.0, 575.0, 685.0, 620.0, 680.0, \r\n",
        "                700.0, 725.0, 720.0, 714.0, 850.0, 1000.0, 920.0, 955.0, 925.0, 975.0, 950.0, 6.7, \r\n",
        "                7.5, 7.0, 9.7, 9.8, 8.7, 10.0, 9.9, 9.8, 12.2, 13.4, 12.2, 19.7, 19.9]"
      ],
      "execution_count": null,
      "outputs": []
    },
    {
      "cell_type": "code",
      "metadata": {
        "id": "3TTietyhahRT"
      },
      "source": [
        "import numpy as np"
      ],
      "execution_count": null,
      "outputs": []
    },
    {
      "cell_type": "code",
      "metadata": {
        "colab": {
          "base_uri": "https://localhost:8080/"
        },
        "id": "Fy2cDK3Ja8d6",
        "outputId": "ec1cdefe-ed4f-44d7-88a3-9520c0d32f20"
      },
      "source": [
        "np.column_stack(([1,2,3],[4,5,6]))"
      ],
      "execution_count": null,
      "outputs": [
        {
          "output_type": "execute_result",
          "data": {
            "text/plain": [
              "array([[1, 4],\n",
              "       [2, 5],\n",
              "       [3, 6]])"
            ]
          },
          "metadata": {
            "tags": []
          },
          "execution_count": 29
        }
      ]
    },
    {
      "cell_type": "code",
      "metadata": {
        "colab": {
          "base_uri": "https://localhost:8080/"
        },
        "id": "cSzPFyXganNv",
        "outputId": "4fb7fa2b-a8c8-4434-ee6e-76fea7f827ba"
      },
      "source": [
        "fish_data = np.column_stack((fish_length, fish_weight))\r\n",
        "fish_data[:5]"
      ],
      "execution_count": null,
      "outputs": [
        {
          "output_type": "execute_result",
          "data": {
            "text/plain": [
              "array([[ 25.4, 242. ],\n",
              "       [ 26.3, 290. ],\n",
              "       [ 26.5, 340. ],\n",
              "       [ 29. , 363. ],\n",
              "       [ 29. , 430. ]])"
            ]
          },
          "metadata": {
            "tags": []
          },
          "execution_count": 25
        }
      ]
    },
    {
      "cell_type": "code",
      "metadata": {
        "colab": {
          "base_uri": "https://localhost:8080/"
        },
        "id": "Jlg-saiXlqru",
        "outputId": "4435cb41-3349-4aeb-c05c-89a8251b4a16"
      },
      "source": [
        "print(np.ones(5))"
      ],
      "execution_count": null,
      "outputs": [
        {
          "output_type": "stream",
          "text": [
            "[1. 1. 1. 1. 1.]\n"
          ],
          "name": "stdout"
        }
      ]
    },
    {
      "cell_type": "code",
      "metadata": {
        "colab": {
          "base_uri": "https://localhost:8080/"
        },
        "id": "x9AZxbiza5w-",
        "outputId": "e273ad7b-7e82-470a-dc95-86fd99304634"
      },
      "source": [
        "fish_target = np.concatenate((np.ones(35), np.zeros(14)))\r\n",
        "fish_target"
      ],
      "execution_count": null,
      "outputs": [
        {
          "output_type": "execute_result",
          "data": {
            "text/plain": [
              "array([1., 1., 1., 1., 1., 1., 1., 1., 1., 1., 1., 1., 1., 1., 1., 1., 1.,\n",
              "       1., 1., 1., 1., 1., 1., 1., 1., 1., 1., 1., 1., 1., 1., 1., 1., 1.,\n",
              "       1., 0., 0., 0., 0., 0., 0., 0., 0., 0., 0., 0., 0., 0., 0.])"
            ]
          },
          "metadata": {
            "tags": []
          },
          "execution_count": 30
        }
      ]
    },
    {
      "cell_type": "markdown",
      "metadata": {
        "id": "Bhn_p1rIbp5V"
      },
      "source": [
        "tip: 데이터가 클수록 파이썬 리스트보다 넘파이 배열을 사용하는 것이 효율적임"
      ]
    },
    {
      "cell_type": "code",
      "metadata": {
        "colab": {
          "base_uri": "https://localhost:8080/"
        },
        "id": "Cdd68TjobhaW",
        "outputId": "c219313e-788d-4f1f-ded1-fcf253a175f6"
      },
      "source": [
        "from sklearn.model_selection import train_test_split\r\n",
        "train_input, test_input, train_target, test_target = train_test_split(fish_data, fish_target, random_state=42)\r\n",
        "print(train_input.shape, test_input.shape, train_target.shape, test_target.shape)"
      ],
      "execution_count": null,
      "outputs": [
        {
          "output_type": "stream",
          "text": [
            "(36, 2) (13, 2) (36,) (13,)\n"
          ],
          "name": "stdout"
        }
      ]
    },
    {
      "cell_type": "code",
      "metadata": {
        "colab": {
          "base_uri": "https://localhost:8080/"
        },
        "id": "FYTnuVnScRuL",
        "outputId": "6e9e873d-f1fe-4a08-9010-791ced116f6e"
      },
      "source": [
        "print(test_target)\r\n",
        "# 도미(1)-10개, 빙어(0)-3개, 샘플링 편향 현상 발생 > stratify로 수정하기"
      ],
      "execution_count": null,
      "outputs": [
        {
          "output_type": "stream",
          "text": [
            "[1. 0. 0. 0. 1. 1. 1. 1. 1. 1. 1. 1. 1.]\n"
          ],
          "name": "stdout"
        }
      ]
    },
    {
      "cell_type": "code",
      "metadata": {
        "colab": {
          "base_uri": "https://localhost:8080/"
        },
        "id": "Ti5xgu5Wddnd",
        "outputId": "eff6c8f0-6211-4812-eb80-37f3bf69b6c6"
      },
      "source": [
        "train_input, test_input, train_target, test_target = train_test_split(fish_data, fish_target, stratify=fish_target, random_state=42)\r\n",
        "print(test_target)"
      ],
      "execution_count": null,
      "outputs": [
        {
          "output_type": "stream",
          "text": [
            "[0. 0. 1. 0. 1. 0. 1. 1. 1. 1. 1. 1. 1.]\n"
          ],
          "name": "stdout"
        }
      ]
    },
    {
      "cell_type": "markdown",
      "metadata": {
        "id": "rTsR61L-mEGl"
      },
      "source": [
        "수상한 도미 한 마리 [25, 150]"
      ]
    },
    {
      "cell_type": "code",
      "metadata": {
        "colab": {
          "base_uri": "https://localhost:8080/"
        },
        "id": "Fw-sffV8d80r",
        "outputId": "363a041f-6f43-4f82-a44c-ef6c4d321895"
      },
      "source": [
        "from sklearn.neighbors import KNeighborsClassifier\r\n",
        "kn = KNeighborsClassifier()\r\n",
        "kn.fit(train_input, train_target)\r\n",
        "kn.score(test_input, test_target)"
      ],
      "execution_count": null,
      "outputs": [
        {
          "output_type": "execute_result",
          "data": {
            "text/plain": [
              "1.0"
            ]
          },
          "metadata": {
            "tags": []
          },
          "execution_count": 35
        }
      ]
    },
    {
      "cell_type": "code",
      "metadata": {
        "colab": {
          "base_uri": "https://localhost:8080/",
          "height": 279
        },
        "id": "jBAea99zeVmo",
        "outputId": "20881ca7-5580-4c39-c4b1-4e74d23f5475"
      },
      "source": [
        "import matplotlib.pyplot as plt\r\n",
        "plt.scatter(train_input[:,0], train_input[:,1])\r\n",
        "plt.scatter(25, 150, marker='^')\r\n",
        "plt.xlabel('length')\r\n",
        "plt.ylabel('weight')\r\n",
        "plt.show()"
      ],
      "execution_count": null,
      "outputs": [
        {
          "output_type": "display_data",
          "data": {
            "image/png": "[encoded data removed]",
            "text/plain": [
              "<Figure size 432x288 with 1 Axes>"
            ]
          },
          "metadata": {
            "tags": [],
            "needs_background": "light"
          }
        }
      ]
    },
    {
      "cell_type": "code",
      "metadata": {
        "id": "-KcKNxiPe6wK"
      },
      "source": [
        "distances, indexes = kn.kneighbors([[25, 150]])"
      ],
      "execution_count": null,
      "outputs": []
    },
    {
      "cell_type": "code",
      "metadata": {
        "colab": {
          "base_uri": "https://localhost:8080/",
          "height": 279
        },
        "id": "eAvLZw5_fHRD",
        "outputId": "bed9e83b-0861-47f2-9cd7-d409044ae022"
      },
      "source": [
        "plt.scatter(train_input[:,0], train_input[:,1])\r\n",
        "plt.scatter(25, 150, marker='^')\r\n",
        "plt.scatter(train_input[indexes,0], train_input[indexes,1], marker='D')\r\n",
        "plt.xlabel('length')\r\n",
        "plt.ylabel('weight')\r\n",
        "plt.show()"
      ],
      "execution_count": null,
      "outputs": [
        {
          "output_type": "display_data",
          "data": {
            "image/png": "[encoded data removed]",
            "text/plain": [
              "<Figure size 432x288 with 1 Axes>"
            ]
          },
          "metadata": {
            "tags": [],
            "needs_background": "light"
          }
        }
      ]
    },
    {
      "cell_type": "code",
      "metadata": {
        "colab": {
          "base_uri": "https://localhost:8080/"
        },
        "id": "EHbhtvajgmwX",
        "outputId": "6068d207-7f89-492a-b388-c7f2c873aa26"
      },
      "source": [
        "print(train_input[indexes])\r\n",
        "print(train_target[indexes])"
      ],
      "execution_count": null,
      "outputs": [
        {
          "output_type": "stream",
          "text": [
            "[[[ 25.4 242. ]\n",
            "  [ 15.   19.9]\n",
            "  [ 14.3  19.7]\n",
            "  [ 13.   12.2]\n",
            "  [ 12.2  12.2]]]\n",
            "[[1. 0. 0. 0. 0.]]\n"
          ],
          "name": "stdout"
        }
      ]
    },
    {
      "cell_type": "code",
      "metadata": {
        "colab": {
          "base_uri": "https://localhost:8080/"
        },
        "id": "Xd2aN5-Zg8lu",
        "outputId": "c3fc86d5-739a-4880-fac4-5b966fbaeebe"
      },
      "source": [
        "print(distances)"
      ],
      "execution_count": null,
      "outputs": [
        {
          "output_type": "stream",
          "text": [
            "[[ 92.00086956 130.48375378 130.73859415 138.32150953 138.39320793]]\n"
          ],
          "name": "stdout"
        }
      ]
    },
    {
      "cell_type": "markdown",
      "metadata": {
        "id": "2TfY0dXXmR7N"
      },
      "source": [
        "기준을 맞추기"
      ]
    },
    {
      "cell_type": "code",
      "metadata": {
        "colab": {
          "base_uri": "https://localhost:8080/",
          "height": 279
        },
        "id": "DThBg3bEhMHE",
        "outputId": "014d763e-6b4d-45d1-a6f5-3a5c9d1fd4c5"
      },
      "source": [
        "# x축 범위를 0~1000 으로 y축 범위처럼 맞춰줌\r\n",
        "plt.scatter(train_input[:,0], train_input[:,1])\r\n",
        "plt.scatter(25, 150, marker='^')\r\n",
        "plt.scatter(train_input[indexes,0], train_input[indexes,1], marker='D')\r\n",
        "plt.xlim((0,1000))\r\n",
        "plt.xlabel('length')\r\n",
        "plt.ylabel('weight')\r\n",
        "plt.show()"
      ],
      "execution_count": null,
      "outputs": [
        {
          "output_type": "display_data",
          "data": {
            "image/png": "[encoded data removed]",
            "text/plain": [
              "<Figure size 432x288 with 1 Axes>"
            ]
          },
          "metadata": {
            "tags": [],
            "needs_background": "light"
          }
        }
      ]
    },
    {
      "cell_type": "code",
      "metadata": {
        "colab": {
          "base_uri": "https://localhost:8080/"
        },
        "id": "NrYFIxoihi_e",
        "outputId": "414d6c15-3b28-489f-d63c-576887cd21f2"
      },
      "source": [
        "mean = np.mean(train_input, axis=0)\r\n",
        "std = np.std(train_input, axis=0)\r\n",
        "print(mean, std)"
      ],
      "execution_count": null,
      "outputs": [
        {
          "output_type": "stream",
          "text": [
            "[ 27.29722222 454.09722222] [  9.98244253 323.29893931]\n"
          ],
          "name": "stdout"
        }
      ]
    },
    {
      "cell_type": "code",
      "metadata": {
        "id": "aI3vbYwoiKi_"
      },
      "source": [
        "# 표준점수 산출\r\n",
        "train_scaled = (train_input - mean) / std"
      ],
      "execution_count": null,
      "outputs": []
    },
    {
      "cell_type": "code",
      "metadata": {
        "colab": {
          "base_uri": "https://localhost:8080/",
          "height": 279
        },
        "id": "6uCH354dilgM",
        "outputId": "de641656-4f41-42f5-8775-c5d24e8f0346"
      },
      "source": [
        "# 변환값1 > 부자연스러움\r\n",
        "plt.scatter(train_scaled[:,0], train_scaled[:,1])\r\n",
        "plt.scatter(25, 150, marker='^')\r\n",
        "plt.xlabel('length')\r\n",
        "plt.ylabel('weight')\r\n",
        "plt.show()"
      ],
      "execution_count": null,
      "outputs": [
        {
          "output_type": "display_data",
          "data": {
            "image/png": "[encoded data removed]",
            "text/plain": [
              "<Figure size 432x288 with 1 Axes>"
            ]
          },
          "metadata": {
            "tags": [],
            "needs_background": "light"
          }
        }
      ]
    },
    {
      "cell_type": "code",
      "metadata": {
        "colab": {
          "base_uri": "https://localhost:8080/",
          "height": 279
        },
        "id": "tXf0CxlJjB6p",
        "outputId": "a6dd3199-aeac-4a9d-d1b2-30505cc92377"
      },
      "source": [
        "new = ([25, 150] - mean) / std\r\n",
        "plt.scatter(train_scaled[:,0], train_scaled[:,1])\r\n",
        "plt.scatter(new[0], new[1], marker='^')\r\n",
        "plt.xlabel('length')\r\n",
        "plt.ylabel('weight')\r\n",
        "plt.show()"
      ],
      "execution_count": null,
      "outputs": [
        {
          "output_type": "display_data",
          "data": {
            "image/png": "[encoded data removed]",
            "text/plain": [
              "<Figure size 432x288 with 1 Axes>"
            ]
          },
          "metadata": {
            "tags": [],
            "needs_background": "light"
          }
        }
      ]
    },
    {
      "cell_type": "code",
      "metadata": {
        "colab": {
          "base_uri": "https://localhost:8080/"
        },
        "id": "yonLZ9kDjfwj",
        "outputId": "68c42314-7904-43d5-8d8f-79c08be8afd3"
      },
      "source": [
        "kn.fit(train_scaled, train_target)"
      ],
      "execution_count": null,
      "outputs": [
        {
          "output_type": "execute_result",
          "data": {
            "text/plain": [
              "KNeighborsClassifier(algorithm='auto', leaf_size=30, metric='minkowski',\n",
              "                     metric_params=None, n_jobs=None, n_neighbors=5, p=2,\n",
              "                     weights='uniform')"
            ]
          },
          "metadata": {
            "tags": []
          },
          "execution_count": 48
        }
      ]
    },
    {
      "cell_type": "markdown",
      "metadata": {
        "id": "1diCeBGDju5S"
      },
      "source": [
        "트레인셋은 평균과 표준편차를 이용해서 변경함, 테스트셋도 같은 수식을 적용해야 함."
      ]
    },
    {
      "cell_type": "code",
      "metadata": {
        "id": "JwBdb3e3js-H"
      },
      "source": [
        "test_scaled = (test_input - mean) / std"
      ],
      "execution_count": null,
      "outputs": []
    },
    {
      "cell_type": "code",
      "metadata": {
        "colab": {
          "base_uri": "https://localhost:8080/"
        },
        "id": "UEc2JFKekHqH",
        "outputId": "7e2c3e9f-b368-4870-8629-76cb35242211"
      },
      "source": [
        "kn.score(test_scaled, test_target)"
      ],
      "execution_count": null,
      "outputs": [
        {
          "output_type": "execute_result",
          "data": {
            "text/plain": [
              "1.0"
            ]
          },
          "metadata": {
            "tags": []
          },
          "execution_count": 57
        }
      ]
    },
    {
      "cell_type": "code",
      "metadata": {
        "colab": {
          "base_uri": "https://localhost:8080/"
        },
        "id": "cItrfahRkMZc",
        "outputId": "85086e78-3cc9-42a7-fddb-00f163ef2e28"
      },
      "source": [
        "print(kn.predict([new])) # 1(도미)로 예측함"
      ],
      "execution_count": null,
      "outputs": [
        {
          "output_type": "stream",
          "text": [
            "[1.]\n"
          ],
          "name": "stdout"
        }
      ]
    },
    {
      "cell_type": "code",
      "metadata": {
        "colab": {
          "base_uri": "https://localhost:8080/",
          "height": 279
        },
        "id": "i-kt9HFLkVbG",
        "outputId": "505ad33e-e7a3-412d-8157-8fafad0443d2"
      },
      "source": [
        "distances, indexes = kn.kneighbors([new])\r\n",
        "plt.scatter(train_scaled[:,0], train_scaled[:,1])\r\n",
        "plt.scatter(new[0], new[1], marker='^')\r\n",
        "#plt.scatter(train_scaled[indexes,0], train_scaled[indexes,1], marker='D')\r\n",
        "plt.xlabel('length')\r\n",
        "plt.ylabel('weight')\r\n",
        "plt.show()"
      ],
      "execution_count": null,
      "outputs": [
        {
          "output_type": "display_data",
          "data": {
            "image/png": "[encoded data removed]",
            "text/plain": [
              "<Figure size 432x288 with 1 Axes>"
            ]
          },
          "metadata": {
            "tags": [],
            "needs_background": "light"
          }
        }
      ]
    },
    {
      "cell_type": "markdown",
      "metadata": {
        "id": "AQiOInPCpROX"
      },
      "source": [
        "# 3. 회귀 알고리즘과 모델 규제"
      ]
    },
    {
      "cell_type": "markdown",
      "metadata": {
        "id": "rEmgsnpKpNlI"
      },
      "source": [
        "### 3-1. k-최근접 이웃회귀 "
      ]
    },
    {
      "cell_type": "code",
      "metadata": {
        "id": "FVNDABXopYLX"
      },
      "source": [
        "import numpy as np\r\n",
        "\r\n",
        "perch_length = np.array([8.4, 13.7, 15.0, 16.2, 17.4, 18.0, 18.7, 19.0, 19.6, 20.0, 21.0,\r\n",
        "       21.0, 21.0, 21.3, 22.0, 22.0, 22.0, 22.0, 22.0, 22.5, 22.5, 22.7,\r\n",
        "       23.0, 23.5, 24.0, 24.0, 24.6, 25.0, 25.6, 26.5, 27.3, 27.5, 27.5,\r\n",
        "       27.5, 28.0, 28.7, 30.0, 32.8, 34.5, 35.0, 36.5, 36.0, 37.0, 37.0,\r\n",
        "       39.0, 39.0, 39.0, 40.0, 40.0, 40.0, 40.0, 42.0, 43.0, 43.0, 43.5,\r\n",
        "       44.0])\r\n",
        "perch_weight = np.array([5.9, 32.0, 40.0, 51.5, 70.0, 100.0, 78.0, 80.0, 85.0, 85.0, 110.0,\r\n",
        "       115.0, 125.0, 130.0, 120.0, 120.0, 130.0, 135.0, 110.0, 130.0,\r\n",
        "       150.0, 145.0, 150.0, 170.0, 225.0, 145.0, 188.0, 180.0, 197.0,\r\n",
        "       218.0, 300.0, 260.0, 265.0, 250.0, 250.0, 300.0, 320.0, 514.0,\r\n",
        "       556.0, 840.0, 685.0, 700.0, 700.0, 690.0, 900.0, 650.0, 820.0,\r\n",
        "       850.0, 900.0, 1015.0, 820.0, 1100.0, 1000.0, 1100.0, 1000.0,\r\n",
        "       1000.0])"
      ],
      "execution_count": null,
      "outputs": []
    },
    {
      "cell_type": "code",
      "metadata": {
        "colab": {
          "base_uri": "https://localhost:8080/",
          "height": 279
        },
        "id": "85xGfu6yrqVj",
        "outputId": "3fe84d07-5be3-403e-927f-ce56437ab9cb"
      },
      "source": [
        "import matplotlib.pyplot as plt\r\n",
        "plt.scatter(perch_length, perch_weight)\r\n",
        "plt.xlabel('length')\r\n",
        "plt.ylabel('weight')\r\n",
        "plt.show()"
      ],
      "execution_count": null,
      "outputs": [
        {
          "output_type": "display_data",
          "data": {
            "image/png": "[encoded data removed]",
            "text/plain": [
              "<Figure size 432x288 with 1 Axes>"
            ]
          },
          "metadata": {
            "tags": [],
            "needs_background": "light"
          }
        }
      ]
    },
    {
      "cell_type": "code",
      "metadata": {
        "colab": {
          "base_uri": "https://localhost:8080/"
        },
        "id": "iRHShpbxr6m2",
        "outputId": "dca08f7a-3e73-4a26-f6a2-2007664091a4"
      },
      "source": [
        "from sklearn.model_selection import train_test_split\r\n",
        "train_input, test_input, train_target, test_target = train_test_split(perch_length, perch_weight, random_state=42)\r\n",
        "print(test_target)"
      ],
      "execution_count": null,
      "outputs": [
        {
          "output_type": "stream",
          "text": [
            "[   5.9  100.   250.   130.   130.   820.   320.   188.   900.   125.\n",
            " 1000.    51.5  250.   300. ]\n"
          ],
          "name": "stdout"
        }
      ]
    },
    {
      "cell_type": "markdown",
      "metadata": {
        "id": "RIkOpvYYurGa"
      },
      "source": [
        "사이킷런 훈련셋 준비를 위해 2차원 배열로 만들기"
      ]
    },
    {
      "cell_type": "code",
      "metadata": {
        "colab": {
          "base_uri": "https://localhost:8080/"
        },
        "id": "lHvdGmAtsfFc",
        "outputId": "813e65fd-0e19-4d5d-f5b1-1b33a419cb21"
      },
      "source": [
        "test_array = np.array([1,2,3,4])\r\n",
        "print(test_array.shape)"
      ],
      "execution_count": null,
      "outputs": [
        {
          "output_type": "stream",
          "text": [
            "(4,)\n"
          ],
          "name": "stdout"
        }
      ]
    },
    {
      "cell_type": "code",
      "metadata": {
        "colab": {
          "base_uri": "https://localhost:8080/"
        },
        "id": "ZGI0ss8itrPG",
        "outputId": "901cd09e-9987-4107-bec6-af2ed19587f3"
      },
      "source": [
        "# (4,1) ==> (2,2) 배열 변환\r\n",
        "test_array = test_array.reshape(2,2)\r\n",
        "print(test_array.shape)"
      ],
      "execution_count": null,
      "outputs": [
        {
          "output_type": "stream",
          "text": [
            "(2, 2)\n"
          ],
          "name": "stdout"
        }
      ]
    },
    {
      "cell_type": "code",
      "metadata": {
        "colab": {
          "base_uri": "https://localhost:8080/"
        },
        "id": "q7zz16ECt44M",
        "outputId": "1043edff-6882-485f-bd24-28ae6542fa53"
      },
      "source": [
        "# reshape 에서 -1 은 나머지 원소로 채우라는 의미\r\n",
        "train_input = train_input.reshape(-1,1)\r\n",
        "test_input = test_input.reshape(-1,1)\r\n",
        "print(train_input.shape, test_input.shape)"
      ],
      "execution_count": null,
      "outputs": [
        {
          "output_type": "stream",
          "text": [
            "(42, 1) (14, 1)\n"
          ],
          "name": "stdout"
        }
      ]
    },
    {
      "cell_type": "markdown",
      "metadata": {
        "id": "Kv4lhQE6u1_X"
      },
      "source": [
        "결정계수 (R**2)"
      ]
    },
    {
      "cell_type": "code",
      "metadata": {
        "colab": {
          "base_uri": "https://localhost:8080/"
        },
        "id": "y-dLggEfugQ0",
        "outputId": "bbcfc8a6-6cd9-4466-8b16-bb6d25272c60"
      },
      "source": [
        "from sklearn.neighbors import KNeighborsRegressor\r\n",
        "knr = KNeighborsRegressor()\r\n",
        "knr.fit(train_input, train_target)\r\n",
        "print(knr.score(test_input, test_target)) # 결정계수"
      ],
      "execution_count": null,
      "outputs": [
        {
          "output_type": "stream",
          "text": [
            "0.9928094061010639\n"
          ],
          "name": "stdout"
        }
      ]
    },
    {
      "cell_type": "code",
      "metadata": {
        "colab": {
          "base_uri": "https://localhost:8080/"
        },
        "id": "LVq37N3PvYI7",
        "outputId": "177d9c57-3d94-44d5-eb01-ce9b23daa45e"
      },
      "source": [
        "from sklearn.metrics import mean_absolute_error # 타깃과 예측의 절대값 오차를 평균하여 반환\r\n",
        "# 테스트셋 예측\r\n",
        "test_prediction = knr.predict(test_input)\r\n",
        "# 평균절대값오차 산출\r\n",
        "mae = mean_absolute_error(test_target, test_prediction)\r\n",
        "print(mae) # 19g 정도 차이"
      ],
      "execution_count": null,
      "outputs": [
        {
          "output_type": "stream",
          "text": [
            "19.157142857142862\n"
          ],
          "name": "stdout"
        }
      ]
    },
    {
      "cell_type": "markdown",
      "metadata": {
        "id": "OkoTrSQjy5FU"
      },
      "source": [
        "과대적합 / 과소적합"
      ]
    },
    {
      "cell_type": "code",
      "metadata": {
        "colab": {
          "base_uri": "https://localhost:8080/"
        },
        "id": "d3xYRc-mylmN",
        "outputId": "861db43f-754a-40bd-8195-222eb5e56fac"
      },
      "source": [
        "print(knr.score(train_input, train_target)) # train_score\r\n",
        "print(knr.score(test_input, test_target)) # test_score\r\n",
        "# train_score(0.96), test_score(0.99) ==> 과소적합"
      ],
      "execution_count": null,
      "outputs": [
        {
          "output_type": "stream",
          "text": [
            "0.9698823289099255\n",
            "0.9928094061010639\n"
          ],
          "name": "stdout"
        }
      ]
    },
    {
      "cell_type": "code",
      "metadata": {
        "colab": {
          "base_uri": "https://localhost:8080/"
        },
        "id": "kK6k-_StzChD",
        "outputId": "827997e7-126e-433b-eb83-92a53c2ceba7"
      },
      "source": [
        "knr.n_neighbors = 3\r\n",
        "knr.fit(train_input, train_target)\r\n",
        "print(knr.score(train_input, train_target))\r\n",
        "print(knr.score(test_input, test_target)) "
      ],
      "execution_count": null,
      "outputs": [
        {
          "output_type": "stream",
          "text": [
            "0.9804899950518966\n",
            "0.974645996398761\n"
          ],
          "name": "stdout"
        }
      ]
    },
    {
      "cell_type": "code",
      "metadata": {
        "colab": {
          "base_uri": "https://localhost:8080/",
          "height": 761
        },
        "id": "WIrZD00OzpTJ",
        "outputId": "6763c616-d894-444b-b0c0-fb64ee31ef86"
      },
      "source": [
        "# 확인문제\r\n",
        "knr = KNeighborsRegressor()\r\n",
        "x = np.arange(5,45).reshape(-1,1)\r\n",
        "\r\n",
        "for n in [1,5,10]:\r\n",
        "    knr.n_neighbors = n\r\n",
        "    knr.fit(train_input, train_target)\r\n",
        "    prediction = knr.predict(x)\r\n",
        "\r\n",
        "    plt.scatter(train_input, train_target)\r\n",
        "    plt.plot(x, prediction)\r\n",
        "    plt.show()"
      ],
      "execution_count": null,
      "outputs": [
        {
          "output_type": "display_data",
          "data": {
            "image/png": "[encoded data removed]",
            "text/plain": [
              "<Figure size 432x288 with 1 Axes>"
            ]
          },
          "metadata": {
            "tags": [],
            "needs_background": "light"
          }
        },
        {
          "output_type": "display_data",
          "data": {
            "image/png": "[encoded data removed]",
            "text/plain": [
              "<Figure size 432x288 with 1 Axes>"
            ]
          },
          "metadata": {
            "tags": [],
            "needs_background": "light"
          }
        },
        {
          "output_type": "display_data",
          "data": {
            "image/png": "[encoded data removed]",
            "text/plain": [
              "<Figure size 432x288 with 1 Axes>"
            ]
          },
          "metadata": {
            "tags": [],
            "needs_background": "light"
          }
        }
      ]
    },
    {
      "cell_type": "markdown",
      "metadata": {
        "id": "xAPwVN6-36gE"
      },
      "source": [
        "### 3-2. 선형 회귀"
      ]
    },
    {
      "cell_type": "code",
      "metadata": {
        "id": "5b6Gt44E384l"
      },
      "source": [
        "import numpy as np\r\n",
        "\r\n",
        "perch_length = np.array([8.4, 13.7, 15.0, 16.2, 17.4, 18.0, 18.7, 19.0, 19.6, 20.0, 21.0,\r\n",
        "       21.0, 21.0, 21.3, 22.0, 22.0, 22.0, 22.0, 22.0, 22.5, 22.5, 22.7,\r\n",
        "       23.0, 23.5, 24.0, 24.0, 24.6, 25.0, 25.6, 26.5, 27.3, 27.5, 27.5,\r\n",
        "       27.5, 28.0, 28.7, 30.0, 32.8, 34.5, 35.0, 36.5, 36.0, 37.0, 37.0,\r\n",
        "       39.0, 39.0, 39.0, 40.0, 40.0, 40.0, 40.0, 42.0, 43.0, 43.0, 43.5,\r\n",
        "       44.0])\r\n",
        "perch_weight = np.array([5.9, 32.0, 40.0, 51.5, 70.0, 100.0, 78.0, 80.0, 85.0, 85.0, 110.0,\r\n",
        "       115.0, 125.0, 130.0, 120.0, 120.0, 130.0, 135.0, 110.0, 130.0,\r\n",
        "       150.0, 145.0, 150.0, 170.0, 225.0, 145.0, 188.0, 180.0, 197.0,\r\n",
        "       218.0, 300.0, 260.0, 265.0, 250.0, 250.0, 300.0, 320.0, 514.0,\r\n",
        "       556.0, 840.0, 685.0, 700.0, 700.0, 690.0, 900.0, 650.0, 820.0,\r\n",
        "       850.0, 900.0, 1015.0, 820.0, 1100.0, 1000.0, 1100.0, 1000.0,\r\n",
        "       1000.0])"
      ],
      "execution_count": null,
      "outputs": []
    },
    {
      "cell_type": "code",
      "metadata": {
        "id": "irAaJFj14CrS"
      },
      "source": [
        "from sklearn.model_selection import train_test_split\r\n",
        "train_input, test_input, train_target, test_target = train_test_split(perch_length, perch_weight, random_state=42)\r\n",
        "train_input = train_input.reshape(-1,1)\r\n",
        "test_input = test_input.reshape(-1,1)"
      ],
      "execution_count": null,
      "outputs": []
    },
    {
      "cell_type": "code",
      "metadata": {
        "colab": {
          "base_uri": "https://localhost:8080/"
        },
        "id": "Df58AWae4fX5",
        "outputId": "c3ea250b-2e79-4c0b-aa9e-decd51d4d9d8"
      },
      "source": [
        "from sklearn.neighbors import KNeighborsRegressor\r\n",
        "knr = KNeighborsRegressor(n_neighbors=3)\r\n",
        "knr.fit(train_input, train_target)\r\n",
        "print(knr.predict([[50]])) # length=50cm, weight=???"
      ],
      "execution_count": null,
      "outputs": [
        {
          "output_type": "stream",
          "text": [
            "[1033.33333333]\n"
          ],
          "name": "stdout"
        }
      ]
    },
    {
      "cell_type": "code",
      "metadata": {
        "colab": {
          "base_uri": "https://localhost:8080/",
          "height": 265
        },
        "id": "S4F8TWaQ44P_",
        "outputId": "ae335598-44f5-4e72-9ab1-6aedd8b080e5"
      },
      "source": [
        "import matplotlib.pyplot as plt\r\n",
        "distances, indexes = knr.kneighbors([[50]]) # length=50cm 이웃 구하기\r\n",
        "plt.scatter(train_input, train_target)      # 훈련셋 산점도\r\n",
        "plt.scatter(train_input[indexes], train_target[indexes], marker='D') # 훈련셋 중 이웃\r\n",
        "plt.scatter(50, 1033, marker='^')           # length=50cm 표시\r\n",
        "plt.show()"
      ],
      "execution_count": null,
      "outputs": [
        {
          "output_type": "display_data",
          "data": {
            "image/png": "[encoded data removed]",
            "text/plain": [
              "<Figure size 432x288 with 1 Axes>"
            ]
          },
          "metadata": {
            "tags": [],
            "needs_background": "light"
          }
        }
      ]
    },
    {
      "cell_type": "code",
      "metadata": {
        "colab": {
          "base_uri": "https://localhost:8080/"
        },
        "id": "uYa1zWoh6SuX",
        "outputId": "757e253a-be5d-4cb8-9c44-cce311c42be1"
      },
      "source": [
        "print(np.mean(train_target[indexes])) # 이웃 샘플의 타겟값 평균"
      ],
      "execution_count": null,
      "outputs": [
        {
          "output_type": "stream",
          "text": [
            "1033.3333333333333\n"
          ],
          "name": "stdout"
        }
      ]
    },
    {
      "cell_type": "code",
      "metadata": {
        "colab": {
          "base_uri": "https://localhost:8080/"
        },
        "id": "aAXQscSv6aM8",
        "outputId": "88febbc6-f193-4dbe-cf11-26c45df50fed"
      },
      "source": [
        "print(knr.predict([[100]]))  # 이웃 샘플의 평균값 영향으로 이상치 분석에 한계"
      ],
      "execution_count": null,
      "outputs": [
        {
          "output_type": "stream",
          "text": [
            "[1033.33333333]\n"
          ],
          "name": "stdout"
        }
      ]
    },
    {
      "cell_type": "code",
      "metadata": {
        "colab": {
          "base_uri": "https://localhost:8080/",
          "height": 265
        },
        "id": "t8iOt05p6x5o",
        "outputId": "52954ac4-efea-4b66-919b-d102bc34e68b"
      },
      "source": [
        "import matplotlib.pyplot as plt\r\n",
        "distances, indexes = knr.kneighbors([[50]]) # length=50cm 이웃 구하기\r\n",
        "plt.scatter(train_input, train_target)      # 훈련셋 산점도\r\n",
        "plt.scatter(train_input[indexes], train_target[indexes], marker='D') # 훈련셋 중 이웃\r\n",
        "plt.scatter(100, 1033, marker='^')           # length=100cm 표시\r\n",
        "plt.show()"
      ],
      "execution_count": null,
      "outputs": [
        {
          "output_type": "display_data",
          "data": {
            "image/png": "[encoded data removed]",
            "text/plain": [
              "<Figure size 432x288 with 1 Axes>"
            ]
          },
          "metadata": {
            "tags": [],
            "needs_background": "light"
          }
        }
      ]
    },
    {
      "cell_type": "markdown",
      "metadata": {
        "id": "NnzJmAgG7CCi"
      },
      "source": [
        "선형회귀"
      ]
    },
    {
      "cell_type": "code",
      "metadata": {
        "id": "-tgtck697DCo",
        "colab": {
          "base_uri": "https://localhost:8080/"
        },
        "outputId": "04b0c01a-c8c2-4765-bc2d-3970919349c2"
      },
      "source": [
        "from sklearn.linear_model import LinearRegression\r\n",
        "lr = LinearRegression()\r\n",
        "lr.fit(train_input, train_target)\r\n",
        "print(lr.predict([[50]]))"
      ],
      "execution_count": null,
      "outputs": [
        {
          "output_type": "stream",
          "text": [
            "[1241.83860323]\n"
          ],
          "name": "stdout"
        }
      ]
    },
    {
      "cell_type": "code",
      "metadata": {
        "colab": {
          "base_uri": "https://localhost:8080/"
        },
        "id": "HNsMjtWS1fdY",
        "outputId": "1ddeba66-0f04-49b3-fab3-608d4a733e0c"
      },
      "source": [
        "print(lr.coef_, lr.intercept_) #coef: 기울기, 계수, intercept: 절편"
      ],
      "execution_count": null,
      "outputs": [
        {
          "output_type": "stream",
          "text": [
            "[39.01714496] -709.0186449535477\n"
          ],
          "name": "stdout"
        }
      ]
    },
    {
      "cell_type": "code",
      "metadata": {
        "colab": {
          "base_uri": "https://localhost:8080/",
          "height": 265
        },
        "id": "ziOaR6mg1xNn",
        "outputId": "4fa23630-f412-4255-b1a8-797eea3deb25"
      },
      "source": [
        "plt.scatter(train_input, train_target)\r\n",
        "plt.plot([15,50],[15*lr.coef_ + lr.intercept_, 50*lr.coef_ + lr.intercept_])\r\n",
        "plt.scatter(50, 1241, marker='^')\r\n",
        "plt.show()"
      ],
      "execution_count": null,
      "outputs": [
        {
          "output_type": "display_data",
          "data": {
            "image/png": "[encoded data removed]",
            "text/plain": [
              "<Figure size 432x288 with 1 Axes>"
            ]
          },
          "metadata": {
            "tags": [],
            "needs_background": "light"
          }
        }
      ]
    },
    {
      "cell_type": "code",
      "metadata": {
        "colab": {
          "base_uri": "https://localhost:8080/"
        },
        "id": "EAEpr16O1nAv",
        "outputId": "2a68bf1f-8891-43b8-f46a-cb3efe8c8a82"
      },
      "source": [
        "print(lr.score(train_input, train_target))\r\n",
        "print(lr.score(test_input, test_target))"
      ],
      "execution_count": null,
      "outputs": [
        {
          "output_type": "stream",
          "text": [
            "0.9398463339976039\n",
            "0.8247503123313558\n"
          ],
          "name": "stdout"
        }
      ]
    },
    {
      "cell_type": "markdown",
      "metadata": {
        "id": "di7usq9l2otd"
      },
      "source": [
        "다항회귀"
      ]
    },
    {
      "cell_type": "code",
      "metadata": {
        "colab": {
          "base_uri": "https://localhost:8080/"
        },
        "id": "q5In_hOR2tEC",
        "outputId": "3890037b-5aa0-4d5b-da7e-7728bd8000b4"
      },
      "source": [
        "train_poly = np.column_stack((train_input**2, train_input))\r\n",
        "test_poly = np.column_stack((test_input**2, test_input))\r\n",
        "print(train_poly.shape, test_poly.shape)"
      ],
      "execution_count": null,
      "outputs": [
        {
          "output_type": "stream",
          "text": [
            "(42, 2) (14, 2)\n"
          ],
          "name": "stdout"
        }
      ]
    },
    {
      "cell_type": "code",
      "metadata": {
        "colab": {
          "base_uri": "https://localhost:8080/"
        },
        "id": "QtpHKpRa2juV",
        "outputId": "114c0e4b-c87c-4039-9d36-ce5947964eda"
      },
      "source": [
        "lr = LinearRegression()\r\n",
        "lr.fit(train_poly, train_target)\r\n",
        "print(lr.predict([[50**2, 50]]))\r\n",
        "print(lr.coef_, lr.intercept_)"
      ],
      "execution_count": null,
      "outputs": [
        {
          "output_type": "stream",
          "text": [
            "[1573.98423528]\n",
            "[  1.01433211 -21.55792498] 116.05021078278276\n"
          ],
          "name": "stdout"
        }
      ]
    },
    {
      "cell_type": "code",
      "metadata": {
        "colab": {
          "base_uri": "https://localhost:8080/",
          "height": 265
        },
        "id": "xmf-BGtx2p8J",
        "outputId": "ac34ab80-30a6-4448-9378-012fd60d8301"
      },
      "source": [
        "point = np.arange(15,50)\r\n",
        "plt.scatter(train_input, train_target)\r\n",
        "plt.plot(point, 1.01*point**2 - 21.6*point + 116.05)\r\n",
        "plt.scatter([50],[1574],marker='^')\r\n",
        "plt.show()"
      ],
      "execution_count": null,
      "outputs": [
        {
          "output_type": "display_data",
          "data": {
            "image/png": "[encoded data removed]",
            "text/plain": [
              "<Figure size 432x288 with 1 Axes>"
            ]
          },
          "metadata": {
            "tags": [],
            "needs_background": "light"
          }
        }
      ]
    },
    {
      "cell_type": "code",
      "metadata": {
        "colab": {
          "base_uri": "https://localhost:8080/"
        },
        "id": "pZ6AnAyj4ZqN",
        "outputId": "6ec8118a-d8c1-43b5-eae2-fc65a393f2b9"
      },
      "source": [
        "print(lr.score(train_poly, train_target))\r\n",
        "print(lr.score(test_poly, test_target))"
      ],
      "execution_count": null,
      "outputs": [
        {
          "output_type": "stream",
          "text": [
            "0.9706807451768623\n",
            "0.9775935108325122\n"
          ],
          "name": "stdout"
        }
      ]
    },
    {
      "cell_type": "markdown",
      "metadata": {
        "id": "lJyF3tQi41i7"
      },
      "source": [
        "### 3-3. 특성공학과 규제 (1/17)"
      ]
    },
    {
      "cell_type": "markdown",
      "metadata": {
        "id": "J2M7Zn0C_GN3"
      },
      "source": [
        "다중회귀"
      ]
    },
    {
      "cell_type": "code",
      "metadata": {
        "id": "fiQVAGHd44ty"
      },
      "source": [
        "import pandas as pd\r\n",
        "df = pd.read_csv('https://bit.ly/perch_csv')\r\n",
        "perch_full = df.to_numpy()\r\n",
        "print(perch_full)"
      ],
      "execution_count": null,
      "outputs": []
    },
    {
      "cell_type": "code",
      "metadata": {
        "id": "ZZa--7-jINhg"
      },
      "source": [
        "import numpy as np\r\n",
        "perch_weight = np.array([5.9, 32.0, 40.0, 51.5, 70.0, 100.0, 78.0, 80.0, 85.0, 85.0, 110.0,\r\n",
        "       115.0, 125.0, 130.0, 120.0, 120.0, 130.0, 135.0, 110.0, 130.0,\r\n",
        "       150.0, 145.0, 150.0, 170.0, 225.0, 145.0, 188.0, 180.0, 197.0,\r\n",
        "       218.0, 300.0, 260.0, 265.0, 250.0, 250.0, 300.0, 320.0, 514.0,\r\n",
        "       556.0, 840.0, 685.0, 700.0, 700.0, 690.0, 900.0, 650.0, 820.0,\r\n",
        "       850.0, 900.0, 1015.0, 820.0, 1100.0, 1000.0, 1100.0, 1000.0,\r\n",
        "       1000.0])"
      ],
      "execution_count": null,
      "outputs": []
    },
    {
      "cell_type": "code",
      "metadata": {
        "id": "W8vSZGReODut"
      },
      "source": [
        "from sklearn.model_selection import train_test_split\r\n",
        "train_input, test_input, train_target, test_target = train_test_split(perch_full, perch_weight, random_state=42)"
      ],
      "execution_count": null,
      "outputs": []
    },
    {
      "cell_type": "code",
      "metadata": {
        "colab": {
          "base_uri": "https://localhost:8080/"
        },
        "id": "ba774hroOYxS",
        "outputId": "daed8f1b-1f4e-455f-9bb6-ac237b05b6f6"
      },
      "source": [
        "from sklearn.preprocessing import PolynomialFeatures\r\n",
        "poly = PolynomialFeatures()\r\n",
        "poly.fit([[2,3]])\r\n",
        "print(poly.transform([[2,3]]))"
      ],
      "execution_count": null,
      "outputs": [
        {
          "output_type": "stream",
          "text": [
            "[[1. 2. 3. 4. 6. 9.]]\n"
          ],
          "name": "stdout"
        }
      ]
    },
    {
      "cell_type": "code",
      "metadata": {
        "id": "wAsSWEg_PfSL",
        "colab": {
          "base_uri": "https://localhost:8080/"
        },
        "outputId": "84dad8e5-e0fa-4abe-9f2a-a3094a334704"
      },
      "source": [
        "poly = PolynomialFeatures(include_bias=False)\r\n",
        "poly.fit([[2,3]])\r\n",
        "print(poly.transform([[2,3]]))"
      ],
      "execution_count": null,
      "outputs": [
        {
          "output_type": "stream",
          "text": [
            "[[2. 3. 4. 6. 9.]]\n"
          ],
          "name": "stdout"
        }
      ]
    },
    {
      "cell_type": "code",
      "metadata": {
        "colab": {
          "base_uri": "https://localhost:8080/"
        },
        "id": "Yk68dS1CfW5t",
        "outputId": "4665cea5-a646-40f6-c178-2ac2491b56d7"
      },
      "source": [
        "poly = PolynomialFeatures(include_bias=False)\r\n",
        "poly.fit(train_input)\r\n",
        "train_poly = poly.transform(train_input)\r\n",
        "print(train_poly.shape)"
      ],
      "execution_count": null,
      "outputs": [
        {
          "output_type": "stream",
          "text": [
            "(42, 9)\n"
          ],
          "name": "stdout"
        }
      ]
    },
    {
      "cell_type": "code",
      "metadata": {
        "colab": {
          "base_uri": "https://localhost:8080/"
        },
        "id": "3A6Q5fNqftXF",
        "outputId": "13033ac0-4968-43db-9d54-47e37fee371d"
      },
      "source": [
        "poly.get_feature_names()"
      ],
      "execution_count": null,
      "outputs": [
        {
          "output_type": "execute_result",
          "data": {
            "text/plain": [
              "['x0', 'x1', 'x2', 'x0^2', 'x0 x1', 'x0 x2', 'x1^2', 'x1 x2', 'x2^2']"
            ]
          },
          "metadata": {
            "tags": []
          },
          "execution_count": 10
        }
      ]
    },
    {
      "cell_type": "code",
      "metadata": {
        "id": "Y_uizpbefx1w"
      },
      "source": [
        "test_poly = poly.transform(test_input)"
      ],
      "execution_count": null,
      "outputs": []
    },
    {
      "cell_type": "markdown",
      "metadata": {
        "id": "p8xxmke3gKNo"
      },
      "source": [
        "다중회귀모델"
      ]
    },
    {
      "cell_type": "code",
      "metadata": {
        "colab": {
          "base_uri": "https://localhost:8080/"
        },
        "id": "P6E9mUQXf-SL",
        "outputId": "60e13565-5018-4dfb-e09c-b2fcf5c2f1b9"
      },
      "source": [
        "from sklearn.linear_model import LinearRegression\r\n",
        "lr = LinearRegression()\r\n",
        "lr.fit(train_poly, train_target)\r\n",
        "print(lr.score(train_poly, train_target))\r\n",
        "print(lr.score(test_poly, test_target))"
      ],
      "execution_count": null,
      "outputs": [
        {
          "output_type": "stream",
          "text": [
            "0.9903183436982124\n",
            "0.9714559911594132\n"
          ],
          "name": "stdout"
        }
      ]
    },
    {
      "cell_type": "code",
      "metadata": {
        "colab": {
          "base_uri": "https://localhost:8080/"
        },
        "id": "bdfuQsfngMFt",
        "outputId": "8fa16fb8-0fa3-47c2-8e6f-da0100c24c90"
      },
      "source": [
        "poly = PolynomialFeatures(degree = 5, include_bias=False) # 특성에 5제곱\r\n",
        "poly.fit(train_input)\r\n",
        "train_poly = poly.transform(train_input)\r\n",
        "test_poly = poly.transform(test_input)\r\n",
        "print(train_poly.shape)  # 55개 feature"
      ],
      "execution_count": null,
      "outputs": [
        {
          "output_type": "stream",
          "text": [
            "(42, 55)\n"
          ],
          "name": "stdout"
        }
      ]
    },
    {
      "cell_type": "code",
      "metadata": {
        "colab": {
          "base_uri": "https://localhost:8080/"
        },
        "id": "Ldxu3DTRioyo",
        "outputId": "d9ce9089-c37e-4054-aad8-31ea368c35f4"
      },
      "source": [
        "lr.fit(train_poly, train_target)\r\n",
        "print(lr.score(train_poly, train_target))\r\n",
        "print(lr.score(test_poly, test_target)) # test 과대적합"
      ],
      "execution_count": null,
      "outputs": [
        {
          "output_type": "stream",
          "text": [
            "0.9999999999991096\n",
            "-144.40579242335605\n"
          ],
          "name": "stdout"
        }
      ]
    },
    {
      "cell_type": "markdown",
      "metadata": {
        "id": "pQtnY6MTi2D6"
      },
      "source": [
        "규제"
      ]
    },
    {
      "cell_type": "code",
      "metadata": {
        "id": "D1HfMTo1i3Ob"
      },
      "source": [
        "# 표준점수로 변환한 train, test 준비\r\n",
        "from sklearn.preprocessing import StandardScaler\r\n",
        "ss = StandardScaler()\r\n",
        "ss.fit(train_poly)\r\n",
        "train_scaled = ss.transform(train_poly)\r\n",
        "test_scaled = ss.transform(test_poly)"
      ],
      "execution_count": null,
      "outputs": []
    },
    {
      "cell_type": "markdown",
      "metadata": {
        "id": "XIQM1eQNjxIp"
      },
      "source": [
        "릿지: 계수를 제곱한 값으로 규제 (L2 규제)"
      ]
    },
    {
      "cell_type": "code",
      "metadata": {
        "colab": {
          "base_uri": "https://localhost:8080/"
        },
        "id": "bAPrFWpcjk5U",
        "outputId": "5089267e-fd18-4776-dbf0-ea05a7dc2ef6"
      },
      "source": [
        "from sklearn.linear_model import Ridge\r\n",
        "ridge = Ridge()\r\n",
        "ridge.fit(train_scaled, train_target)\r\n",
        "print(ridge.score(train_scaled, train_target))\r\n",
        "print(ridge.score(test_scaled, test_target))"
      ],
      "execution_count": null,
      "outputs": [
        {
          "output_type": "stream",
          "text": [
            "0.9896101671037343\n",
            "0.9790693977615398\n"
          ],
          "name": "stdout"
        }
      ]
    },
    {
      "cell_type": "code",
      "metadata": {
        "colab": {
          "base_uri": "https://localhost:8080/",
          "height": 265
        },
        "id": "k_Kkw67bqCRz",
        "outputId": "74698893-2509-4f59-c4ec-b7ea963e5c04"
      },
      "source": [
        "import matplotlib.pyplot as plt\r\n",
        "train_score = []\r\n",
        "test_score = []\r\n",
        "\r\n",
        "alpha_list = [0.001, 0.01, 0.1, 1, 10, 100]\r\n",
        "for alpha in alpha_list:\r\n",
        "    ridge = Ridge(alpha=alpha)\r\n",
        "    ridge.fit(train_scaled, train_target)\r\n",
        "    train_score.append(ridge.score(train_scaled, train_target))\r\n",
        "    test_score.append(ridge.score(test_scaled, test_target))\r\n",
        "\r\n",
        "plt.plot(np.log10(alpha_list), train_score)  # 10배씩 늘린 alpha값을 일정하게 표현하기 위해 log10\r\n",
        "plt.plot(np.log10(alpha_list), test_score)\r\n",
        "plt.show() # blue:train, orange:test"
      ],
      "execution_count": null,
      "outputs": [
        {
          "output_type": "display_data",
          "data": {
            "image/png": "[encoded data removed]",
            "text/plain": [
              "<Figure size 432x288 with 1 Axes>"
            ]
          },
          "metadata": {
            "tags": [],
            "needs_background": "light"
          }
        }
      ]
    },
    {
      "cell_type": "code",
      "metadata": {
        "colab": {
          "base_uri": "https://localhost:8080/"
        },
        "id": "SRMMaEnjrF7u",
        "outputId": "f868ae3b-0ac7-4792-e483-6fc2ae6217ad"
      },
      "source": [
        "ridge = Ridge(alpha=0.1)\r\n",
        "ridge.fit(train_scaled, train_target)\r\n",
        "print(ridge.score(train_scaled, train_target))\r\n",
        "print(ridge.score(test_scaled, test_target))"
      ],
      "execution_count": null,
      "outputs": [
        {
          "output_type": "stream",
          "text": [
            "0.9903815817570366\n",
            "0.9827976465386927\n"
          ],
          "name": "stdout"
        }
      ]
    },
    {
      "cell_type": "markdown",
      "metadata": {
        "id": "1uhWMggYtU2P"
      },
      "source": [
        "라쏘: 계수의 절대값으로 규제 (L1 규제)"
      ]
    },
    {
      "cell_type": "code",
      "metadata": {
        "colab": {
          "base_uri": "https://localhost:8080/"
        },
        "id": "vEAeiFnytTLf",
        "outputId": "71adc4c3-4e56-4acf-a0f9-2f0219405772"
      },
      "source": [
        "from sklearn.linear_model import Lasso\r\n",
        "lasso = Lasso()\r\n",
        "lasso.fit(train_scaled, train_target)\r\n",
        "print(lasso.score(train_scaled, train_target))\r\n",
        "print(lasso.score(test_scaled, test_target))"
      ],
      "execution_count": null,
      "outputs": [
        {
          "output_type": "stream",
          "text": [
            "0.9897898972080961\n",
            "0.9800593698421883\n"
          ],
          "name": "stdout"
        }
      ]
    },
    {
      "cell_type": "code",
      "metadata": {
        "colab": {
          "base_uri": "https://localhost:8080/",
          "height": 355
        },
        "id": "63JAzGT8tb8z",
        "outputId": "04be49ae-1542-4b68-9018-18e39b5b312a"
      },
      "source": [
        "import matplotlib.pyplot as plt\r\n",
        "train_score = []\r\n",
        "test_score = []\r\n",
        "\r\n",
        "alpha_list = [0.001, 0.01, 0.1, 1, 10, 100]\r\n",
        "for alpha in alpha_list:\r\n",
        "    lasso = Lasso(alpha=alpha, max_iter=10000)  # max_iter: 반복하는 계산수, \r\n",
        "    lasso.fit(train_scaled, train_target)\r\n",
        "    train_score.append(lasso.score(train_scaled, train_target))\r\n",
        "    test_score.append(lasso.score(test_scaled, test_target))\r\n",
        "\r\n",
        "plt.plot(np.log10(alpha_list), train_score)  # 10배씩 늘린 alpha값을 일정하게 표현하기 위해 log10\r\n",
        "plt.plot(np.log10(alpha_list), test_score)\r\n",
        "plt.show() # blue:train, orange:test"
      ],
      "execution_count": null,
      "outputs": [
        {
          "output_type": "stream",
          "text": [
            "/usr/local/lib/python3.6/dist-packages/sklearn/linear_model/_coordinate_descent.py:476: ConvergenceWarning: Objective did not converge. You might want to increase the number of iterations. Duality gap: 18778.697957792876, tolerance: 518.2793833333334\n",
            "  positive)\n",
            "/usr/local/lib/python3.6/dist-packages/sklearn/linear_model/_coordinate_descent.py:476: ConvergenceWarning: Objective did not converge. You might want to increase the number of iterations. Duality gap: 12972.821345404844, tolerance: 518.2793833333334\n",
            "  positive)\n"
          ],
          "name": "stderr"
        },
        {
          "output_type": "display_data",
          "data": {
            "image/png": "[encoded data removed]",
            "text/plain": [
              "<Figure size 432x288 with 1 Axes>"
            ]
          },
          "metadata": {
            "tags": [],
            "needs_background": "light"
          }
        }
      ]
    },
    {
      "cell_type": "code",
      "metadata": {
        "colab": {
          "base_uri": "https://localhost:8080/"
        },
        "id": "KqR6aNatvUa0",
        "outputId": "1659f1b1-ec74-45b9-8219-f6416fef4569"
      },
      "source": [
        "lasso = Lasso(alpha=10)\r\n",
        "lasso.fit(train_scaled, train_target)\r\n",
        "print(lasso.score(train_scaled, train_target))\r\n",
        "print(lasso.score(test_scaled, test_target))"
      ],
      "execution_count": null,
      "outputs": [
        {
          "output_type": "stream",
          "text": [
            "0.9888067471131867\n",
            "0.9824470598706695\n"
          ],
          "name": "stdout"
        }
      ]
    },
    {
      "cell_type": "code",
      "metadata": {
        "colab": {
          "base_uri": "https://localhost:8080/"
        },
        "id": "4m8CWQLyvqFW",
        "outputId": "b2a12a7a-6294-4768-e4b0-0cee60c7a4b4"
      },
      "source": [
        "print(np.sum(lasso.coef_ == 0)) # 55개 특성 중에 40개 = 0, 15개 특성만 사용함"
      ],
      "execution_count": null,
      "outputs": [
        {
          "output_type": "stream",
          "text": [
            "40\n"
          ],
          "name": "stdout"
        }
      ]
    },
    {
      "cell_type": "markdown",
      "metadata": {
        "id": "9gHlFRuqxKU0"
      },
      "source": [
        "# 4. 다양한 분류 알고리즘"
      ]
    },
    {
      "cell_type": "markdown",
      "metadata": {
        "id": "C4AWdqZ6xP5O"
      },
      "source": [
        "### 04-1. 로지스틱 회귀"
      ]
    },
    {
      "cell_type": "code",
      "metadata": {
        "colab": {
          "base_uri": "https://localhost:8080/",
          "height": 196
        },
        "id": "nNUAJBJxxOpY",
        "outputId": "d37fd2c5-a624-419f-9511-ad9c6911a324"
      },
      "source": [
        "import pandas as pd\r\n",
        "fish = pd.read_csv('https://bit.ly/fish_csv')\r\n",
        "fish.head()"
      ],
      "execution_count": null,
      "outputs": [
        {
          "output_type": "execute_result",
          "data": {
            "text/html": [
              "<div>\n",
              "<style scoped>\n",
              "    .dataframe tbody tr th:only-of-type {\n",
              "        vertical-align: middle;\n",
              "    }\n",
              "\n",
              "    .dataframe tbody tr th {\n",
              "        vertical-align: top;\n",
              "    }\n",
              "\n",
              "    .dataframe thead th {\n",
              "        text-align: right;\n",
              "    }\n",
              "</style>\n",
              "<table border=\"1\" class=\"dataframe\">\n",
              "  <thead>\n",
              "    <tr style=\"text-align: right;\">\n",
              "      <th></th>\n",
              "      <th>Species</th>\n",
              "      <th>Weight</th>\n",
              "      <th>Length</th>\n",
              "      <th>Diagonal</th>\n",
              "      <th>Height</th>\n",
              "      <th>Width</th>\n",
              "    </tr>\n",
              "  </thead>\n",
              "  <tbody>\n",
              "    <tr>\n",
              "      <th>0</th>\n",
              "      <td>Bream</td>\n",
              "      <td>242.0</td>\n",
              "      <td>25.4</td>\n",
              "      <td>30.0</td>\n",
              "      <td>11.5200</td>\n",
              "      <td>4.0200</td>\n",
              "    </tr>\n",
              "    <tr>\n",
              "      <th>1</th>\n",
              "      <td>Bream</td>\n",
              "      <td>290.0</td>\n",
              "      <td>26.3</td>\n",
              "      <td>31.2</td>\n",
              "      <td>12.4800</td>\n",
              "      <td>4.3056</td>\n",
              "    </tr>\n",
              "    <tr>\n",
              "      <th>2</th>\n",
              "      <td>Bream</td>\n",
              "      <td>340.0</td>\n",
              "      <td>26.5</td>\n",
              "      <td>31.1</td>\n",
              "      <td>12.3778</td>\n",
              "      <td>4.6961</td>\n",
              "    </tr>\n",
              "    <tr>\n",
              "      <th>3</th>\n",
              "      <td>Bream</td>\n",
              "      <td>363.0</td>\n",
              "      <td>29.0</td>\n",
              "      <td>33.5</td>\n",
              "      <td>12.7300</td>\n",
              "      <td>4.4555</td>\n",
              "    </tr>\n",
              "    <tr>\n",
              "      <th>4</th>\n",
              "      <td>Bream</td>\n",
              "      <td>430.0</td>\n",
              "      <td>29.0</td>\n",
              "      <td>34.0</td>\n",
              "      <td>12.4440</td>\n",
              "      <td>5.1340</td>\n",
              "    </tr>\n",
              "  </tbody>\n",
              "</table>\n",
              "</div>"
            ],
            "text/plain": [
              "  Species  Weight  Length  Diagonal   Height   Width\n",
              "0   Bream   242.0    25.4      30.0  11.5200  4.0200\n",
              "1   Bream   290.0    26.3      31.2  12.4800  4.3056\n",
              "2   Bream   340.0    26.5      31.1  12.3778  4.6961\n",
              "3   Bream   363.0    29.0      33.5  12.7300  4.4555\n",
              "4   Bream   430.0    29.0      34.0  12.4440  5.1340"
            ]
          },
          "metadata": {
            "tags": []
          },
          "execution_count": 1
        }
      ]
    },
    {
      "cell_type": "code",
      "metadata": {
        "colab": {
          "base_uri": "https://localhost:8080/"
        },
        "id": "vTJDDZnoxUpZ",
        "outputId": "69a1f4aa-70f3-4feb-a3b8-13d7cf60ee4a"
      },
      "source": [
        "print(pd.unique(fish['Species']))"
      ],
      "execution_count": null,
      "outputs": [
        {
          "output_type": "stream",
          "text": [
            "['Bream' 'Roach' 'Whitefish' 'Parkki' 'Perch' 'Pike' 'Smelt']\n"
          ],
          "name": "stdout"
        }
      ]
    },
    {
      "cell_type": "code",
      "metadata": {
        "colab": {
          "base_uri": "https://localhost:8080/"
        },
        "id": "FnXz28Wgy0v1",
        "outputId": "5b0550fa-f815-4629-d354-1a4022437de5"
      },
      "source": [
        "fish_input = fish[['Weight','Length','Diagonal','Height','Width']].to_numpy()\r\n",
        "fish_target = fish[['Species']].to_numpy()\r\n",
        "print(fish_input[:3])"
      ],
      "execution_count": null,
      "outputs": [
        {
          "output_type": "stream",
          "text": [
            "[[242.      25.4     30.      11.52     4.02  ]\n",
            " [290.      26.3     31.2     12.48     4.3056]\n",
            " [340.      26.5     31.1     12.3778   4.6961]]\n"
          ],
          "name": "stdout"
        }
      ]
    },
    {
      "cell_type": "code",
      "metadata": {
        "id": "62rPRenEzExO"
      },
      "source": [
        "from sklearn.model_selection import train_test_split\r\n",
        "train_input, test_input, train_target, test_target = train_test_split(fish_input, fish_target, random_state=42)"
      ],
      "execution_count": null,
      "outputs": []
    },
    {
      "cell_type": "code",
      "metadata": {
        "id": "rrPNZHib0kWj"
      },
      "source": [
        "# 표준화 전처리\r\n",
        "from sklearn.preprocessing import StandardScaler\r\n",
        "ss = StandardScaler()\r\n",
        "ss.fit(train_input)\r\n",
        "train_scaled = ss.transform(train_input)\r\n",
        "test_scaled = ss.transform(test_input)"
      ],
      "execution_count": null,
      "outputs": []
    },
    {
      "cell_type": "markdown",
      "metadata": {
        "id": "s5JH7jmiYg42"
      },
      "source": [
        "K-최근접 이웃 분류기의 확률 예측"
      ]
    },
    {
      "cell_type": "code",
      "metadata": {
        "colab": {
          "base_uri": "https://localhost:8080/"
        },
        "id": "xMZZnXRv08rV",
        "outputId": "80ec85db-b1ca-4fd3-97f6-59f0eb88bad1"
      },
      "source": [
        "from sklearn.neighbors import KNeighborsClassifier\r\n",
        "kn = KNeighborsClassifier(n_neighbors=3)\r\n",
        "kn.fit(train_scaled, train_target)\r\n",
        "print(kn.score(train_scaled, train_target))\r\n",
        "print(kn.score(test_scaled, test_target))"
      ],
      "execution_count": null,
      "outputs": [
        {
          "output_type": "stream",
          "text": [
            "0.8907563025210085\n",
            "0.85\n"
          ],
          "name": "stdout"
        },
        {
          "output_type": "stream",
          "text": [
            "/usr/local/lib/python3.6/dist-packages/ipykernel_launcher.py:3: DataConversionWarning: A column-vector y was passed when a 1d array was expected. Please change the shape of y to (n_samples, ), for example using ravel().\n",
            "  This is separate from the ipykernel package so we can avoid doing imports until\n"
          ],
          "name": "stderr"
        }
      ]
    },
    {
      "cell_type": "code",
      "metadata": {
        "colab": {
          "base_uri": "https://localhost:8080/"
        },
        "id": "hqtWlvQ_ZRjV",
        "outputId": "0c8dd4e8-0c59-4979-f950-b166b5e248f0"
      },
      "source": [
        "print(train_scaled.shape)\r\n",
        "print(train_target.shape)\r\n",
        "print(test_scaled.shape)\r\n",
        "print(test_target.shape)"
      ],
      "execution_count": null,
      "outputs": [
        {
          "output_type": "stream",
          "text": [
            "(119, 5)\n",
            "(119, 1)\n",
            "(40, 5)\n",
            "(40, 1)\n"
          ],
          "name": "stdout"
        }
      ]
    },
    {
      "cell_type": "code",
      "metadata": {
        "colab": {
          "base_uri": "https://localhost:8080/"
        },
        "id": "_EuV8tdk1ce4",
        "outputId": "db1feed3-b4da-4237-ac2a-a5c4715a4c45"
      },
      "source": [
        "print(kn.classes_)"
      ],
      "execution_count": null,
      "outputs": [
        {
          "output_type": "stream",
          "text": [
            "['Bream' 'Parkki' 'Perch' 'Pike' 'Roach' 'Smelt' 'Whitefish']\n"
          ],
          "name": "stdout"
        }
      ]
    },
    {
      "cell_type": "code",
      "metadata": {
        "colab": {
          "base_uri": "https://localhost:8080/"
        },
        "id": "oHAQhoht2vgM",
        "outputId": "d80775a0-fc69-43ab-9194-95c8c37e5bd5"
      },
      "source": [
        "print(kn.predict(test_scaled[:5]))"
      ],
      "execution_count": null,
      "outputs": [
        {
          "output_type": "stream",
          "text": [
            "['Perch' 'Smelt' 'Pike' 'Perch' 'Perch']\n"
          ],
          "name": "stdout"
        }
      ]
    },
    {
      "cell_type": "code",
      "metadata": {
        "colab": {
          "base_uri": "https://localhost:8080/"
        },
        "id": "BsOQrN1q3g6d",
        "outputId": "ba9a4307-abf1-4f97-bb3b-70bfe17788ef"
      },
      "source": [
        "import numpy as np\r\n",
        "proba = kn.predict_proba(test_scaled[:5]) # predict_proba: 클래스별 확률값\r\n",
        "print(np.round(proba, decimals=4))        # decimals: 소수점 자리수"
      ],
      "execution_count": null,
      "outputs": [
        {
          "output_type": "stream",
          "text": [
            "[[0.     0.     1.     0.     0.     0.     0.    ]\n",
            " [0.     0.     0.     0.     0.     1.     0.    ]\n",
            " [0.     0.     0.     1.     0.     0.     0.    ]\n",
            " [0.     0.     0.6667 0.     0.3333 0.     0.    ]\n",
            " [0.     0.     0.6667 0.     0.3333 0.     0.    ]]\n"
          ],
          "name": "stdout"
        }
      ]
    },
    {
      "cell_type": "code",
      "metadata": {
        "colab": {
          "base_uri": "https://localhost:8080/"
        },
        "id": "pzsYezHS4hbV",
        "outputId": "573ee729-bc07-41dc-ab63-9cc22d295039"
      },
      "source": [
        "# 네번째 샘플의 최근접 이웃은?\r\n",
        "distances, indexes = kn.kneighbors(test_scaled[3:4])\r\n",
        "print(train_target[indexes])"
      ],
      "execution_count": null,
      "outputs": [
        {
          "output_type": "stream",
          "text": [
            "[[['Roach']\n",
            "  ['Perch']\n",
            "  ['Perch']]]\n"
          ],
          "name": "stdout"
        }
      ]
    },
    {
      "cell_type": "markdown",
      "metadata": {
        "id": "TH2NC8fo53bC"
      },
      "source": [
        "로지스틱회귀"
      ]
    },
    {
      "cell_type": "code",
      "metadata": {
        "colab": {
          "base_uri": "https://localhost:8080/",
          "height": 265
        },
        "id": "ZIDxPaic5j1L",
        "outputId": "c5e99b23-00c4-4ea2-807b-4abb3c68d04b"
      },
      "source": [
        "# 시그모이드 함수(=로지스틱 함수) 그래프\r\n",
        "import numpy as np\r\n",
        "import matplotlib.pyplot as plt\r\n",
        "z = np.arange(-5,5,0.1) # -5부터 5까지 0.1 간격\r\n",
        "phi = 1 / (1+np.exp(-z))\r\n",
        "plt.plot(z, phi)\r\n",
        "plt.show()"
      ],
      "execution_count": null,
      "outputs": [
        {
          "output_type": "display_data",
          "data": {
            "image/png": "[encoded data removed]",
            "text/plain": [
              "<Figure size 432x288 with 1 Axes>"
            ]
          },
          "metadata": {
            "tags": [],
            "needs_background": "light"
          }
        }
      ]
    },
    {
      "cell_type": "markdown",
      "metadata": {
        "id": "67W0UHpl7bD5"
      },
      "source": [
        "로지스틱회귀로 이진분류"
      ]
    },
    {
      "cell_type": "code",
      "metadata": {
        "colab": {
          "base_uri": "https://localhost:8080/"
        },
        "id": "021pfEwb7dxS",
        "outputId": "2b50b9d7-c9d7-4172-90b1-d75d516ed8df"
      },
      "source": [
        "char_arr = np.array(['A','B','C','D','E'])\r\n",
        "print(char_arr[[True,False,True,False,False]])"
      ],
      "execution_count": null,
      "outputs": [
        {
          "output_type": "stream",
          "text": [
            "['A' 'C']\n"
          ],
          "name": "stdout"
        }
      ]
    },
    {
      "cell_type": "code",
      "metadata": {
        "id": "TsYk7FlG7yR-"
      },
      "source": [
        "bream_smelt_indexes = (train_target == 'Bream') | (train_target == 'Smelt')"
      ],
      "execution_count": null,
      "outputs": []
    },
    {
      "cell_type": "code",
      "metadata": {
        "colab": {
          "base_uri": "https://localhost:8080/"
        },
        "id": "NkZirQqXa4YC",
        "outputId": "2ac69055-57a7-4031-c743-ccaff8e6d479"
      },
      "source": [
        "bream_smelt_indexes.shape"
      ],
      "execution_count": null,
      "outputs": [
        {
          "output_type": "execute_result",
          "data": {
            "text/plain": [
              "(119, 1)"
            ]
          },
          "metadata": {
            "tags": []
          },
          "execution_count": 19
        }
      ]
    },
    {
      "cell_type": "code",
      "metadata": {
        "colab": {
          "base_uri": "https://localhost:8080/"
        },
        "id": "RETLgt7PbMPy",
        "outputId": "149482cc-884c-4a92-a626-e9136276313e"
      },
      "source": [
        "train_scaled.shape"
      ],
      "execution_count": null,
      "outputs": [
        {
          "output_type": "execute_result",
          "data": {
            "text/plain": [
              "(119, 5)"
            ]
          },
          "metadata": {
            "tags": []
          },
          "execution_count": 20
        }
      ]
    },
    {
      "cell_type": "code",
      "metadata": {
        "id": "6VfGHQ4LauMu"
      },
      "source": [
        "# train_bream_smelt = train_scaled[bream_smelt_indexes] ..... 차원이 달라서 실행 오류 발생 (119,1) (119,5)\r\n",
        "target_bream_smelt = train_target[bream_smelt_indexes]"
      ],
      "execution_count": null,
      "outputs": []
    },
    {
      "cell_type": "code",
      "metadata": {
        "id": "FssA3p6bbfcM"
      },
      "source": [
        "from sklearn.linear_model import LogisticRegression\r\n",
        "lr = LogisticRegression()\r\n",
        "lr.fit(train_bream_smelt, target_bream_smelt)"
      ],
      "execution_count": null,
      "outputs": []
    },
    {
      "cell_type": "code",
      "metadata": {
        "id": "EZ09rGHtcdoA"
      },
      "source": [
        "print(\"[처음 5개 샘플 예측]\")\r\n",
        "print(lr.predict(train_bream_smelt[:5]))   \r\n",
        "print(\"\\n[처음 5개 예측 확률]\")\r\n",
        "print(lr.predict_proba(train_bream_smelt[:5]))\r\n",
        "print(\"\\n[Bream:0, Smelt:1]\")\r\n",
        "print(lr.classes_)\r\n",
        "print(\"\\n[기울기와 절편]\")\r\n",
        "print(lr.coef_, lr.intercept_)"
      ],
      "execution_count": null,
      "outputs": []
    },
    {
      "cell_type": "code",
      "metadata": {
        "id": "C_hSZ720d21v"
      },
      "source": [
        "# 로지스틱 회귀 방정식 추출값으로 z 계산\r\n",
        "decisions = lr.dicision_function(train_bream_smelt[:5])\r\n",
        "print(decisions)"
      ],
      "execution_count": null,
      "outputs": []
    },
    {
      "cell_type": "code",
      "metadata": {
        "id": "W8xGX1kZdqwN"
      },
      "source": [
        "# z 값을 시그모이드 함수에 통과시켜 확률 계산 (양성 클래스의 z 반환)\r\n",
        "from scipy.special import expit\r\n",
        "print(expit(decisions))"
      ],
      "execution_count": null,
      "outputs": []
    },
    {
      "cell_type": "markdown",
      "metadata": {
        "id": "AF8RwhgEekYS"
      },
      "source": [
        "로지스틱회귀로 다중분류"
      ]
    },
    {
      "cell_type": "code",
      "metadata": {
        "colab": {
          "base_uri": "https://localhost:8080/"
        },
        "id": "JZI7rqMienkl",
        "outputId": "9e4a93ed-df8f-4b23-8651-a2e84fa4eade"
      },
      "source": [
        "from sklearn.linear_model import LogisticRegression\r\n",
        "lr = LogisticRegression(C=20, max_iter=1000)\r\n",
        "lr.fit(train_scaled, train_target)\r\n",
        "print(lr.score(train_scaled, train_target))\r\n",
        "print(lr.score(test_scaled, test_target))"
      ],
      "execution_count": null,
      "outputs": [
        {
          "output_type": "stream",
          "text": [
            "0.9327731092436975\n",
            "0.925\n"
          ],
          "name": "stdout"
        },
        {
          "output_type": "stream",
          "text": [
            "/usr/local/lib/python3.6/dist-packages/sklearn/utils/validation.py:760: DataConversionWarning: A column-vector y was passed when a 1d array was expected. Please change the shape of y to (n_samples, ), for example using ravel().\n",
            "  y = column_or_1d(y, warn=True)\n"
          ],
          "name": "stderr"
        }
      ]
    },
    {
      "cell_type": "code",
      "metadata": {
        "colab": {
          "base_uri": "https://localhost:8080/"
        },
        "id": "QCtOawS9fQs5",
        "outputId": "d8ea28dd-754a-4c94-dcf4-49286417c69a"
      },
      "source": [
        "print(lr.predict(test_scaled[:5]))"
      ],
      "execution_count": null,
      "outputs": [
        {
          "output_type": "stream",
          "text": [
            "['Perch' 'Smelt' 'Pike' 'Roach' 'Perch']\n"
          ],
          "name": "stdout"
        }
      ]
    },
    {
      "cell_type": "code",
      "metadata": {
        "colab": {
          "base_uri": "https://localhost:8080/"
        },
        "id": "G9Bd1SRVf0MY",
        "outputId": "fb2379f6-cdf3-4154-8b58-0b59229bb3cd"
      },
      "source": [
        "proba = lr.predict_proba(test_scaled[:5])\r\n",
        "print(np.round(proba, decimals=3))"
      ],
      "execution_count": null,
      "outputs": [
        {
          "output_type": "stream",
          "text": [
            "[[0.    0.014 0.841 0.    0.136 0.007 0.003]\n",
            " [0.    0.003 0.044 0.    0.007 0.946 0.   ]\n",
            " [0.    0.    0.034 0.935 0.015 0.016 0.   ]\n",
            " [0.011 0.034 0.306 0.007 0.567 0.    0.076]\n",
            " [0.    0.    0.904 0.002 0.089 0.002 0.001]]\n"
          ],
          "name": "stdout"
        }
      ]
    },
    {
      "cell_type": "code",
      "metadata": {
        "colab": {
          "base_uri": "https://localhost:8080/"
        },
        "id": "0PQFD1Dkf-FI",
        "outputId": "abcb13c3-568d-4bb7-85df-468a785a92ef"
      },
      "source": [
        "print(lr.classes_)"
      ],
      "execution_count": null,
      "outputs": [
        {
          "output_type": "stream",
          "text": [
            "['Bream' 'Parkki' 'Perch' 'Pike' 'Roach' 'Smelt' 'Whitefish']\n"
          ],
          "name": "stdout"
        }
      ]
    },
    {
      "cell_type": "code",
      "metadata": {
        "colab": {
          "base_uri": "https://localhost:8080/"
        },
        "id": "D9e3EpqCgFV-",
        "outputId": "36c4196b-9943-40a2-8d02-481e599b9c30"
      },
      "source": [
        "print(lr.coef_.shape, lr.intercept_.shape)"
      ],
      "execution_count": null,
      "outputs": [
        {
          "output_type": "stream",
          "text": [
            "(7, 5) (7,)\n"
          ],
          "name": "stdout"
        }
      ]
    },
    {
      "cell_type": "markdown",
      "metadata": {
        "id": "CL-sQ9xLgUTk"
      },
      "source": [
        "* 5개의 특성을 사용해 7개의 target 값 확률을 계산함, 클래스마다 7 개의 z 값\r\n",
        "* 이진분류: 시그모이드 함수로 0 < z < 1\r\n",
        "* 다중분류: 소프트맥스 함수로 전체 확률을 1로 압축해 변환(정규화된 지수함수)"
      ]
    },
    {
      "cell_type": "code",
      "metadata": {
        "colab": {
          "base_uri": "https://localhost:8080/"
        },
        "id": "KyQeq_6kgLfF",
        "outputId": "2619c89b-ccf2-4493-af4f-0e82b3b92475"
      },
      "source": [
        "# z1 ~ z7 확률\r\n",
        "decision = lr.decision_function(test_scaled[:5])\r\n",
        "print(np.round(decision, decimals=2))"
      ],
      "execution_count": null,
      "outputs": [
        {
          "output_type": "stream",
          "text": [
            "[[ -6.5    1.03   5.16  -2.73   3.34   0.33  -0.63]\n",
            " [-10.86   1.93   4.77  -2.4    2.98   7.84  -4.26]\n",
            " [ -4.34  -6.23   3.17   6.49   2.36   2.42  -3.87]\n",
            " [ -0.68   0.45   2.65  -1.19   3.26  -5.75   1.26]\n",
            " [ -6.4   -1.99   5.82  -0.11   3.5   -0.11  -0.71]]\n"
          ],
          "name": "stdout"
        }
      ]
    },
    {
      "cell_type": "code",
      "metadata": {
        "colab": {
          "base_uri": "https://localhost:8080/"
        },
        "id": "kn-2EMzhhW-s",
        "outputId": "7b67f634-a786-4546-d151-7ca88c429e44"
      },
      "source": [
        "# softmax\r\n",
        "from scipy.special import softmax\r\n",
        "proba = softmax(decision, axis=1)\r\n",
        "print(np.round(proba, decimals=3))"
      ],
      "execution_count": null,
      "outputs": [
        {
          "output_type": "stream",
          "text": [
            "[[0.    0.014 0.841 0.    0.136 0.007 0.003]\n",
            " [0.    0.003 0.044 0.    0.007 0.946 0.   ]\n",
            " [0.    0.    0.034 0.935 0.015 0.016 0.   ]\n",
            " [0.011 0.034 0.306 0.007 0.567 0.    0.076]\n",
            " [0.    0.    0.904 0.002 0.089 0.002 0.001]]\n"
          ],
          "name": "stdout"
        }
      ]
    },
    {
      "cell_type": "markdown",
      "metadata": {
        "id": "rMyVfSuCiMIz"
      },
      "source": [
        "### 4-2. 확률적 경사 하강법\r\n",
        "* 훈련세트의 샘플을 꺼내서 점진적으로 학습하는 과정\r\n",
        "* 샘플의 수: 1개(확률적), 여러개(미니배치), 모두(배치)\r\n",
        "* Loss function = cost function (미분 가능해야 함-연속값)\r\n",
        "* epoch: 전체 샘플을 모두 사용하는 반복 횟수"
      ]
    },
    {
      "cell_type": "markdown",
      "metadata": {
        "id": "-TL7ccudkQmT"
      },
      "source": [
        "로지스틱 손실함수\r\n",
        "* 양성클래스의 예측확률에 (-)변환. \r\n",
        "* 로그함수를 통해 양성(target=1): -log(예측확률), 음성(target=0): -log(1-예측확률)\r\n",
        "* 이진분류 : logistic loss function\r\n",
        "* 다중분류 : cross-entropy loss function"
      ]
    },
    {
      "cell_type": "markdown",
      "metadata": {
        "id": "Rqzr29JxmU_9"
      },
      "source": [
        "SGD Classifier"
      ]
    },
    {
      "cell_type": "code",
      "metadata": {
        "id": "67dyafBPhqdx"
      },
      "source": [
        "import pandas as pd\r\n",
        "fish = pd.read_csv('https://bit.ly/fish_csv')"
      ],
      "execution_count": null,
      "outputs": []
    },
    {
      "cell_type": "code",
      "metadata": {
        "id": "Np6v7ypRh3_S"
      },
      "source": [
        "fish_input = fish[['Weight','Length','Diagonal','Height','Width']].to_numpy()\r\n",
        "fish_target = fish[['Species']].to_numpy()"
      ],
      "execution_count": null,
      "outputs": []
    },
    {
      "cell_type": "code",
      "metadata": {
        "id": "jkvg3c-5nGO1"
      },
      "source": [
        "from sklearn.model_selection import train_test_split\r\n",
        "train_input, test_input, train_target, test_target = train_test_split(fish_input, fish_target, random_state=42)"
      ],
      "execution_count": null,
      "outputs": []
    },
    {
      "cell_type": "code",
      "metadata": {
        "id": "ZnDX4YWanaXp"
      },
      "source": [
        "# 표준화 전처리(특성값의 스케일을 맞추기)\r\n",
        "from sklearn.preprocessing import StandardScaler\r\n",
        "ss = StandardScaler()\r\n",
        "ss.fit(train_input)\r\n",
        "train_scaled = ss.transform(train_input)\r\n",
        "test_scaled = ss.transform(test_input)"
      ],
      "execution_count": null,
      "outputs": []
    },
    {
      "cell_type": "code",
      "metadata": {
        "colab": {
          "base_uri": "https://localhost:8080/"
        },
        "id": "8MHuwaw2nziI",
        "outputId": "5255156d-5a9a-401d-9efb-d2a870afb20c"
      },
      "source": [
        "# SGDClassifier 는 훈련셋에서 한 개씩 샘플을 꺼내 경사하강법 수행함\r\n",
        "from sklearn.linear_model import SGDClassifier\r\n",
        "sgd = SGDClassifier(loss='log', max_iter=10, random_state=42) #ConvergenceWarning: 모델이 충분히 수렴하지 않음. max_iter 값을 늘려주기\r\n",
        "sgd.fit(train_scaled, train_target)\r\n",
        "print(sgd.score(train_scaled, train_target))\r\n",
        "print(sgd.score(test_scaled, test_target))"
      ],
      "execution_count": null,
      "outputs": [
        {
          "output_type": "stream",
          "text": [
            "0.773109243697479\n",
            "0.775\n"
          ],
          "name": "stdout"
        }
      ]
    },
    {
      "cell_type": "code",
      "metadata": {
        "colab": {
          "base_uri": "https://localhost:8080/"
        },
        "id": "-WIDgbuqocJF",
        "outputId": "f93ff420-1c75-4023-eac1-5d8c158f66d9"
      },
      "source": [
        "sgd.partial_fit(train_scaled, train_target)  # partial_fit: 모델을 이어서 훈련\r\n",
        "print(sgd.score(train_scaled, train_target))\r\n",
        "print(sgd.score(test_scaled, test_target))"
      ],
      "execution_count": null,
      "outputs": [
        {
          "output_type": "stream",
          "text": [
            "0.8151260504201681\n",
            "0.825\n"
          ],
          "name": "stdout"
        }
      ]
    },
    {
      "cell_type": "markdown",
      "metadata": {
        "id": "ZLsnULaKpH1n"
      },
      "source": [
        "에포크와 과대/과소적합"
      ]
    },
    {
      "cell_type": "code",
      "metadata": {
        "id": "FXWSNYMvpJnu"
      },
      "source": [
        "import numpy as np\r\n",
        "sgd = SGDClassifier(loss='log', random_state=42)\r\n",
        "train_score = []\r\n",
        "test_score = []\r\n",
        "classes = np.unique(train_target)"
      ],
      "execution_count": null,
      "outputs": []
    },
    {
      "cell_type": "code",
      "metadata": {
        "id": "4X2pQri0p6iv"
      },
      "source": [
        "for _ in range(0, 300):\r\n",
        "    sgd.partial_fit(train_scaled, train_target, classes=classes)\r\n",
        "    train_score.append(sgd.score(train_scaled, train_target))\r\n",
        "    test_score.append(sgd.score(test_scaled, test_target))"
      ],
      "execution_count": null,
      "outputs": []
    },
    {
      "cell_type": "code",
      "metadata": {
        "colab": {
          "base_uri": "https://localhost:8080/",
          "height": 265
        },
        "id": "9E1SqnSvqZWu",
        "outputId": "219647c3-d8ef-49bb-b782-3b52aeacdc78"
      },
      "source": [
        "import matplotlib.pyplot as plt\r\n",
        "plt.plot(train_score, label='train')\r\n",
        "plt.plot(test_score, label='test')\r\n",
        "plt.legend()\r\n",
        "plt.show()\r\n",
        "# 100회 정도가 적합"
      ],
      "execution_count": null,
      "outputs": [
        {
          "output_type": "display_data",
          "data": {
            "image/png": "[encoded data removed]",
            "text/plain": [
              "<Figure size 432x288 with 1 Axes>"
            ]
          },
          "metadata": {
            "tags": [],
            "needs_background": "light"
          }
        }
      ]
    },
    {
      "cell_type": "code",
      "metadata": {
        "colab": {
          "base_uri": "https://localhost:8080/"
        },
        "id": "NwUKy5t6qtx7",
        "outputId": "f5165ae7-e81e-49b4-ae4f-a98b04aa78d5"
      },
      "source": [
        "sgd = SGDClassifier(loss='log', max_iter=100, tol=None, random_state=42) # tol: 향상될 최소값, None은 강제수행\r\n",
        "sgd.fit(train_scaled, train_target)\r\n",
        "print(sgd.score(train_scaled, train_target))\r\n",
        "print(sgd.score(test_scaled, test_target))"
      ],
      "execution_count": null,
      "outputs": [
        {
          "output_type": "stream",
          "text": [
            "0.957983193277311\n",
            "0.925\n"
          ],
          "name": "stdout"
        }
      ]
    },
    {
      "cell_type": "code",
      "metadata": {
        "colab": {
          "base_uri": "https://localhost:8080/"
        },
        "id": "H_kusiUqrUBp",
        "outputId": "b851baf7-80d9-4d18-a1ba-5f76ca421df9"
      },
      "source": [
        " # loss의 기본값: hinge(= 서포트 벡터 머신)\r\n",
        "sgd = SGDClassifier(loss='hinge', max_iter=100, tol=None, random_state=42)\r\n",
        "sgd.fit(train_scaled, train_target)\r\n",
        "print(sgd.score(train_scaled, train_target))\r\n",
        "print(sgd.score(test_scaled, test_target))"
      ],
      "execution_count": null,
      "outputs": [
        {
          "output_type": "stream",
          "text": [
            "0.9495798319327731\n",
            "0.925\n"
          ],
          "name": "stdout"
        }
      ]
    }
  ]
}
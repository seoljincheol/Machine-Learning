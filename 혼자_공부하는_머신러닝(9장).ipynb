{
  "nbformat": 4,
  "nbformat_minor": 0,
  "metadata": {
    "colab": {
      "name": "혼자_공부하는_머신러닝(9장).ipynb",
      "provenance": [],
      "collapsed_sections": [],
      "include_colab_link": true
    },
    "kernelspec": {
      "name": "python3",
      "display_name": "Python 3"
    }
  },
  "cells": [
    {
      "cell_type": "markdown",
      "metadata": {
        "id": "view-in-github",
        "colab_type": "text"
      },
      "source": [
        "<a href=\"https://colab.research.google.com/github/seoljincheol/Machine-Learning/blob/main/%ED%98%BC%EC%9E%90_%EA%B3%B5%EB%B6%80%ED%95%98%EB%8A%94_%EB%A8%B8%EC%8B%A0%EB%9F%AC%EB%8B%9D(9%EC%9E%A5).ipynb\" target=\"_parent\"><img src=\"https://colab.research.google.com/assets/colab-badge.svg\" alt=\"Open In Colab\"/></a>"
      ]
    },
    {
      "cell_type": "markdown",
      "metadata": {
        "id": "dP-cwf_LnP08"
      },
      "source": [
        "# 9. 텍스트를 위한 인공신경망"
      ]
    },
    {
      "cell_type": "markdown",
      "metadata": {
        "id": "TTyixEaTnUPq"
      },
      "source": [
        "### 9-1. 순차 데이터와 순환 신경망"
      ]
    },
    {
      "cell_type": "markdown",
      "metadata": {
        "id": "Xfg_friLoPkN"
      },
      "source": [
        "* 순차데이터 : 텍스트나 시계열 데이터처럼 순서에 의미가 있는 데이터.(일자별 날씨, 판매실적, 대화, 글 등) \n",
        "* **피드포워드 신경망** : 입력 데이터의 흐름이 앞으로만 전달. Convolutional Neural Network(CNN)\n",
        "\n",
        "* **순환 신경망** : Recurrent Neural Network(RNN). \n",
        ">* **타임스텝** : 이전 샘플의 기억을 담고 있음\n",
        ">* **은닉상태** : 셀Cell의 출력\n",
        ">* **tanh** : 은닉층의 활성화함수로 -1부터 1의 값. hyperbolic tangent.\n",
        ">* **시퀀스** : 순환층에서 하나의 샘플 단위. 시퀀스의 길이 = 타임스텝의 길이\n",
        ">* 시퀀스 길이(타임스텝)와 단어표현의 2차원 배열 -> 순환층을 통과 -> 1차원 배열(순환층의 뉴런 개수에 의해 결정)"
      ]
    },
    {
      "cell_type": "markdown",
      "metadata": {
        "id": "gIPLGoKAvS5Q"
      },
      "source": [
        "### 9-2. RNN으로 IMDB 리뷰 분류하기"
      ]
    },
    {
      "cell_type": "code",
      "metadata": {
        "colab": {
          "base_uri": "https://localhost:8080/"
        },
        "id": "ClcoB6hMnIBq",
        "outputId": "fa31c6a1-c47c-4a0c-8bd9-40daa43d057f"
      },
      "source": [
        "# corpus: 훈련데이터. 말뭉치\n",
        "# token: 분리된 단어. 1개의 토큰이 하나의 타임스탬프\n",
        "\n",
        "from tensorflow.keras.datasets import imdb\n",
        "(train_input, train_target), (test_input, test_target) = imdb.load_data(num_words=500) # 자주 등장하는 단어 500개\n",
        "print(train_input.shape, test_input.shape, train_target.shape, test_target.shape)"
      ],
      "execution_count": null,
      "outputs": [
        {
          "output_type": "stream",
          "text": [
            "<string>:6: VisibleDeprecationWarning: Creating an ndarray from ragged nested sequences (which is a list-or-tuple of lists-or-tuples-or ndarrays with different lengths or shapes) is deprecated. If you meant to do this, you must specify 'dtype=object' when creating the ndarray\n",
            "/usr/local/lib/python3.6/dist-packages/tensorflow/python/keras/datasets/imdb.py:159: VisibleDeprecationWarning: Creating an ndarray from ragged nested sequences (which is a list-or-tuple of lists-or-tuples-or ndarrays with different lengths or shapes) is deprecated. If you meant to do this, you must specify 'dtype=object' when creating the ndarray\n",
            "  x_train, y_train = np.array(xs[:idx]), np.array(labels[:idx])\n"
          ],
          "name": "stderr"
        },
        {
          "output_type": "stream",
          "text": [
            "(25000,) (25000,) (25000,) (25000,)\n"
          ],
          "name": "stdout"
        },
        {
          "output_type": "stream",
          "text": [
            "/usr/local/lib/python3.6/dist-packages/tensorflow/python/keras/datasets/imdb.py:160: VisibleDeprecationWarning: Creating an ndarray from ragged nested sequences (which is a list-or-tuple of lists-or-tuples-or ndarrays with different lengths or shapes) is deprecated. If you meant to do this, you must specify 'dtype=object' when creating the ndarray\n",
            "  x_test, y_test = np.array(xs[idx:]), np.array(labels[idx:])\n"
          ],
          "name": "stderr"
        }
      ]
    },
    {
      "cell_type": "code",
      "metadata": {
        "colab": {
          "base_uri": "https://localhost:8080/"
        },
        "id": "cyesjPXwnSlY",
        "outputId": "925c4194-1099-41b7-e417-45d0b218588f"
      },
      "source": [
        "print(len(train_input[0]))\n",
        "print(len(train_input[1]))"
      ],
      "execution_count": null,
      "outputs": [
        {
          "output_type": "stream",
          "text": [
            "218\n",
            "189\n"
          ],
          "name": "stdout"
        }
      ]
    },
    {
      "cell_type": "code",
      "metadata": {
        "colab": {
          "base_uri": "https://localhost:8080/"
        },
        "id": "Sm9TIBv12X6l",
        "outputId": "5a7eac12-a068-4350-9cab-f3e695ffd7e8"
      },
      "source": [
        "print(train_input[0])"
      ],
      "execution_count": null,
      "outputs": [
        {
          "output_type": "stream",
          "text": [
            "[1, 14, 22, 16, 43, 2, 2, 2, 2, 65, 458, 2, 66, 2, 4, 173, 36, 256, 5, 25, 100, 43, 2, 112, 50, 2, 2, 9, 35, 480, 284, 5, 150, 4, 172, 112, 167, 2, 336, 385, 39, 4, 172, 2, 2, 17, 2, 38, 13, 447, 4, 192, 50, 16, 6, 147, 2, 19, 14, 22, 4, 2, 2, 469, 4, 22, 71, 87, 12, 16, 43, 2, 38, 76, 15, 13, 2, 4, 22, 17, 2, 17, 12, 16, 2, 18, 2, 5, 62, 386, 12, 8, 316, 8, 106, 5, 4, 2, 2, 16, 480, 66, 2, 33, 4, 130, 12, 16, 38, 2, 5, 25, 124, 51, 36, 135, 48, 25, 2, 33, 6, 22, 12, 215, 28, 77, 52, 5, 14, 407, 16, 82, 2, 8, 4, 107, 117, 2, 15, 256, 4, 2, 7, 2, 5, 2, 36, 71, 43, 2, 476, 26, 400, 317, 46, 7, 4, 2, 2, 13, 104, 88, 4, 381, 15, 297, 98, 32, 2, 56, 26, 141, 6, 194, 2, 18, 4, 226, 22, 21, 134, 476, 26, 480, 5, 144, 30, 2, 18, 51, 36, 28, 224, 92, 25, 104, 4, 226, 65, 16, 38, 2, 88, 12, 16, 283, 5, 16, 2, 113, 103, 32, 15, 16, 2, 19, 178, 32]\n"
          ],
          "name": "stdout"
        }
      ]
    },
    {
      "cell_type": "code",
      "metadata": {
        "colab": {
          "base_uri": "https://localhost:8080/"
        },
        "id": "GEoI2zR02X94",
        "outputId": "1942f77f-5496-4fa7-ae43-e9ac8fd66974"
      },
      "source": [
        "print(train_target[:20]) # 부정(0), 긍정(1)"
      ],
      "execution_count": null,
      "outputs": [
        {
          "output_type": "stream",
          "text": [
            "[1 0 0 1 0 0 1 0 1 0 1 0 0 0 0 0 1 1 0 1]\n"
          ],
          "name": "stdout"
        }
      ]
    },
    {
      "cell_type": "code",
      "metadata": {
        "colab": {
          "base_uri": "https://localhost:8080/"
        },
        "id": "4A3hRvXz2YJ8",
        "outputId": "ff221305-d136-4e9f-f644-ceb838b12d2c"
      },
      "source": [
        "# 검증을 위해 train_set을 다시 train(80%), val(20%) set으로 분할\n",
        "from sklearn.model_selection import train_test_split\n",
        "train_input, val_input, train_target, val_target = train_test_split(\n",
        "    train_input, train_target, test_size=0.2, random_state=42)\n",
        "\n",
        "import numpy as np\n",
        "lengths = np.array([len(x) for x in train_input])\n",
        "print(np.mean(lengths), np.median(lengths)) # 리뷰 길이의 평균값, 중간값"
      ],
      "execution_count": null,
      "outputs": [
        {
          "output_type": "stream",
          "text": [
            "239.00925 178.0\n"
          ],
          "name": "stdout"
        }
      ]
    },
    {
      "cell_type": "code",
      "metadata": {
        "id": "765PC99o3sqN"
      },
      "source": [
        "import matplotlib.pyplot as plt\n",
        "plt.hist(lengths)\n",
        "plt.xlabel('length')\n",
        "plt.ylabel('frequency')\n",
        "plt.show()"
      ],
      "execution_count": null,
      "outputs": []
    },
    {
      "cell_type": "code",
      "metadata": {
        "colab": {
          "base_uri": "https://localhost:8080/"
        },
        "id": "G7WwMmDe3s6-",
        "outputId": "d307e1fe-f765-45ad-9ee9-9438eabd07ba"
      },
      "source": [
        "from tensorflow.keras.preprocessing.sequence import pad_sequences\n",
        "train_seq = pad_sequences(train_input, maxlen=100)  # length = 100 / 미달시 0으로 패딩, 초과시 앞부분 잘라냄\n",
        "val_seq = pad_sequences(val_input, maxlen=100)\n",
        "print(train_seq.shape, val_seq.shape)"
      ],
      "execution_count": null,
      "outputs": [
        {
          "output_type": "stream",
          "text": [
            "(20000, 100)\n"
          ],
          "name": "stdout"
        }
      ]
    },
    {
      "cell_type": "code",
      "metadata": {
        "colab": {
          "base_uri": "https://localhost:8080/"
        },
        "id": "iGkx7Wmp5Qmq",
        "outputId": "da474f9a-516a-4c01-a571-44f55cd6596e"
      },
      "source": [
        "print(train_seq[0])"
      ],
      "execution_count": null,
      "outputs": [
        {
          "output_type": "stream",
          "text": [
            "[ 10   4  20   9   2 364 352   5  45   6   2   2  33 269   8   2 142   2\n",
            "   5   2  17  73  17 204   5   2  19  55   2   2  92  66 104  14  20  93\n",
            "  76   2 151  33   4  58  12 188   2 151  12 215  69 224 142  73 237   6\n",
            "   2   7   2   2 188   2 103  14  31  10  10 451   7   2   5   2  80  91\n",
            "   2  30   2  34  14  20 151  50  26 131  49   2  84  46  50  37  80  79\n",
            "   6   2  46   7  14  20  10  10 470 158]\n"
          ],
          "name": "stdout"
        }
      ]
    },
    {
      "cell_type": "code",
      "metadata": {
        "colab": {
          "base_uri": "https://localhost:8080/"
        },
        "id": "bZcIicaP5Qql",
        "outputId": "783fdf57-9c9c-4b7c-978d-0388602ff880"
      },
      "source": [
        "print(train_input[0][-10:])\n",
        "# 뒷부분 일치 > 앞부분 삭제됨, 뒤에 중요 정보가 많다고 판단\n",
        "# pad_sequences() 함수에서 truncating=post로 변경시 뒷부분 삭제."
      ],
      "execution_count": null,
      "outputs": [
        {
          "output_type": "stream",
          "text": [
            "[6, 2, 46, 7, 14, 20, 10, 10, 470, 158]\n"
          ],
          "name": "stdout"
        }
      ]
    },
    {
      "cell_type": "code",
      "metadata": {
        "colab": {
          "base_uri": "https://localhost:8080/"
        },
        "id": "k55kNeK75Q4X",
        "outputId": "e788c70e-a2bf-4c6b-ba32-7f5018c75ab7"
      },
      "source": [
        "print(train_seq[5])\n",
        "# pad_sequences() 함수에서 padding=post로 변경시 뒷부분에 패딩(0)"
      ],
      "execution_count": null,
      "outputs": [
        {
          "output_type": "stream",
          "text": [
            "[  0   0   0   0   1   2 195  19  49   2   2 190   4   2 352   2 183  10\n",
            "  10  13  82  79   4   2  36  71 269   8   2  25  19  49   7   4   2   2\n",
            "   2   2   2  10  10  48  25  40   2  11   2   2  40   2   2   5   4   2\n",
            "   2  95  14 238  56 129   2  10  10  21   2  94 364 352   2   2  11 190\n",
            "  24 484   2   7  94 205 405  10  10  87   2  34  49   2   7   2   2   2\n",
            "   2   2 290   2  46  48  64  18   4   2]\n"
          ],
          "name": "stdout"
        }
      ]
    },
    {
      "cell_type": "markdown",
      "metadata": {
        "id": "x2zG44fV6kXD"
      },
      "source": [
        "RNN(순환신경망) 만들기"
      ]
    },
    {
      "cell_type": "code",
      "metadata": {
        "id": "pb7N7qzc6fPT"
      },
      "source": [
        "from tensorflow import keras\n",
        "model = keras.Sequential()\n",
        "model.add(keras.layers.SimpleRNN(8, input_shape=(100,500)))\n",
        "model.add(keras.layers.Dense(1,activation='sigmoid'))"
      ],
      "execution_count": null,
      "outputs": []
    },
    {
      "cell_type": "code",
      "metadata": {
        "id": "w0ALsSxU6fhb",
        "colab": {
          "base_uri": "https://localhost:8080/"
        },
        "outputId": "b81b9739-d53d-411b-ca9c-98a3105e0850"
      },
      "source": [
        "# 원-핫 인코딩\n",
        "train_oh = keras.utils.to_categorical(train_seq)\n",
        "val_oh = keras.utils.to_categorical(val_seq)\n",
        "print(train_oh.shape)\n",
        "print(val_oh.shape)"
      ],
      "execution_count": null,
      "outputs": [
        {
          "output_type": "stream",
          "text": [
            "(20000, 100, 500)\n",
            "(5000, 100, 500)\n"
          ],
          "name": "stdout"
        }
      ]
    },
    {
      "cell_type": "code",
      "metadata": {
        "id": "S9Y6fK4X6fko",
        "colab": {
          "base_uri": "https://localhost:8080/"
        },
        "outputId": "c114d251-62d9-4f69-89c5-9a4b4ca66cc9"
      },
      "source": [
        "print(train_oh[0][0][:12])"
      ],
      "execution_count": null,
      "outputs": [
        {
          "output_type": "stream",
          "text": [
            "[0. 0. 0. 0. 0. 0. 0. 0. 0. 0. 1. 0.]\n"
          ],
          "name": "stdout"
        }
      ]
    },
    {
      "cell_type": "code",
      "metadata": {
        "id": "Jl-WFTV66fu_",
        "colab": {
          "base_uri": "https://localhost:8080/"
        },
        "outputId": "74cf435a-83a9-4dc5-9982-e932fb7fa1bf"
      },
      "source": [
        "print(np.sum(train_oh[0][0]))"
      ],
      "execution_count": null,
      "outputs": [
        {
          "output_type": "stream",
          "text": [
            "1.0\n"
          ],
          "name": "stdout"
        }
      ]
    },
    {
      "cell_type": "code",
      "metadata": {
        "id": "8RhaQmtHgE7h"
      },
      "source": [
        "model.summary()\n",
        "# 500*8(입력차원*뉴런) + 8*8(은닉상태*뉴런) + 8(절편) = 4072"
      ],
      "execution_count": null,
      "outputs": []
    },
    {
      "cell_type": "markdown",
      "metadata": {
        "id": "9sZuRotrinK7"
      },
      "source": [
        "순환신경망 훈련하기"
      ]
    },
    {
      "cell_type": "code",
      "metadata": {
        "id": "atstuVsDgFRE"
      },
      "source": [
        "rmsprop = keras.optimizers.RMSprop(learning_rate=1e-4) # lr = 0.0001\n",
        "model.compile(optimizer=rmsprop, loss='binary_crossentropy', metrics=['accuracy'])\n",
        "checkpoint_cb = keras.callbacks.ModelCheckpoint('best-simplernn-model.h5')\n",
        "early_stopping_cb = keras.callbacks.EarlyStopping(patience=5, restore_best_weights=True)\n",
        "history = model.fit(train_oh, train_target, epochs=100, batch_size=64,\n",
        "                    validation_data=(val_oh, val_target),\n",
        "                    callbacks=[checkpoint_cb, early_stopping_cb])"
      ],
      "execution_count": null,
      "outputs": []
    },
    {
      "cell_type": "code",
      "metadata": {
        "id": "8qeoDH0xkBuM"
      },
      "source": [
        "plt.plot(history.history['loss'])\n",
        "plt.plot(history.history['val_loss'])\n",
        "plt.xlabel('epoch')\n",
        "plt.ylabel('loss')\n",
        "plt.legend(['train','val'])\n",
        "plt.show()"
      ],
      "execution_count": null,
      "outputs": []
    },
    {
      "cell_type": "code",
      "metadata": {
        "colab": {
          "base_uri": "https://localhost:8080/"
        },
        "id": "6sZTqb8Fkl7v",
        "outputId": "941fb5d6-14da-496c-ebd4-9c348b0b9396"
      },
      "source": [
        "print(train_seq.nbytes, train_oh.nbytes)\n",
        "# seq => one hot recoding 과정에서 데이터 크기가 엄청 커짐"
      ],
      "execution_count": null,
      "outputs": [
        {
          "output_type": "stream",
          "text": [
            "8000000 4000000000\n"
          ],
          "name": "stdout"
        }
      ]
    },
    {
      "cell_type": "markdown",
      "metadata": {
        "id": "x5FNMTAokyU2"
      },
      "source": [
        "Word Embedding"
      ]
    },
    {
      "cell_type": "code",
      "metadata": {
        "id": "0A-4nKN6k0Ix"
      },
      "source": [
        "# 500개 단어 사용, 16(임베딩 벡터 크기), 100(샘플의 길이)\n",
        "model2 = keras.Sequential()\n",
        "model2.add(keras.layers.Embedding(500, 16, input_length = 100))\n",
        "model2.add(keras.layers.SimpleRNN(8))\n",
        "model2.add(keras.layers.Dense(1, activation='sigmoid'))\n",
        "model2.summary()\n",
        "# 500*16 = 8000 (토큰*벡터)\n",
        "# 16*8 + 8*8 + 8 = 200"
      ],
      "execution_count": null,
      "outputs": []
    },
    {
      "cell_type": "code",
      "metadata": {
        "id": "8uapmYSAmQ_B"
      },
      "source": [
        "# 워드임베딩은 원핫인코딩과 비교해 성능은 비슷하지만 순환층의 가중치 개수가 작고, 훈련세트 크기도 줄어듦.\n",
        "rmsprop = keras.optimizers.RMSprop(learning_rate=1e-4) # lr = 0.0001\n",
        "model2.compile(optimizer=rmsprop, loss='binary_crossentropy', metrics=['accuracy'])\n",
        "checkpoint_cb = keras.callbacks.ModelCheckpoint('best-embedding-model.h5')\n",
        "early_stopping_cb = keras.callbacks.EarlyStopping(patience=3, restore_best_weights=True)\n",
        "history = model2.fit(train_seq, train_target, epochs=100, batch_size=64,\n",
        "                    validation_data=(val_seq, val_target),\n",
        "                    callbacks=[checkpoint_cb, early_stopping_cb])"
      ],
      "execution_count": null,
      "outputs": []
    },
    {
      "cell_type": "code",
      "metadata": {
        "id": "o7M0dUiZr8C4"
      },
      "source": [
        "import matplotlib.pyplot as plt\n",
        "\n",
        "plt.plot(history.history['loss'])\n",
        "plt.plot(history.history['val_loss'])\n",
        "plt.xlabel('epoch')\n",
        "plt.ylabel('loss')\n",
        "plt.legend(['train','val'])\n",
        "plt.show()"
      ],
      "execution_count": null,
      "outputs": []
    },
    {
      "cell_type": "markdown",
      "metadata": {
        "id": "Dux144rBzUJg"
      },
      "source": [
        "### 9-3. LSTM과 GPU Cell"
      ]
    },
    {
      "cell_type": "markdown",
      "metadata": {
        "id": "X7_zb3djvD64"
      },
      "source": [
        "LSTM (Long Short-Term Memory)"
      ]
    },
    {
      "cell_type": "code",
      "metadata": {
        "id": "vYRJymzakAp3",
        "colab": {
          "base_uri": "https://localhost:8080/"
        },
        "outputId": "acd9798f-fc17-4bc5-c43a-c84a999833cd"
      },
      "source": [
        "from tensorflow.keras.datasets import imdb\n",
        "from sklearn.model_selection import train_test_split\n",
        "\n",
        "(train_input, train_target), (test_input, test_target) = imdb.load_data(num_words=500)\n",
        "train_input, val_input, train_target, val_target = train_test_split(\n",
        "    train_input, train_target, test_size=0.2, random_state=42)"
      ],
      "execution_count": null,
      "outputs": [
        {
          "output_type": "stream",
          "text": [
            "<string>:6: VisibleDeprecationWarning: Creating an ndarray from ragged nested sequences (which is a list-or-tuple of lists-or-tuples-or ndarrays with different lengths or shapes) is deprecated. If you meant to do this, you must specify 'dtype=object' when creating the ndarray\n",
            "/usr/local/lib/python3.6/dist-packages/tensorflow/python/keras/datasets/imdb.py:159: VisibleDeprecationWarning: Creating an ndarray from ragged nested sequences (which is a list-or-tuple of lists-or-tuples-or ndarrays with different lengths or shapes) is deprecated. If you meant to do this, you must specify 'dtype=object' when creating the ndarray\n",
            "  x_train, y_train = np.array(xs[:idx]), np.array(labels[:idx])\n",
            "/usr/local/lib/python3.6/dist-packages/tensorflow/python/keras/datasets/imdb.py:160: VisibleDeprecationWarning: Creating an ndarray from ragged nested sequences (which is a list-or-tuple of lists-or-tuples-or ndarrays with different lengths or shapes) is deprecated. If you meant to do this, you must specify 'dtype=object' when creating the ndarray\n",
            "  x_test, y_test = np.array(xs[idx:]), np.array(labels[idx:])\n"
          ],
          "name": "stderr"
        }
      ]
    },
    {
      "cell_type": "code",
      "metadata": {
        "id": "HcnEEWBTzc6g"
      },
      "source": [
        "from tensorflow.keras.preprocessing.sequence import pad_sequences\n",
        "train_seq = pad_sequences(train_input, maxlen=100)  # length = 100 / 미달시 0으로 패딩, 초과시 앞부분 잘라냄\n",
        "val_seq = pad_sequences(val_input, maxlen=100)"
      ],
      "execution_count": null,
      "outputs": []
    },
    {
      "cell_type": "code",
      "metadata": {
        "colab": {
          "base_uri": "https://localhost:8080/"
        },
        "id": "b8Q7GtQsz59z",
        "outputId": "cb39aeb6-54f6-4279-f90a-67396ad60312"
      },
      "source": [
        "print(train_seq.shape)\n",
        "print(val_seq.shape)\n",
        "print(train_target.shape)\n",
        "print(val_target.shape)"
      ],
      "execution_count": null,
      "outputs": [
        {
          "output_type": "stream",
          "text": [
            "(20000, 100)\n",
            "(5000, 100)\n",
            "(20000,)\n",
            "(5000,)\n"
          ],
          "name": "stdout"
        }
      ]
    },
    {
      "cell_type": "code",
      "metadata": {
        "id": "WvcVHK920hjG",
        "colab": {
          "base_uri": "https://localhost:8080/"
        },
        "outputId": "181c1dcc-fb87-429e-94a2-707c390ab2ce"
      },
      "source": [
        "from tensorflow import keras\n",
        "model2 = keras.Sequential()\n",
        "model2.add(keras.layers.Embedding(500, 16, input_length = 100))\n",
        "model2.add(keras.layers.LSTM(8))\n",
        "model2.add(keras.layers.Dense(1, activation='sigmoid'))\n",
        "model2.summary()"
      ],
      "execution_count": null,
      "outputs": [
        {
          "output_type": "stream",
          "text": [
            "Model: \"sequential_2\"\n",
            "_________________________________________________________________\n",
            "Layer (type)                 Output Shape              Param #   \n",
            "=================================================================\n",
            "embedding_1 (Embedding)      (None, 100, 16)           8000      \n",
            "_________________________________________________________________\n",
            "lstm (LSTM)                  (None, 8)                 800       \n",
            "_________________________________________________________________\n",
            "dense_2 (Dense)              (None, 1)                 9         \n",
            "=================================================================\n",
            "Total params: 8,809\n",
            "Trainable params: 8,809\n",
            "Non-trainable params: 0\n",
            "_________________________________________________________________\n"
          ],
          "name": "stdout"
        }
      ]
    },
    {
      "cell_type": "code",
      "metadata": {
        "colab": {
          "base_uri": "https://localhost:8080/"
        },
        "id": "P6x5jkuCy5RY",
        "outputId": "758e2564-07b3-47aa-b320-2ed98fcf5e51"
      },
      "source": [
        "rmsprop = keras.optimizers.RMSprop(learning_rate=0.0001)\n",
        "model2.compile(optimizer=rmsprop, loss='binary_crossentropy', metrics=['accuracy'])\n",
        "checkpoint_cb = keras.callbacks.ModelCheckpoint('best-lstm-model.h5')\n",
        "early_stopping_cb = keras.callbacks.EarlyStopping(patience=3, restore_best_weights=True)\n",
        "history = model2.fit(train_seq, train_target, epochs=100, batch_size=64,\n",
        "                     validation_data=(val_seq, val_target),\n",
        "                     callbacks=[checkpoint_cb, early_stopping_cb])"
      ],
      "execution_count": null,
      "outputs": [
        {
          "output_type": "stream",
          "text": [
            "Epoch 1/100\n",
            "313/313 [==============================] - 17s 47ms/step - loss: 0.6929 - accuracy: 0.5164 - val_loss: 0.6912 - val_accuracy: 0.6034\n",
            "Epoch 2/100\n",
            "313/313 [==============================] - 13s 43ms/step - loss: 0.6906 - accuracy: 0.5975 - val_loss: 0.6871 - val_accuracy: 0.6412\n",
            "Epoch 3/100\n",
            "313/313 [==============================] - 14s 45ms/step - loss: 0.6850 - accuracy: 0.6325 - val_loss: 0.6752 - val_accuracy: 0.6628\n",
            "Epoch 4/100\n",
            "313/313 [==============================] - 16s 51ms/step - loss: 0.6669 - accuracy: 0.6581 - val_loss: 0.6159 - val_accuracy: 0.7188\n",
            "Epoch 5/100\n",
            "313/313 [==============================] - 15s 49ms/step - loss: 0.6071 - accuracy: 0.7230 - val_loss: 0.5791 - val_accuracy: 0.7408\n",
            "Epoch 6/100\n",
            "313/313 [==============================] - 14s 44ms/step - loss: 0.5789 - accuracy: 0.7431 - val_loss: 0.5616 - val_accuracy: 0.7528\n",
            "Epoch 7/100\n",
            "313/313 [==============================] - 14s 46ms/step - loss: 0.5590 - accuracy: 0.7527 - val_loss: 0.5477 - val_accuracy: 0.7610\n",
            "Epoch 8/100\n",
            "313/313 [==============================] - 14s 44ms/step - loss: 0.5484 - accuracy: 0.7604 - val_loss: 0.5373 - val_accuracy: 0.7618\n",
            "Epoch 9/100\n",
            "313/313 [==============================] - 14s 44ms/step - loss: 0.5328 - accuracy: 0.7662 - val_loss: 0.5222 - val_accuracy: 0.7708\n",
            "Epoch 10/100\n",
            "313/313 [==============================] - 15s 49ms/step - loss: 0.5190 - accuracy: 0.7722 - val_loss: 0.5121 - val_accuracy: 0.7704\n",
            "Epoch 11/100\n",
            "313/313 [==============================] - 14s 45ms/step - loss: 0.5074 - accuracy: 0.7741 - val_loss: 0.5004 - val_accuracy: 0.7782\n",
            "Epoch 12/100\n",
            "313/313 [==============================] - 14s 43ms/step - loss: 0.4932 - accuracy: 0.7848 - val_loss: 0.4908 - val_accuracy: 0.7822\n",
            "Epoch 13/100\n",
            "313/313 [==============================] - 13s 42ms/step - loss: 0.4853 - accuracy: 0.7863 - val_loss: 0.4809 - val_accuracy: 0.7888\n",
            "Epoch 14/100\n",
            "313/313 [==============================] - 14s 46ms/step - loss: 0.4764 - accuracy: 0.7850 - val_loss: 0.4714 - val_accuracy: 0.7858\n",
            "Epoch 15/100\n",
            "313/313 [==============================] - 14s 46ms/step - loss: 0.4674 - accuracy: 0.7946 - val_loss: 0.4650 - val_accuracy: 0.7918\n",
            "Epoch 16/100\n",
            "313/313 [==============================] - 14s 46ms/step - loss: 0.4649 - accuracy: 0.7878 - val_loss: 0.4593 - val_accuracy: 0.7912\n",
            "Epoch 17/100\n",
            "313/313 [==============================] - 14s 45ms/step - loss: 0.4545 - accuracy: 0.7956 - val_loss: 0.4551 - val_accuracy: 0.7932\n",
            "Epoch 18/100\n",
            "313/313 [==============================] - 13s 43ms/step - loss: 0.4509 - accuracy: 0.7937 - val_loss: 0.4517 - val_accuracy: 0.7920\n",
            "Epoch 19/100\n",
            "313/313 [==============================] - 13s 42ms/step - loss: 0.4390 - accuracy: 0.8069 - val_loss: 0.4494 - val_accuracy: 0.7952\n",
            "Epoch 20/100\n",
            "313/313 [==============================] - 13s 43ms/step - loss: 0.4352 - accuracy: 0.8033 - val_loss: 0.4475 - val_accuracy: 0.7918\n",
            "Epoch 21/100\n",
            "313/313 [==============================] - 13s 42ms/step - loss: 0.4383 - accuracy: 0.8051 - val_loss: 0.4512 - val_accuracy: 0.7922\n",
            "Epoch 22/100\n",
            "313/313 [==============================] - 13s 42ms/step - loss: 0.4367 - accuracy: 0.8033 - val_loss: 0.4446 - val_accuracy: 0.7938\n",
            "Epoch 23/100\n",
            "313/313 [==============================] - 13s 42ms/step - loss: 0.4363 - accuracy: 0.8020 - val_loss: 0.4440 - val_accuracy: 0.7940\n",
            "Epoch 24/100\n",
            "313/313 [==============================] - 13s 42ms/step - loss: 0.4289 - accuracy: 0.8073 - val_loss: 0.4424 - val_accuracy: 0.7940\n",
            "Epoch 25/100\n",
            "313/313 [==============================] - 13s 42ms/step - loss: 0.4250 - accuracy: 0.8091 - val_loss: 0.4422 - val_accuracy: 0.7970\n",
            "Epoch 26/100\n",
            "313/313 [==============================] - 13s 42ms/step - loss: 0.4228 - accuracy: 0.8122 - val_loss: 0.4422 - val_accuracy: 0.7908\n",
            "Epoch 27/100\n",
            "313/313 [==============================] - 14s 45ms/step - loss: 0.4237 - accuracy: 0.8102 - val_loss: 0.4430 - val_accuracy: 0.7964\n",
            "Epoch 28/100\n",
            "313/313 [==============================] - 14s 44ms/step - loss: 0.4237 - accuracy: 0.8100 - val_loss: 0.4419 - val_accuracy: 0.7980\n",
            "Epoch 29/100\n",
            "313/313 [==============================] - 14s 44ms/step - loss: 0.4257 - accuracy: 0.8064 - val_loss: 0.4385 - val_accuracy: 0.7956\n",
            "Epoch 30/100\n",
            "313/313 [==============================] - 13s 42ms/step - loss: 0.4281 - accuracy: 0.8025 - val_loss: 0.4387 - val_accuracy: 0.7940\n",
            "Epoch 31/100\n",
            "313/313 [==============================] - 13s 42ms/step - loss: 0.4235 - accuracy: 0.8111 - val_loss: 0.4372 - val_accuracy: 0.7978\n",
            "Epoch 32/100\n",
            "313/313 [==============================] - 13s 42ms/step - loss: 0.4261 - accuracy: 0.8025 - val_loss: 0.4378 - val_accuracy: 0.7958\n",
            "Epoch 33/100\n",
            "313/313 [==============================] - 14s 45ms/step - loss: 0.4223 - accuracy: 0.8071 - val_loss: 0.4370 - val_accuracy: 0.7972\n",
            "Epoch 34/100\n",
            "313/313 [==============================] - 13s 42ms/step - loss: 0.4194 - accuracy: 0.8086 - val_loss: 0.4386 - val_accuracy: 0.7942\n",
            "Epoch 35/100\n",
            "313/313 [==============================] - 13s 42ms/step - loss: 0.4194 - accuracy: 0.8044 - val_loss: 0.4388 - val_accuracy: 0.7948\n",
            "Epoch 36/100\n",
            "313/313 [==============================] - 13s 42ms/step - loss: 0.4109 - accuracy: 0.8152 - val_loss: 0.4372 - val_accuracy: 0.7966\n"
          ],
          "name": "stdout"
        }
      ]
    },
    {
      "cell_type": "code",
      "metadata": {
        "colab": {
          "base_uri": "https://localhost:8080/",
          "height": 279
        },
        "id": "cikB4CJazgVG",
        "outputId": "252d0257-6854-4f0e-baa2-4ad45853aa83"
      },
      "source": [
        "plt.plot(history.history['loss'])\n",
        "plt.plot(history.history['val_loss'])\n",
        "plt.xlabel('epoch')\n",
        "plt.ylabel('loss')\n",
        "plt.legend(['train','val'])\n",
        "plt.show()"
      ],
      "execution_count": null,
      "outputs": [
        {
          "output_type": "display_data",
          "data": {
            "image/png": "[encoded data removed]",
            "text/plain": [
              "<Figure size 432x288 with 1 Axes>"
            ]
          },
          "metadata": {
            "tags": [],
            "needs_background": "light"
          }
        }
      ]
    },
    {
      "cell_type": "markdown",
      "metadata": {
        "id": "VGRZxg4E6Vk0"
      },
      "source": [
        "Dropout"
      ]
    },
    {
      "cell_type": "code",
      "metadata": {
        "id": "c-wvcbQo6Ypz"
      },
      "source": [
        "from tensorflow import keras\n",
        "model2 = keras.Sequential()\n",
        "model2.add(keras.layers.Embedding(500, 16, input_length = 100))\n",
        "model2.add(keras.layers.LSTM(8, dropout=0.3))\n",
        "model2.add(keras.layers.Dense(1, activation='sigmoid'))\n",
        "model2.summary()"
      ],
      "execution_count": null,
      "outputs": []
    },
    {
      "cell_type": "code",
      "metadata": {
        "colab": {
          "base_uri": "https://localhost:8080/"
        },
        "id": "pmbQzo256neV",
        "outputId": "1a9e5361-9838-40dc-b982-88812e7dd4c0"
      },
      "source": [
        "rmsprop = keras.optimizers.RMSprop(learning_rate=0.0001)\n",
        "model2.compile(optimizer=rmsprop, loss='binary_crossentropy', metrics=['accuracy'])\n",
        "checkpoint_cb = keras.callbacks.ModelCheckpoint('best-dropout-model.h5')\n",
        "early_stopping_cb = keras.callbacks.EarlyStopping(patience=3, restore_best_weights=True)\n",
        "history = model2.fit(train_seq, train_target, epochs=100, batch_size=64,\n",
        "                     validation_data=(val_seq, val_target),\n",
        "                     callbacks=[checkpoint_cb, early_stopping_cb])"
      ],
      "execution_count": null,
      "outputs": [
        {
          "output_type": "stream",
          "text": [
            "Epoch 1/100\n",
            "313/313 [==============================] - 15s 41ms/step - loss: 0.6930 - accuracy: 0.5072 - val_loss: 0.6924 - val_accuracy: 0.5418\n",
            "Epoch 2/100\n",
            "313/313 [==============================] - 12s 39ms/step - loss: 0.6914 - accuracy: 0.5586 - val_loss: 0.6902 - val_accuracy: 0.6008\n",
            "Epoch 3/100\n",
            "313/313 [==============================] - 13s 42ms/step - loss: 0.6888 - accuracy: 0.6110 - val_loss: 0.6859 - val_accuracy: 0.6208\n",
            "Epoch 4/100\n",
            "313/313 [==============================] - 13s 41ms/step - loss: 0.6824 - accuracy: 0.6332 - val_loss: 0.6755 - val_accuracy: 0.6268\n",
            "Epoch 5/100\n",
            "313/313 [==============================] - 13s 41ms/step - loss: 0.6680 - accuracy: 0.6518 - val_loss: 0.6331 - val_accuracy: 0.6784\n",
            "Epoch 6/100\n",
            "313/313 [==============================] - 13s 42ms/step - loss: 0.6088 - accuracy: 0.7106 - val_loss: 0.5792 - val_accuracy: 0.7316\n",
            "Epoch 7/100\n",
            "313/313 [==============================] - 13s 43ms/step - loss: 0.5707 - accuracy: 0.7387 - val_loss: 0.5571 - val_accuracy: 0.7494\n",
            "Epoch 8/100\n",
            "313/313 [==============================] - 13s 42ms/step - loss: 0.5519 - accuracy: 0.7493 - val_loss: 0.5386 - val_accuracy: 0.7598\n",
            "Epoch 9/100\n",
            "313/313 [==============================] - 13s 42ms/step - loss: 0.5375 - accuracy: 0.7553 - val_loss: 0.5224 - val_accuracy: 0.7628\n",
            "Epoch 10/100\n",
            "313/313 [==============================] - 13s 42ms/step - loss: 0.5165 - accuracy: 0.7694 - val_loss: 0.5105 - val_accuracy: 0.7726\n",
            "Epoch 11/100\n",
            "313/313 [==============================] - 13s 41ms/step - loss: 0.5087 - accuracy: 0.7702 - val_loss: 0.5018 - val_accuracy: 0.7790\n",
            "Epoch 12/100\n",
            "313/313 [==============================] - 13s 42ms/step - loss: 0.4933 - accuracy: 0.7788 - val_loss: 0.4878 - val_accuracy: 0.7816\n",
            "Epoch 13/100\n",
            "313/313 [==============================] - 13s 42ms/step - loss: 0.4841 - accuracy: 0.7879 - val_loss: 0.4826 - val_accuracy: 0.7782\n",
            "Epoch 14/100\n",
            "313/313 [==============================] - 13s 42ms/step - loss: 0.4756 - accuracy: 0.7857 - val_loss: 0.4739 - val_accuracy: 0.7816\n",
            "Epoch 15/100\n",
            "313/313 [==============================] - 13s 43ms/step - loss: 0.4687 - accuracy: 0.7899 - val_loss: 0.4661 - val_accuracy: 0.7854\n",
            "Epoch 16/100\n",
            "313/313 [==============================] - 13s 42ms/step - loss: 0.4628 - accuracy: 0.7949 - val_loss: 0.4679 - val_accuracy: 0.7848\n",
            "Epoch 17/100\n",
            "313/313 [==============================] - 13s 43ms/step - loss: 0.4556 - accuracy: 0.7964 - val_loss: 0.4582 - val_accuracy: 0.7896\n",
            "Epoch 18/100\n",
            "313/313 [==============================] - 13s 42ms/step - loss: 0.4515 - accuracy: 0.7956 - val_loss: 0.4549 - val_accuracy: 0.7926\n",
            "Epoch 19/100\n",
            "313/313 [==============================] - 14s 44ms/step - loss: 0.4385 - accuracy: 0.8062 - val_loss: 0.4499 - val_accuracy: 0.7936\n",
            "Epoch 20/100\n",
            "313/313 [==============================] - 13s 42ms/step - loss: 0.4446 - accuracy: 0.7974 - val_loss: 0.4470 - val_accuracy: 0.7952\n",
            "Epoch 21/100\n",
            "313/313 [==============================] - 13s 42ms/step - loss: 0.4408 - accuracy: 0.8036 - val_loss: 0.4470 - val_accuracy: 0.7970\n",
            "Epoch 22/100\n",
            "313/313 [==============================] - 14s 45ms/step - loss: 0.4322 - accuracy: 0.8088 - val_loss: 0.4444 - val_accuracy: 0.7980\n",
            "Epoch 23/100\n",
            "313/313 [==============================] - 13s 42ms/step - loss: 0.4364 - accuracy: 0.8015 - val_loss: 0.4449 - val_accuracy: 0.7930\n",
            "Epoch 24/100\n",
            "313/313 [==============================] - 13s 42ms/step - loss: 0.4346 - accuracy: 0.8028 - val_loss: 0.4390 - val_accuracy: 0.7980\n",
            "Epoch 25/100\n",
            "313/313 [==============================] - 13s 42ms/step - loss: 0.4346 - accuracy: 0.8022 - val_loss: 0.4375 - val_accuracy: 0.8004\n",
            "Epoch 26/100\n",
            "313/313 [==============================] - 13s 42ms/step - loss: 0.4312 - accuracy: 0.8050 - val_loss: 0.4358 - val_accuracy: 0.7986\n",
            "Epoch 27/100\n",
            "313/313 [==============================] - 13s 42ms/step - loss: 0.4209 - accuracy: 0.8119 - val_loss: 0.4388 - val_accuracy: 0.7964\n",
            "Epoch 28/100\n",
            "313/313 [==============================] - 13s 42ms/step - loss: 0.4200 - accuracy: 0.8104 - val_loss: 0.4391 - val_accuracy: 0.8012\n",
            "Epoch 29/100\n",
            "313/313 [==============================] - 13s 42ms/step - loss: 0.4227 - accuracy: 0.8092 - val_loss: 0.4357 - val_accuracy: 0.8008\n",
            "Epoch 30/100\n",
            "313/313 [==============================] - 13s 42ms/step - loss: 0.4214 - accuracy: 0.8120 - val_loss: 0.4320 - val_accuracy: 0.7990\n",
            "Epoch 31/100\n",
            "313/313 [==============================] - 13s 42ms/step - loss: 0.4147 - accuracy: 0.8136 - val_loss: 0.4323 - val_accuracy: 0.8044\n",
            "Epoch 32/100\n",
            "313/313 [==============================] - 13s 42ms/step - loss: 0.4141 - accuracy: 0.8166 - val_loss: 0.4298 - val_accuracy: 0.8010\n",
            "Epoch 33/100\n",
            "313/313 [==============================] - 13s 42ms/step - loss: 0.4205 - accuracy: 0.8122 - val_loss: 0.4316 - val_accuracy: 0.8040\n",
            "Epoch 34/100\n",
            "313/313 [==============================] - 13s 42ms/step - loss: 0.4200 - accuracy: 0.8090 - val_loss: 0.4353 - val_accuracy: 0.7942\n",
            "Epoch 35/100\n",
            "313/313 [==============================] - 13s 43ms/step - loss: 0.4222 - accuracy: 0.8080 - val_loss: 0.4286 - val_accuracy: 0.8024\n",
            "Epoch 36/100\n",
            "313/313 [==============================] - 13s 43ms/step - loss: 0.4162 - accuracy: 0.8142 - val_loss: 0.4276 - val_accuracy: 0.8028\n",
            "Epoch 37/100\n",
            "313/313 [==============================] - 14s 46ms/step - loss: 0.4151 - accuracy: 0.8087 - val_loss: 0.4299 - val_accuracy: 0.7982\n",
            "Epoch 38/100\n",
            "313/313 [==============================] - 14s 45ms/step - loss: 0.4132 - accuracy: 0.8092 - val_loss: 0.4271 - val_accuracy: 0.8048\n",
            "Epoch 39/100\n",
            "313/313 [==============================] - 14s 45ms/step - loss: 0.4137 - accuracy: 0.8135 - val_loss: 0.4264 - val_accuracy: 0.8054\n",
            "Epoch 40/100\n",
            "313/313 [==============================] - 14s 44ms/step - loss: 0.4145 - accuracy: 0.8120 - val_loss: 0.4260 - val_accuracy: 0.8038\n",
            "Epoch 41/100\n",
            "313/313 [==============================] - 14s 44ms/step - loss: 0.4136 - accuracy: 0.8112 - val_loss: 0.4261 - val_accuracy: 0.8058\n",
            "Epoch 42/100\n",
            "313/313 [==============================] - 14s 45ms/step - loss: 0.4093 - accuracy: 0.8124 - val_loss: 0.4261 - val_accuracy: 0.8056\n",
            "Epoch 43/100\n",
            "313/313 [==============================] - 14s 44ms/step - loss: 0.4111 - accuracy: 0.8150 - val_loss: 0.4258 - val_accuracy: 0.8058\n",
            "Epoch 44/100\n",
            "313/313 [==============================] - 13s 43ms/step - loss: 0.4071 - accuracy: 0.8168 - val_loss: 0.4254 - val_accuracy: 0.8070\n",
            "Epoch 45/100\n",
            "313/313 [==============================] - 14s 46ms/step - loss: 0.4065 - accuracy: 0.8171 - val_loss: 0.4255 - val_accuracy: 0.8044\n",
            "Epoch 46/100\n",
            "313/313 [==============================] - 14s 43ms/step - loss: 0.4129 - accuracy: 0.8143 - val_loss: 0.4255 - val_accuracy: 0.8034\n",
            "Epoch 47/100\n",
            "313/313 [==============================] - 13s 42ms/step - loss: 0.4062 - accuracy: 0.8131 - val_loss: 0.4251 - val_accuracy: 0.8036\n",
            "Epoch 48/100\n",
            "313/313 [==============================] - 13s 42ms/step - loss: 0.4077 - accuracy: 0.8163 - val_loss: 0.4250 - val_accuracy: 0.8080\n",
            "Epoch 49/100\n",
            "313/313 [==============================] - 13s 43ms/step - loss: 0.4075 - accuracy: 0.8168 - val_loss: 0.4246 - val_accuracy: 0.8072\n",
            "Epoch 50/100\n",
            "313/313 [==============================] - 13s 42ms/step - loss: 0.3971 - accuracy: 0.8201 - val_loss: 0.4241 - val_accuracy: 0.8072\n",
            "Epoch 51/100\n",
            "313/313 [==============================] - 13s 43ms/step - loss: 0.4034 - accuracy: 0.8179 - val_loss: 0.4239 - val_accuracy: 0.8056\n",
            "Epoch 52/100\n",
            "313/313 [==============================] - 13s 43ms/step - loss: 0.3986 - accuracy: 0.8174 - val_loss: 0.4239 - val_accuracy: 0.8090\n",
            "Epoch 53/100\n",
            "313/313 [==============================] - 13s 43ms/step - loss: 0.4029 - accuracy: 0.8189 - val_loss: 0.4242 - val_accuracy: 0.8078\n",
            "Epoch 54/100\n",
            "313/313 [==============================] - 13s 42ms/step - loss: 0.4011 - accuracy: 0.8145 - val_loss: 0.4254 - val_accuracy: 0.8050\n",
            "Epoch 55/100\n",
            "313/313 [==============================] - 13s 43ms/step - loss: 0.4049 - accuracy: 0.8147 - val_loss: 0.4253 - val_accuracy: 0.8042\n"
          ],
          "name": "stdout"
        }
      ]
    },
    {
      "cell_type": "code",
      "metadata": {
        "colab": {
          "base_uri": "https://localhost:8080/",
          "height": 279
        },
        "id": "ixlTzVkw65KF",
        "outputId": "da5ba0bd-436a-4bed-f362-f2bf1e297e1a"
      },
      "source": [
        "plt.plot(history.history['loss'])\n",
        "plt.plot(history.history['val_loss'])\n",
        "plt.xlabel('epoch')\n",
        "plt.ylabel('loss')\n",
        "plt.legend(['train','val'])\n",
        "plt.show()"
      ],
      "execution_count": null,
      "outputs": [
        {
          "output_type": "display_data",
          "data": {
            "image/png": "[encoded data removed]",
            "text/plain": [
              "<Figure size 432x288 with 1 Axes>"
            ]
          },
          "metadata": {
            "tags": [],
            "needs_background": "light"
          }
        }
      ]
    },
    {
      "cell_type": "markdown",
      "metadata": {
        "id": "xgKUPcH_AE4a"
      },
      "source": [
        "2개 층을 연결하기"
      ]
    },
    {
      "cell_type": "code",
      "metadata": {
        "colab": {
          "base_uri": "https://localhost:8080/"
        },
        "id": "SXZ_RBy6AHVn",
        "outputId": "e0fd9ff4-9369-40d3-b473-2ee47feb5005"
      },
      "source": [
        "from tensorflow import keras\n",
        "model3 = keras.Sequential()\n",
        "model3.add(keras.layers.Embedding(500, 16, input_length = 100))\n",
        "model3.add(keras.layers.LSTM(8, dropout=0.3, return_sequences=True)) # (None,100,8)\n",
        "model3.add(keras.layers.LSTM(8, dropout=0.3))        # hidden-state만 출력 (Noen,8)\n",
        "model3.add(keras.layers.Dense(1, activation='sigmoid'))\n",
        "model3.summary()"
      ],
      "execution_count": null,
      "outputs": [
        {
          "output_type": "stream",
          "text": [
            "Model: \"sequential\"\n",
            "_________________________________________________________________\n",
            "Layer (type)                 Output Shape              Param #   \n",
            "=================================================================\n",
            "simple_rnn (SimpleRNN)       (None, 8)                 4072      \n",
            "_________________________________________________________________\n",
            "dense (Dense)                (None, 1)                 9         \n",
            "=================================================================\n",
            "Total params: 4,081\n",
            "Trainable params: 4,081\n",
            "Non-trainable params: 0\n",
            "_________________________________________________________________\n"
          ],
          "name": "stdout"
        }
      ]
    },
    {
      "cell_type": "code",
      "metadata": {
        "colab": {
          "base_uri": "https://localhost:8080/"
        },
        "id": "fArLBmxdAEoa",
        "outputId": "6b3f8397-111b-4eab-8aea-af6a0b2e27ab"
      },
      "source": [
        "rmsprop = keras.optimizers.RMSprop(learning_rate=0.0001)\n",
        "model3.compile(optimizer=rmsprop, loss='binary_crossentropy', metrics=['accuracy'])\n",
        "checkpoint_cb = keras.callbacks.ModelCheckpoint('best-2rnn-model.h5')\n",
        "early_stopping_cb = keras.callbacks.EarlyStopping(patience=3, restore_best_weights=True)\n",
        "history = model3.fit(train_seq, train_target, epochs=100, batch_size=64,\n",
        "                     validation_data=(val_seq, val_target),\n",
        "                     callbacks=[checkpoint_cb, early_stopping_cb])"
      ],
      "execution_count": null,
      "outputs": [
        {
          "output_type": "stream",
          "text": [
            "Epoch 1/100\n",
            "313/313 [==============================] - 28s 77ms/step - loss: 0.6930 - accuracy: 0.5104 - val_loss: 0.6924 - val_accuracy: 0.5930\n",
            "Epoch 2/100\n",
            "313/313 [==============================] - 25s 80ms/step - loss: 0.6920 - accuracy: 0.5797 - val_loss: 0.6893 - val_accuracy: 0.6392\n",
            "Epoch 3/100\n",
            "313/313 [==============================] - 25s 80ms/step - loss: 0.6868 - accuracy: 0.6277 - val_loss: 0.6715 - val_accuracy: 0.6672\n",
            "Epoch 4/100\n",
            "313/313 [==============================] - 26s 82ms/step - loss: 0.6584 - accuracy: 0.6825 - val_loss: 0.6117 - val_accuracy: 0.7084\n",
            "Epoch 5/100\n",
            "313/313 [==============================] - 26s 83ms/step - loss: 0.5991 - accuracy: 0.7173 - val_loss: 0.5827 - val_accuracy: 0.7120\n",
            "Epoch 6/100\n",
            "313/313 [==============================] - 26s 84ms/step - loss: 0.5698 - accuracy: 0.7296 - val_loss: 0.5514 - val_accuracy: 0.7430\n",
            "Epoch 7/100\n",
            "313/313 [==============================] - 27s 87ms/step - loss: 0.5511 - accuracy: 0.7419 - val_loss: 0.5518 - val_accuracy: 0.7318\n",
            "Epoch 8/100\n",
            "313/313 [==============================] - 25s 80ms/step - loss: 0.5358 - accuracy: 0.7488 - val_loss: 0.5271 - val_accuracy: 0.7500\n",
            "Epoch 9/100\n",
            "313/313 [==============================] - 25s 80ms/step - loss: 0.5216 - accuracy: 0.7570 - val_loss: 0.5126 - val_accuracy: 0.7650\n",
            "Epoch 10/100\n",
            "313/313 [==============================] - 25s 79ms/step - loss: 0.5082 - accuracy: 0.7687 - val_loss: 0.5026 - val_accuracy: 0.7696\n",
            "Epoch 11/100\n",
            "313/313 [==============================] - 25s 79ms/step - loss: 0.5044 - accuracy: 0.7644 - val_loss: 0.4931 - val_accuracy: 0.7690\n",
            "Epoch 12/100\n",
            "313/313 [==============================] - 25s 79ms/step - loss: 0.4955 - accuracy: 0.7694 - val_loss: 0.4912 - val_accuracy: 0.7730\n",
            "Epoch 13/100\n",
            "313/313 [==============================] - 25s 80ms/step - loss: 0.4872 - accuracy: 0.7759 - val_loss: 0.4839 - val_accuracy: 0.7758\n",
            "Epoch 14/100\n",
            "313/313 [==============================] - 26s 82ms/step - loss: 0.4799 - accuracy: 0.7798 - val_loss: 0.4780 - val_accuracy: 0.7806\n",
            "Epoch 15/100\n",
            "313/313 [==============================] - 25s 80ms/step - loss: 0.4758 - accuracy: 0.7816 - val_loss: 0.4772 - val_accuracy: 0.7760\n",
            "Epoch 16/100\n",
            "313/313 [==============================] - 25s 80ms/step - loss: 0.4627 - accuracy: 0.7902 - val_loss: 0.4697 - val_accuracy: 0.7800\n",
            "Epoch 17/100\n",
            "313/313 [==============================] - 25s 79ms/step - loss: 0.4568 - accuracy: 0.7930 - val_loss: 0.4688 - val_accuracy: 0.7810\n",
            "Epoch 18/100\n",
            "313/313 [==============================] - 25s 81ms/step - loss: 0.4600 - accuracy: 0.7900 - val_loss: 0.4607 - val_accuracy: 0.7856\n",
            "Epoch 19/100\n",
            "313/313 [==============================] - 27s 85ms/step - loss: 0.4540 - accuracy: 0.7923 - val_loss: 0.4577 - val_accuracy: 0.7858\n",
            "Epoch 20/100\n",
            "313/313 [==============================] - 25s 81ms/step - loss: 0.4542 - accuracy: 0.7926 - val_loss: 0.4558 - val_accuracy: 0.7884\n",
            "Epoch 21/100\n",
            "313/313 [==============================] - 25s 81ms/step - loss: 0.4455 - accuracy: 0.7990 - val_loss: 0.4569 - val_accuracy: 0.7900\n",
            "Epoch 22/100\n",
            "313/313 [==============================] - 25s 80ms/step - loss: 0.4417 - accuracy: 0.7990 - val_loss: 0.4503 - val_accuracy: 0.7890\n",
            "Epoch 23/100\n",
            "313/313 [==============================] - 26s 82ms/step - loss: 0.4377 - accuracy: 0.8044 - val_loss: 0.4482 - val_accuracy: 0.7896\n",
            "Epoch 24/100\n",
            "313/313 [==============================] - 26s 82ms/step - loss: 0.4408 - accuracy: 0.8004 - val_loss: 0.4502 - val_accuracy: 0.7876\n",
            "Epoch 25/100\n",
            "313/313 [==============================] - 26s 82ms/step - loss: 0.4370 - accuracy: 0.8015 - val_loss: 0.4457 - val_accuracy: 0.7912\n",
            "Epoch 26/100\n",
            "313/313 [==============================] - 26s 83ms/step - loss: 0.4359 - accuracy: 0.8026 - val_loss: 0.4430 - val_accuracy: 0.7912\n",
            "Epoch 27/100\n",
            "313/313 [==============================] - 26s 83ms/step - loss: 0.4306 - accuracy: 0.8072 - val_loss: 0.4426 - val_accuracy: 0.7916\n",
            "Epoch 28/100\n",
            "313/313 [==============================] - 26s 84ms/step - loss: 0.4336 - accuracy: 0.8040 - val_loss: 0.4419 - val_accuracy: 0.7930\n",
            "Epoch 29/100\n",
            "313/313 [==============================] - 26s 84ms/step - loss: 0.4227 - accuracy: 0.8113 - val_loss: 0.4406 - val_accuracy: 0.7944\n",
            "Epoch 30/100\n",
            "313/313 [==============================] - 26s 84ms/step - loss: 0.4312 - accuracy: 0.8064 - val_loss: 0.4394 - val_accuracy: 0.7918\n",
            "Epoch 31/100\n",
            "313/313 [==============================] - 28s 89ms/step - loss: 0.4289 - accuracy: 0.8025 - val_loss: 0.4388 - val_accuracy: 0.7918\n",
            "Epoch 32/100\n",
            "313/313 [==============================] - 27s 85ms/step - loss: 0.4285 - accuracy: 0.8070 - val_loss: 0.4384 - val_accuracy: 0.7922\n",
            "Epoch 33/100\n",
            "313/313 [==============================] - 27s 85ms/step - loss: 0.4252 - accuracy: 0.8080 - val_loss: 0.4378 - val_accuracy: 0.7928\n",
            "Epoch 34/100\n",
            "313/313 [==============================] - 26s 83ms/step - loss: 0.4286 - accuracy: 0.8070 - val_loss: 0.4373 - val_accuracy: 0.7996\n",
            "Epoch 35/100\n",
            "313/313 [==============================] - 26s 83ms/step - loss: 0.4200 - accuracy: 0.8109 - val_loss: 0.4368 - val_accuracy: 0.8006\n",
            "Epoch 36/100\n",
            "313/313 [==============================] - 26s 83ms/step - loss: 0.4202 - accuracy: 0.8119 - val_loss: 0.4347 - val_accuracy: 0.7970\n",
            "Epoch 37/100\n",
            "313/313 [==============================] - 26s 84ms/step - loss: 0.4250 - accuracy: 0.8065 - val_loss: 0.4340 - val_accuracy: 0.7992\n",
            "Epoch 38/100\n",
            "313/313 [==============================] - 26s 84ms/step - loss: 0.4287 - accuracy: 0.8038 - val_loss: 0.4344 - val_accuracy: 0.7960\n",
            "Epoch 39/100\n",
            "313/313 [==============================] - 26s 83ms/step - loss: 0.4220 - accuracy: 0.8102 - val_loss: 0.4329 - val_accuracy: 0.8016\n",
            "Epoch 40/100\n",
            "313/313 [==============================] - 26s 82ms/step - loss: 0.4125 - accuracy: 0.8127 - val_loss: 0.4335 - val_accuracy: 0.7980\n",
            "Epoch 41/100\n",
            "313/313 [==============================] - 26s 82ms/step - loss: 0.4143 - accuracy: 0.8152 - val_loss: 0.4344 - val_accuracy: 0.8042\n",
            "Epoch 42/100\n",
            "313/313 [==============================] - 26s 84ms/step - loss: 0.4172 - accuracy: 0.8098 - val_loss: 0.4334 - val_accuracy: 0.8028\n"
          ],
          "name": "stdout"
        }
      ]
    },
    {
      "cell_type": "code",
      "metadata": {
        "colab": {
          "base_uri": "https://localhost:8080/",
          "height": 279
        },
        "id": "nsik0UZpBaYf",
        "outputId": "6f8c89fa-d6b9-44ee-9fbb-af5b43ee406c"
      },
      "source": [
        "plt.plot(history.history['loss'])\n",
        "plt.plot(history.history['val_loss'])\n",
        "plt.xlabel('epoch')\n",
        "plt.ylabel('loss')\n",
        "plt.legend(['train','val'])\n",
        "plt.show()"
      ],
      "execution_count": null,
      "outputs": [
        {
          "output_type": "display_data",
          "data": {
            "image/png": "[encoded data removed]",
            "text/plain": [
              "<Figure size 432x288 with 1 Axes>"
            ]
          },
          "metadata": {
            "tags": [],
            "needs_background": "light"
          }
        }
      ]
    },
    {
      "cell_type": "markdown",
      "metadata": {
        "id": "AoOMV82SBnyr"
      },
      "source": [
        "GRU (Gated Recurrent Unit)\n",
        "* hidden-state(은닉상태)와 input(입력)에 weight(가중치)를 곱하고 bias(절편)을 더하는 작은 셀 3개가 있음. \n",
        "* 2개는 sigmoid, 1개는 tanh"
      ]
    },
    {
      "cell_type": "code",
      "metadata": {
        "colab": {
          "base_uri": "https://localhost:8080/",
          "height": 297
        },
        "id": "C3nM-pkLCHl-",
        "outputId": "9b0cd94f-3e2e-4da9-9f5a-f0c2d44f8db1"
      },
      "source": [
        "model4 = keras.Sequential()\n",
        "model4.add(keras.layers.Embedding(500, 16, input_length = 100))\n",
        "model4.add(keras.layers.GRU(8))\n",
        "model4.add(keras.layers.Dense(1, activation='sigmoid'))\n",
        "model4.summary()\n",
        "'''\n",
        "# 입력에 곱하는 가중치 : 16*8 = 128\n",
        "# 은닉상태에 곱하는 가중치: 8*8 = 64\n",
        "# 절편은 뉴런마다 있음: 8\n",
        "# (128+64+8) * 3(작은 셀) = 600\n",
        "# 작은 셀마다 절편 추가: 뉴런*작은셀 = 8*3 = 24\n",
        "# 총 모델 파라미터 개수: 600 + 24 = 624\n",
        "'''"
      ],
      "execution_count": null,
      "outputs": [
        {
          "output_type": "stream",
          "text": [
            "Model: \"sequential_7\"\n",
            "_________________________________________________________________\n",
            "Layer (type)                 Output Shape              Param #   \n",
            "=================================================================\n",
            "embedding_6 (Embedding)      (None, 100, 16)           8000      \n",
            "_________________________________________________________________\n",
            "gru_1 (GRU)                  (None, 8)                 624       \n",
            "_________________________________________________________________\n",
            "dense_7 (Dense)              (None, 1)                 9         \n",
            "=================================================================\n",
            "Total params: 8,633\n",
            "Trainable params: 8,633\n",
            "Non-trainable params: 0\n",
            "_________________________________________________________________\n"
          ],
          "name": "stdout"
        },
        {
          "output_type": "execute_result",
          "data": {
            "application/vnd.google.colaboratory.intrinsic+json": {
              "type": "string"
            },
            "text/plain": [
              "'\\n# 입력에 곱하는 가중치 : 16*8 = 128\\n# 은닉상태에 곱하는 가중치: 8*8 = 64\\n# 절편은 뉴런마다 있음: 8\\n# (128+64+8) * 3(작은 셀) = 600\\n# 작은 셀마다 절편 추가: 뉴런*작은셀 = 8*3 = 24\\n# 총 모델 파라미터 개수: 600 + 24 = 624\\n'"
            ]
          },
          "metadata": {
            "tags": []
          },
          "execution_count": 36
        }
      ]
    },
    {
      "cell_type": "code",
      "metadata": {
        "colab": {
          "base_uri": "https://localhost:8080/"
        },
        "id": "moXY_ABsFH6g",
        "outputId": "46ecb5d3-2f91-41ea-9c03-194356b6e38c"
      },
      "source": [
        "rmsprop = keras.optimizers.RMSprop(learning_rate=0.0001)\n",
        "model4.compile(optimizer=rmsprop, loss='binary_crossentropy', metrics=['accuracy'])\n",
        "checkpoint_cb = keras.callbacks.ModelCheckpoint('best-gru-model.h5')\n",
        "early_stopping_cb = keras.callbacks.EarlyStopping(patience=3, restore_best_weights=True)\n",
        "history = model4.fit(train_seq, train_target, epochs=100, batch_size=64,\n",
        "                     validation_data=(val_seq, val_target),\n",
        "                     callbacks=[checkpoint_cb, early_stopping_cb])"
      ],
      "execution_count": null,
      "outputs": [
        {
          "output_type": "stream",
          "text": [
            "Epoch 1/100\n",
            "313/313 [==============================] - 16s 44ms/step - loss: 0.6927 - accuracy: 0.5155 - val_loss: 0.6917 - val_accuracy: 0.5460\n",
            "Epoch 2/100\n",
            "313/313 [==============================] - 13s 42ms/step - loss: 0.6910 - accuracy: 0.5512 - val_loss: 0.6898 - val_accuracy: 0.5660\n",
            "Epoch 3/100\n",
            "313/313 [==============================] - 14s 44ms/step - loss: 0.6889 - accuracy: 0.5728 - val_loss: 0.6868 - val_accuracy: 0.5766\n",
            "Epoch 4/100\n",
            "313/313 [==============================] - 13s 42ms/step - loss: 0.6851 - accuracy: 0.5867 - val_loss: 0.6825 - val_accuracy: 0.5804\n",
            "Epoch 5/100\n",
            "313/313 [==============================] - 13s 42ms/step - loss: 0.6789 - accuracy: 0.6048 - val_loss: 0.6756 - val_accuracy: 0.5908\n",
            "Epoch 6/100\n",
            "313/313 [==============================] - 13s 42ms/step - loss: 0.6702 - accuracy: 0.6233 - val_loss: 0.6653 - val_accuracy: 0.6084\n",
            "Epoch 7/100\n",
            "313/313 [==============================] - 13s 42ms/step - loss: 0.6582 - accuracy: 0.6329 - val_loss: 0.6498 - val_accuracy: 0.6256\n",
            "Epoch 8/100\n",
            "313/313 [==============================] - 14s 44ms/step - loss: 0.6393 - accuracy: 0.6495 - val_loss: 0.6252 - val_accuracy: 0.6542\n",
            "Epoch 9/100\n",
            "313/313 [==============================] - 13s 43ms/step - loss: 0.6052 - accuracy: 0.6812 - val_loss: 0.5819 - val_accuracy: 0.6978\n",
            "Epoch 10/100\n",
            "313/313 [==============================] - 15s 48ms/step - loss: 0.5551 - accuracy: 0.7195 - val_loss: 0.5467 - val_accuracy: 0.7318\n",
            "Epoch 11/100\n",
            "313/313 [==============================] - 13s 42ms/step - loss: 0.5208 - accuracy: 0.7444 - val_loss: 0.5327 - val_accuracy: 0.7398\n",
            "Epoch 12/100\n",
            "313/313 [==============================] - 14s 46ms/step - loss: 0.5137 - accuracy: 0.7527 - val_loss: 0.5219 - val_accuracy: 0.7456\n",
            "Epoch 13/100\n",
            "313/313 [==============================] - 13s 43ms/step - loss: 0.4983 - accuracy: 0.7637 - val_loss: 0.5138 - val_accuracy: 0.7514\n",
            "Epoch 14/100\n",
            "313/313 [==============================] - 13s 41ms/step - loss: 0.4982 - accuracy: 0.7624 - val_loss: 0.5061 - val_accuracy: 0.7602\n",
            "Epoch 15/100\n",
            "313/313 [==============================] - 13s 42ms/step - loss: 0.4831 - accuracy: 0.7726 - val_loss: 0.5002 - val_accuracy: 0.7700\n",
            "Epoch 16/100\n",
            "313/313 [==============================] - 13s 41ms/step - loss: 0.4744 - accuracy: 0.7765 - val_loss: 0.4963 - val_accuracy: 0.7626\n",
            "Epoch 17/100\n",
            "313/313 [==============================] - 13s 42ms/step - loss: 0.4786 - accuracy: 0.7742 - val_loss: 0.4908 - val_accuracy: 0.7726\n",
            "Epoch 18/100\n",
            "313/313 [==============================] - 13s 43ms/step - loss: 0.4635 - accuracy: 0.7854 - val_loss: 0.4871 - val_accuracy: 0.7684\n",
            "Epoch 19/100\n",
            "313/313 [==============================] - 13s 43ms/step - loss: 0.4655 - accuracy: 0.7861 - val_loss: 0.4857 - val_accuracy: 0.7666\n",
            "Epoch 20/100\n",
            "313/313 [==============================] - 13s 41ms/step - loss: 0.4585 - accuracy: 0.7882 - val_loss: 0.4809 - val_accuracy: 0.7720\n",
            "Epoch 21/100\n",
            "313/313 [==============================] - 13s 41ms/step - loss: 0.4569 - accuracy: 0.7919 - val_loss: 0.4779 - val_accuracy: 0.7736\n",
            "Epoch 22/100\n",
            "313/313 [==============================] - 13s 42ms/step - loss: 0.4520 - accuracy: 0.7929 - val_loss: 0.4755 - val_accuracy: 0.7738\n",
            "Epoch 23/100\n",
            "313/313 [==============================] - 14s 43ms/step - loss: 0.4520 - accuracy: 0.7940 - val_loss: 0.4742 - val_accuracy: 0.7738\n",
            "Epoch 24/100\n",
            "313/313 [==============================] - 13s 42ms/step - loss: 0.4455 - accuracy: 0.7971 - val_loss: 0.4708 - val_accuracy: 0.7800\n",
            "Epoch 25/100\n",
            "313/313 [==============================] - 14s 44ms/step - loss: 0.4421 - accuracy: 0.7998 - val_loss: 0.4678 - val_accuracy: 0.7778\n",
            "Epoch 26/100\n",
            "313/313 [==============================] - 14s 44ms/step - loss: 0.4423 - accuracy: 0.8014 - val_loss: 0.4679 - val_accuracy: 0.7760\n",
            "Epoch 27/100\n",
            "313/313 [==============================] - 13s 42ms/step - loss: 0.4417 - accuracy: 0.8026 - val_loss: 0.4661 - val_accuracy: 0.7770\n",
            "Epoch 28/100\n",
            "313/313 [==============================] - 14s 44ms/step - loss: 0.4395 - accuracy: 0.8015 - val_loss: 0.4620 - val_accuracy: 0.7814\n",
            "Epoch 29/100\n",
            "313/313 [==============================] - 14s 43ms/step - loss: 0.4315 - accuracy: 0.8053 - val_loss: 0.4598 - val_accuracy: 0.7830\n",
            "Epoch 30/100\n",
            "313/313 [==============================] - 13s 43ms/step - loss: 0.4313 - accuracy: 0.8088 - val_loss: 0.4583 - val_accuracy: 0.7870\n",
            "Epoch 31/100\n",
            "313/313 [==============================] - 14s 45ms/step - loss: 0.4330 - accuracy: 0.8062 - val_loss: 0.4577 - val_accuracy: 0.7844\n",
            "Epoch 32/100\n",
            "313/313 [==============================] - 14s 44ms/step - loss: 0.4252 - accuracy: 0.8093 - val_loss: 0.4563 - val_accuracy: 0.7850\n",
            "Epoch 33/100\n",
            "313/313 [==============================] - 15s 48ms/step - loss: 0.4281 - accuracy: 0.8085 - val_loss: 0.4542 - val_accuracy: 0.7888\n",
            "Epoch 34/100\n",
            "313/313 [==============================] - 13s 41ms/step - loss: 0.4301 - accuracy: 0.8074 - val_loss: 0.4545 - val_accuracy: 0.7892\n",
            "Epoch 35/100\n",
            "313/313 [==============================] - 13s 42ms/step - loss: 0.4225 - accuracy: 0.8143 - val_loss: 0.4523 - val_accuracy: 0.7884\n",
            "Epoch 36/100\n",
            "313/313 [==============================] - 13s 43ms/step - loss: 0.4266 - accuracy: 0.8090 - val_loss: 0.4515 - val_accuracy: 0.7914\n",
            "Epoch 37/100\n",
            "313/313 [==============================] - 13s 41ms/step - loss: 0.4193 - accuracy: 0.8145 - val_loss: 0.4502 - val_accuracy: 0.7924\n",
            "Epoch 38/100\n",
            "313/313 [==============================] - 13s 41ms/step - loss: 0.4236 - accuracy: 0.8100 - val_loss: 0.4493 - val_accuracy: 0.7924\n",
            "Epoch 39/100\n",
            "313/313 [==============================] - 13s 41ms/step - loss: 0.4207 - accuracy: 0.8140 - val_loss: 0.4500 - val_accuracy: 0.7930\n",
            "Epoch 40/100\n",
            "313/313 [==============================] - 13s 40ms/step - loss: 0.4208 - accuracy: 0.8131 - val_loss: 0.4482 - val_accuracy: 0.7932\n",
            "Epoch 41/100\n",
            "313/313 [==============================] - 13s 41ms/step - loss: 0.4149 - accuracy: 0.8200 - val_loss: 0.4493 - val_accuracy: 0.7922\n",
            "Epoch 42/100\n",
            "313/313 [==============================] - 13s 42ms/step - loss: 0.4174 - accuracy: 0.8162 - val_loss: 0.4469 - val_accuracy: 0.7916\n",
            "Epoch 43/100\n",
            "313/313 [==============================] - 12s 39ms/step - loss: 0.4248 - accuracy: 0.8106 - val_loss: 0.4468 - val_accuracy: 0.7920\n",
            "Epoch 44/100\n",
            "313/313 [==============================] - 12s 40ms/step - loss: 0.4151 - accuracy: 0.8165 - val_loss: 0.4474 - val_accuracy: 0.7900\n",
            "Epoch 45/100\n",
            "313/313 [==============================] - 13s 40ms/step - loss: 0.4139 - accuracy: 0.8162 - val_loss: 0.4468 - val_accuracy: 0.7900\n",
            "Epoch 46/100\n",
            "313/313 [==============================] - 12s 40ms/step - loss: 0.4128 - accuracy: 0.8202 - val_loss: 0.4457 - val_accuracy: 0.7906\n",
            "Epoch 47/100\n",
            "313/313 [==============================] - 12s 39ms/step - loss: 0.4153 - accuracy: 0.8179 - val_loss: 0.4440 - val_accuracy: 0.7956\n",
            "Epoch 48/100\n",
            "313/313 [==============================] - 13s 40ms/step - loss: 0.4187 - accuracy: 0.8142 - val_loss: 0.4430 - val_accuracy: 0.7944\n",
            "Epoch 49/100\n",
            "313/313 [==============================] - 13s 40ms/step - loss: 0.4127 - accuracy: 0.8181 - val_loss: 0.4428 - val_accuracy: 0.7970\n",
            "Epoch 50/100\n",
            "313/313 [==============================] - 12s 40ms/step - loss: 0.4171 - accuracy: 0.8150 - val_loss: 0.4422 - val_accuracy: 0.7928\n",
            "Epoch 51/100\n",
            "313/313 [==============================] - 12s 40ms/step - loss: 0.4175 - accuracy: 0.8142 - val_loss: 0.4458 - val_accuracy: 0.7958\n",
            "Epoch 52/100\n",
            "313/313 [==============================] - 12s 39ms/step - loss: 0.4157 - accuracy: 0.8168 - val_loss: 0.4429 - val_accuracy: 0.7958\n",
            "Epoch 53/100\n",
            "313/313 [==============================] - 12s 40ms/step - loss: 0.4165 - accuracy: 0.8170 - val_loss: 0.4406 - val_accuracy: 0.7958\n",
            "Epoch 54/100\n",
            "313/313 [==============================] - 12s 40ms/step - loss: 0.4154 - accuracy: 0.8143 - val_loss: 0.4414 - val_accuracy: 0.7926\n",
            "Epoch 55/100\n",
            "313/313 [==============================] - 13s 40ms/step - loss: 0.4105 - accuracy: 0.8192 - val_loss: 0.4416 - val_accuracy: 0.7956\n",
            "Epoch 56/100\n",
            "313/313 [==============================] - 13s 40ms/step - loss: 0.4124 - accuracy: 0.8146 - val_loss: 0.4437 - val_accuracy: 0.7896\n"
          ],
          "name": "stdout"
        }
      ]
    },
    {
      "cell_type": "code",
      "metadata": {
        "colab": {
          "base_uri": "https://localhost:8080/",
          "height": 279
        },
        "id": "Iaxpu4JoFLsw",
        "outputId": "5de7863e-60ae-4fee-fb4c-54a861a084aa"
      },
      "source": [
        "plt.plot(history.history['loss'])\n",
        "plt.plot(history.history['val_loss'])\n",
        "plt.xlabel('epoch')\n",
        "plt.ylabel('loss')\n",
        "plt.legend(['train','val'])\n",
        "plt.show()"
      ],
      "execution_count": null,
      "outputs": [
        {
          "output_type": "display_data",
          "data": {
            "image/png": "[encoded data removed]",
            "text/plain": [
              "<Figure size 432x288 with 1 Axes>"
            ]
          },
          "metadata": {
            "tags": [],
            "needs_background": "light"
          }
        }
      ]
    },
    {
      "cell_type": "code",
      "metadata": {
        "id": "FDVZnK_DGAm1"
      },
      "source": [
        "test_seq = pad_sequences(test_input, maxlen=100)\n",
        "rnn_model = keras.models.load_model('best-2rnn-model.h5')\n",
        "rnn_model.evaluate(test_seq, test_target)"
      ],
      "execution_count": null,
      "outputs": []
    }
  ]
}
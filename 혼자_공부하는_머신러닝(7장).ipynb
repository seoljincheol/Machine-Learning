{
  "nbformat": 4,
  "nbformat_minor": 0,
  "metadata": {
    "colab": {
      "name": "혼자_공부하는_머신러닝(7장).ipynb",
      "provenance": [],
      "collapsed_sections": [
        "woClCJhjXyn5"
      ],
      "toc_visible": true,
      "include_colab_link": true
    },
    "kernelspec": {
      "name": "python3",
      "display_name": "Python 3"
    }
  },
  "cells": [
    {
      "cell_type": "markdown",
      "metadata": {
        "id": "view-in-github",
        "colab_type": "text"
      },
      "source": [
        "<a href=\"https://colab.research.google.com/github/seoljincheol/Machine-Learning/blob/main/%ED%98%BC%EC%9E%90_%EA%B3%B5%EB%B6%80%ED%95%98%EB%8A%94_%EB%A8%B8%EC%8B%A0%EB%9F%AC%EB%8B%9D(7%EC%9E%A5).ipynb\" target=\"_parent\"><img src=\"https://colab.research.google.com/assets/colab-badge.svg\" alt=\"Open In Colab\"/></a>"
      ]
    },
    {
      "cell_type": "markdown",
      "metadata": {
        "id": "U-I0Q6U7u_bS"
      },
      "source": [
        "# 7장. 딥러닝을 시작합니다"
      ]
    },
    {
      "cell_type": "markdown",
      "metadata": {
        "id": "Ae9ZfN6CvD2b"
      },
      "source": [
        "### 7-1. 인공신경망"
      ]
    },
    {
      "cell_type": "code",
      "metadata": {
        "colab": {
          "base_uri": "https://localhost:8080/"
        },
        "id": "xmo4i_1fvClS",
        "outputId": "07f7d639-3afa-47cf-ed2b-70599fd6adea"
      },
      "source": [
        "# fashion mnist\r\n",
        "from tensorflow import keras\r\n",
        "(train_input, train_target), (test_input, test_target) = keras.datasets.fashion_mnist.load_data()"
      ],
      "execution_count": null,
      "outputs": [
        {
          "output_type": "stream",
          "text": [
            "Downloading data from https://storage.googleapis.com/tensorflow/tf-keras-datasets/train-labels-idx1-ubyte.gz\n",
            "32768/29515 [=================================] - 0s 0us/step\n",
            "Downloading data from https://storage.googleapis.com/tensorflow/tf-keras-datasets/train-images-idx3-ubyte.gz\n",
            "26427392/26421880 [==============================] - 0s 0us/step\n",
            "Downloading data from https://storage.googleapis.com/tensorflow/tf-keras-datasets/t10k-labels-idx1-ubyte.gz\n",
            "8192/5148 [===============================================] - 0s 0us/step\n",
            "Downloading data from https://storage.googleapis.com/tensorflow/tf-keras-datasets/t10k-images-idx3-ubyte.gz\n",
            "4423680/4422102 [==============================] - 0s 0us/step\n"
          ],
          "name": "stdout"
        }
      ]
    },
    {
      "cell_type": "code",
      "metadata": {
        "colab": {
          "base_uri": "https://localhost:8080/"
        },
        "id": "DO-ORJGuvavR",
        "outputId": "c44e8e80-5b54-4a53-cb54-5e0f47872ebd"
      },
      "source": [
        "print(train_input.shape, train_target.shape)\r\n",
        "print(test_input.shape, test_target.shape)"
      ],
      "execution_count": null,
      "outputs": [
        {
          "output_type": "stream",
          "text": [
            "(60000, 28, 28) (60000,)\n",
            "(10000, 28, 28) (10000,)\n"
          ],
          "name": "stdout"
        }
      ]
    },
    {
      "cell_type": "code",
      "metadata": {
        "colab": {
          "base_uri": "https://localhost:8080/",
          "height": 78
        },
        "id": "wqfH92iBrK6x",
        "outputId": "0cd8cbdd-c539-4623-dbb9-431e58f50404"
      },
      "source": [
        "import matplotlib.pyplot as plt\r\n",
        "fig, axs = plt.subplots(1, 10, figsize=(10,10))\r\n",
        "for i in range(10):\r\n",
        "    axs[i].imshow(train_input[i], cmap='gray_r')\r\n",
        "    axs[i].axis('off')\r\n",
        "plt.show()"
      ],
      "execution_count": null,
      "outputs": [
        {
          "output_type": "display_data",
          "data": {
            "image/png": "[encoded data removed]",
            "text/plain": [
              "<Figure size 720x720 with 10 Axes>"
            ]
          },
          "metadata": {
            "tags": [],
            "needs_background": "light"
          }
        }
      ]
    },
    {
      "cell_type": "code",
      "metadata": {
        "colab": {
          "base_uri": "https://localhost:8080/"
        },
        "id": "jjZsNhAcKOhb",
        "outputId": "5f41c03f-53b6-44c6-f7d3-ac31a2be207d"
      },
      "source": [
        "print([train_target[i] for i in range(10)])"
      ],
      "execution_count": null,
      "outputs": [
        {
          "output_type": "stream",
          "text": [
            "[9, 0, 0, 3, 0, 2, 7, 2, 5, 5]\n"
          ],
          "name": "stdout"
        }
      ]
    },
    {
      "cell_type": "code",
      "metadata": {
        "colab": {
          "base_uri": "https://localhost:8080/"
        },
        "id": "ral6hQsZKaW4",
        "outputId": "b2773914-18cb-4f22-ae09-ce299fc633fa"
      },
      "source": [
        "import numpy as np\r\n",
        "print(np.unique(train_target, return_counts=True))\r\n",
        "# target: 0~9, counts: 6,000 each "
      ],
      "execution_count": null,
      "outputs": [
        {
          "output_type": "stream",
          "text": [
            "(array([0, 1, 2, 3, 4, 5, 6, 7, 8, 9], dtype=uint8), array([6000, 6000, 6000, 6000, 6000, 6000, 6000, 6000, 6000, 6000]))\n"
          ],
          "name": "stdout"
        }
      ]
    },
    {
      "cell_type": "markdown",
      "metadata": {
        "id": "KqdDnUeP6-_Q"
      },
      "source": [
        "로지스틱 회귀로 패션 아이템 분류하기"
      ]
    },
    {
      "cell_type": "code",
      "metadata": {
        "colab": {
          "base_uri": "https://localhost:8080/"
        },
        "id": "8bv2-VXp7Bp7",
        "outputId": "7562757c-8a57-4346-ee2d-6e115e87740a"
      },
      "source": [
        "# 60,000 * 28 * 28 => 1차원 데이터로 변환\r\n",
        "train_scaled = train_input / 255.0\r\n",
        "train_scaled = train_scaled.reshape(-1, 28*28)\r\n",
        "print(train_scaled.shape)"
      ],
      "execution_count": null,
      "outputs": [
        {
          "output_type": "stream",
          "text": [
            "(60000, 784)\n"
          ],
          "name": "stdout"
        }
      ]
    },
    {
      "cell_type": "code",
      "metadata": {
        "colab": {
          "base_uri": "https://localhost:8080/"
        },
        "id": "dYAz8Z2rKsJX",
        "outputId": "e731eceb-7b23-45b5-c3aa-6e535f295a90"
      },
      "source": [
        "from sklearn.model_selection import cross_validate\r\n",
        "from sklearn.linear_model import  SGDClassifier\r\n",
        "sc = SGDClassifier(loss='log', max_iter=5, random_state=42) # max_iter: 반복횟수\r\n",
        "scores = cross_validate(sc, train_scaled, train_target, n_jobs=-1)\r\n",
        "print(np.mean(scores['test_score']))"
      ],
      "execution_count": null,
      "outputs": [
        {
          "output_type": "stream",
          "text": [
            "0.8195666666666668\n"
          ],
          "name": "stdout"
        }
      ]
    },
    {
      "cell_type": "markdown",
      "metadata": {
        "id": "7ty64Q6O8nQx"
      },
      "source": [
        "텐서플로와 케라스"
      ]
    },
    {
      "cell_type": "code",
      "metadata": {
        "colab": {
          "base_uri": "https://localhost:8080/"
        },
        "id": "qIpiRxKI7byF",
        "outputId": "713c1712-f611-4784-821b-2fdd5fd3982c"
      },
      "source": [
        "import tensorflow as tf\r\n",
        "from tensorflow import keras\r\n",
        "from sklearn.model_selection import train_test_split\r\n",
        "train_scaled, val_scaled, train_target, val_target = train_test_split(train_scaled, train_target, test_size=0.2, random_state=42)\r\n",
        "print(train_scaled.shape, train_target.shape)\r\n",
        "print(val_scaled.shape, val_target.shape)"
      ],
      "execution_count": null,
      "outputs": [
        {
          "output_type": "stream",
          "text": [
            "(48000, 784) (48000,)\n",
            "(12000, 784) (12000,)\n"
          ],
          "name": "stdout"
        }
      ]
    },
    {
      "cell_type": "code",
      "metadata": {
        "id": "Nkob52cr-f0p"
      },
      "source": [
        "dense = keras.layers.Dense(10, activation='softmax', input_shape=(784,))\r\n",
        "model = keras.Sequential(dense)\r\n",
        "model.compile(loss='sparse_categorical_crossentropy', metrics='accuracy')\r\n",
        "\r\n",
        "# 이진분류 : loss='binary crossentropy'\r\n",
        "# 다중분류 : loss='catogorical_crossentropy'\r\n",
        "# 정수class: loss='sparse_categorical_crossentropy'\r\n",
        "# 회귀모델 : loss='mean_square_error'\r\n",
        "# one-hot-encoding"
      ],
      "execution_count": null,
      "outputs": []
    },
    {
      "cell_type": "code",
      "metadata": {
        "colab": {
          "base_uri": "https://localhost:8080/"
        },
        "id": "Cc-BXdkFAV3U",
        "outputId": "5edbfe53-ebe8-4f68-83ba-351a29a8ba21"
      },
      "source": [
        "print(train_target[:10])"
      ],
      "execution_count": null,
      "outputs": [
        {
          "output_type": "stream",
          "text": [
            "[7 3 5 8 6 9 3 3 9 9]\n"
          ],
          "name": "stdout"
        }
      ]
    },
    {
      "cell_type": "code",
      "metadata": {
        "colab": {
          "base_uri": "https://localhost:8080/"
        },
        "id": "X5yUO25EAp2r",
        "outputId": "80e27cd8-e638-47ec-bbfe-5d83e942a7d3"
      },
      "source": [
        "model.fit(train_scaled, train_target, epochs=5)"
      ],
      "execution_count": null,
      "outputs": [
        {
          "output_type": "stream",
          "text": [
            "Epoch 1/5\n",
            "1500/1500 [==============================] - 2s 1ms/step - loss: 0.7766 - accuracy: 0.7379\n",
            "Epoch 2/5\n",
            "1500/1500 [==============================] - 2s 1ms/step - loss: 0.4895 - accuracy: 0.8351\n",
            "Epoch 3/5\n",
            "1500/1500 [==============================] - 2s 1ms/step - loss: 0.4604 - accuracy: 0.8457\n",
            "Epoch 4/5\n",
            "1500/1500 [==============================] - 2s 1ms/step - loss: 0.4453 - accuracy: 0.8506\n",
            "Epoch 5/5\n",
            "1500/1500 [==============================] - 2s 1ms/step - loss: 0.4412 - accuracy: 0.8549\n"
          ],
          "name": "stdout"
        },
        {
          "output_type": "execute_result",
          "data": {
            "text/plain": [
              "<tensorflow.python.keras.callbacks.History at 0x7fca215c14a8>"
            ]
          },
          "metadata": {
            "tags": []
          },
          "execution_count": 19
        }
      ]
    },
    {
      "cell_type": "code",
      "metadata": {
        "colab": {
          "base_uri": "https://localhost:8080/"
        },
        "id": "JS27ewa9GVVU",
        "outputId": "3fe27c11-c9a8-4bbe-e07e-078a1aebb811"
      },
      "source": [
        "model.evaluate(val_scaled, val_target)"
      ],
      "execution_count": null,
      "outputs": [
        {
          "output_type": "stream",
          "text": [
            "375/375 [==============================] - 0s 911us/step - loss: 0.4480 - accuracy: 0.8543\n"
          ],
          "name": "stdout"
        },
        {
          "output_type": "execute_result",
          "data": {
            "text/plain": [
              "[0.4480336904525757, 0.8542500138282776]"
            ]
          },
          "metadata": {
            "tags": []
          },
          "execution_count": 20
        }
      ]
    },
    {
      "cell_type": "markdown",
      "metadata": {
        "id": "mKDE_VHKOLm3"
      },
      "source": [
        "* 사이킷런\r\n",
        ">* (모델) sc = SGDClassifier(loss='log', max_iter=5)\r\n",
        ">* (훈련) sc.fit(train_scaled, train_target)\r\n",
        ">* (평가) sc.score(val_scaled, val_target)\r\n",
        "* 케라스\r\n",
        "> *         dense = keras.layers.Dense(10, activation='softmax', input_shape(784,))\r\n",
        ">* (모델) model = keras.Sequential(dense)\r\n",
        ">*        model.compile(loss='sparse_categorical_crossentropy', metrics='accuracy')\r\n",
        ">* (훈련) model.fit(train_scaled, train_target, epochs=5)\r\n",
        ">* (평가) model.evaluate(val_scaled, val_target)"
      ]
    },
    {
      "cell_type": "markdown",
      "metadata": {
        "id": "woClCJhjXyn5"
      },
      "source": [
        "### 7-2. 심층 신경망"
      ]
    },
    {
      "cell_type": "code",
      "metadata": {
        "id": "gAzoZ8uVNzEA"
      },
      "source": [
        "from tensorflow import keras\r\n",
        "(train_input, train_target), (test_input, test_target) = keras.datasets.fashion_mnist.load_data()"
      ],
      "execution_count": null,
      "outputs": []
    },
    {
      "cell_type": "code",
      "metadata": {
        "id": "slOlWPJ_QCXd"
      },
      "source": [
        "from sklearn.model_selection import train_test_split\r\n",
        "train_scaled = train_input / 255.0\r\n",
        "train_scaled = train_scaled.reshape(-1, 28*28)\r\n",
        "train_scaled, val_scaled, train_target, val_target = train_test_split(train_scaled, train_target, test_size=0.2, random_state=42)"
      ],
      "execution_count": null,
      "outputs": []
    },
    {
      "cell_type": "code",
      "metadata": {
        "id": "YF736bAKY2NR"
      },
      "source": [
        "dense1 = keras.layers.Dense(100, activation='sigmoid', input_shape=(784,))\r\n",
        "dense2 = keras.layers.Dense(10,activation='softmax')"
      ],
      "execution_count": null,
      "outputs": []
    },
    {
      "cell_type": "code",
      "metadata": {
        "id": "R5ollOz1Z2Z5"
      },
      "source": [
        "model = keras.Sequential([dense1, dense2])"
      ],
      "execution_count": null,
      "outputs": []
    },
    {
      "cell_type": "code",
      "metadata": {
        "colab": {
          "base_uri": "https://localhost:8080/"
        },
        "id": "P-wKp75oaFUN",
        "outputId": "21a6780a-9087-4b21-ad69-2d78d5c87376"
      },
      "source": [
        "model.summary()"
      ],
      "execution_count": null,
      "outputs": [
        {
          "output_type": "stream",
          "text": [
            "Model: \"sequential_1\"\n",
            "_________________________________________________________________\n",
            "Layer (type)                 Output Shape              Param #   \n",
            "=================================================================\n",
            "dense_5 (Dense)              (None, 100)               78500     \n",
            "_________________________________________________________________\n",
            "dense_6 (Dense)              (None, 10)                1010      \n",
            "=================================================================\n",
            "Total params: 79,510\n",
            "Trainable params: 79,510\n",
            "Non-trainable params: 0\n",
            "_________________________________________________________________\n"
          ],
          "name": "stdout"
        }
      ]
    },
    {
      "cell_type": "markdown",
      "metadata": {
        "id": "2HnnIRjYfzVd"
      },
      "source": [
        "층을 추가하는 다른 방법"
      ]
    },
    {
      "cell_type": "code",
      "metadata": {
        "id": "70yXZ23yf1co"
      },
      "source": [
        "#1. 한 줄에 코딩\r\n",
        "model = keras.Sequential([keras.layers.Dense(100, activation='sigmoid', \r\n",
        "                                             input_shape=(784,), name='hidden'),\r\n",
        "                          keras.layers.Dense(10, activation='softmax', name='output')],\r\n",
        "                         name = 'fashion MNIST model')\r\n",
        "model.summary()"
      ],
      "execution_count": null,
      "outputs": []
    },
    {
      "cell_type": "code",
      "metadata": {
        "colab": {
          "base_uri": "https://localhost:8080/"
        },
        "id": "oRFlr661gzWz",
        "outputId": "09eb6ddf-4965-4c73-d95a-7e17e831dc66"
      },
      "source": [
        "#2. add 사용\r\n",
        "model = keras.Sequential()\r\n",
        "model.add(keras.layers.Dense(100, activation = 'sigmoid', input_shape=(784,)))\r\n",
        "model.add(keras.layers.Dense(10, activation='softmax'))\r\n",
        "model.summary()"
      ],
      "execution_count": null,
      "outputs": [
        {
          "output_type": "stream",
          "text": [
            "Model: \"sequential_2\"\n",
            "_________________________________________________________________\n",
            "Layer (type)                 Output Shape              Param #   \n",
            "=================================================================\n",
            "dense_7 (Dense)              (None, 100)               78500     \n",
            "_________________________________________________________________\n",
            "dense_8 (Dense)              (None, 10)                1010      \n",
            "=================================================================\n",
            "Total params: 79,510\n",
            "Trainable params: 79,510\n",
            "Non-trainable params: 0\n",
            "_________________________________________________________________\n"
          ],
          "name": "stdout"
        }
      ]
    },
    {
      "cell_type": "code",
      "metadata": {
        "colab": {
          "base_uri": "https://localhost:8080/"
        },
        "id": "F2kwFKBEhYrv",
        "outputId": "d0cc1859-0e17-4dd9-ff90-e61a9740309f"
      },
      "source": [
        "model.compile(loss='sparse_categorical_crossentropy', metrics='accuracy')\r\n",
        "model.fit(train_scaled, train_target, epochs=5)"
      ],
      "execution_count": null,
      "outputs": [
        {
          "output_type": "stream",
          "text": [
            "Epoch 1/5\n",
            "1500/1500 [==============================] - 3s 2ms/step - loss: 0.7638 - accuracy: 0.7521\n",
            "Epoch 2/5\n",
            "1500/1500 [==============================] - 3s 2ms/step - loss: 0.4149 - accuracy: 0.8504\n",
            "Epoch 3/5\n",
            "1500/1500 [==============================] - 3s 2ms/step - loss: 0.3674 - accuracy: 0.8675\n",
            "Epoch 4/5\n",
            "1500/1500 [==============================] - 3s 2ms/step - loss: 0.3502 - accuracy: 0.8748\n",
            "Epoch 5/5\n",
            "1500/1500 [==============================] - 3s 2ms/step - loss: 0.3343 - accuracy: 0.8785\n"
          ],
          "name": "stdout"
        },
        {
          "output_type": "execute_result",
          "data": {
            "text/plain": [
              "<tensorflow.python.keras.callbacks.History at 0x7fca1eed40f0>"
            ]
          },
          "metadata": {
            "tags": []
          },
          "execution_count": 31
        }
      ]
    },
    {
      "cell_type": "markdown",
      "metadata": {
        "id": "fN3KNXPZh4Vf"
      },
      "source": [
        "렐루 함수: 이미지 분류모델의 hidden layer에 많이 사용하는 활성화 함수"
      ]
    },
    {
      "cell_type": "code",
      "metadata": {
        "colab": {
          "base_uri": "https://localhost:8080/"
        },
        "id": "uEGP_tYLhwhR",
        "outputId": "1656d706-4181-48d5-b936-93bd25033976"
      },
      "source": [
        "model = keras.Sequential()\r\n",
        "model.add(keras.layers.Flatten(input_shape=(28,28)))\r\n",
        "model.add(keras.layers.Dense(100, activation='relu'))\r\n",
        "model.add(keras.layers.Dense(10, activation='softmax'))\r\n",
        "model.summary()"
      ],
      "execution_count": null,
      "outputs": [
        {
          "output_type": "stream",
          "text": [
            "Model: \"sequential_3\"\n",
            "_________________________________________________________________\n",
            "Layer (type)                 Output Shape              Param #   \n",
            "=================================================================\n",
            "flatten (Flatten)            (None, 784)               0         \n",
            "_________________________________________________________________\n",
            "dense_9 (Dense)              (None, 100)               78500     \n",
            "_________________________________________________________________\n",
            "dense_10 (Dense)             (None, 10)                1010      \n",
            "=================================================================\n",
            "Total params: 79,510\n",
            "Trainable params: 79,510\n",
            "Non-trainable params: 0\n",
            "_________________________________________________________________\n"
          ],
          "name": "stdout"
        }
      ]
    },
    {
      "cell_type": "code",
      "metadata": {
        "id": "AB-7aPiZh5ia"
      },
      "source": [
        "# 데이터 준비\r\n",
        "(train_input, train_target), (test_input, test_target) = keras.datasets.fashion_mnist.load_data()\r\n",
        "train_scaled = train_input / 255.0\r\n",
        "# train_scaled = train_scaled.reshape(-1, 28*28)\r\n",
        "train_scaled, val_scaled, train_target, val_target = train_test_split(train_scaled, train_target, test_size=0.2, random_state=42)"
      ],
      "execution_count": null,
      "outputs": []
    },
    {
      "cell_type": "code",
      "metadata": {
        "colab": {
          "base_uri": "https://localhost:8080/"
        },
        "id": "cgkC8qnNjuTv",
        "outputId": "171ad521-7726-4e48-a2b3-d2b463df06cf"
      },
      "source": [
        "# 모델 컴파일, 훈련\r\n",
        "model.compile(loss='sparse_categorical_crossentropy', metrics='accuracy')\r\n",
        "model.fit(train_scaled, train_target, epochs=5)"
      ],
      "execution_count": null,
      "outputs": [
        {
          "output_type": "stream",
          "text": [
            "Epoch 1/5\n",
            "1500/1500 [==============================] - 4s 2ms/step - loss: 0.6771 - accuracy: 0.7646\n",
            "Epoch 2/5\n",
            "1500/1500 [==============================] - 3s 2ms/step - loss: 0.3965 - accuracy: 0.8579\n",
            "Epoch 3/5\n",
            "1500/1500 [==============================] - 3s 2ms/step - loss: 0.3579 - accuracy: 0.8707\n",
            "Epoch 4/5\n",
            "1500/1500 [==============================] - 3s 2ms/step - loss: 0.3317 - accuracy: 0.8797\n",
            "Epoch 5/5\n",
            "1500/1500 [==============================] - 3s 2ms/step - loss: 0.3199 - accuracy: 0.8861\n"
          ],
          "name": "stdout"
        },
        {
          "output_type": "execute_result",
          "data": {
            "text/plain": [
              "<tensorflow.python.keras.callbacks.History at 0x7fca1e5d00f0>"
            ]
          },
          "metadata": {
            "tags": []
          },
          "execution_count": 34
        }
      ]
    },
    {
      "cell_type": "code",
      "metadata": {
        "colab": {
          "base_uri": "https://localhost:8080/"
        },
        "id": "Q_HU5yS9j6A8",
        "outputId": "12fc64de-19c8-4f26-9375-7ddea7c5a642"
      },
      "source": [
        "model.evaluate(val_scaled, val_target)"
      ],
      "execution_count": null,
      "outputs": [
        {
          "output_type": "stream",
          "text": [
            "375/375 [==============================] - 1s 1ms/step - loss: 0.3579 - accuracy: 0.8768\n"
          ],
          "name": "stdout"
        },
        {
          "output_type": "execute_result",
          "data": {
            "text/plain": [
              "[0.35789230465888977, 0.8768333196640015]"
            ]
          },
          "metadata": {
            "tags": []
          },
          "execution_count": 35
        }
      ]
    },
    {
      "cell_type": "markdown",
      "metadata": {
        "id": "HJqn0Jz6l0ue"
      },
      "source": [
        "옵티마이저:  신경망의 가중치와 절편을 학습하기 위한 알고리즘\r\n",
        ">* SGD: 기본 경사 하강법, nesterov, momentum\r\n",
        ">* Adagrad: 그래디언트 제곱을 누적하여 학습률을 나눔\r\n",
        ">* RMSprop: + 지수감소 사용\r\n",
        ">* Adam: 모멘텀최적화의 그래디언트 지수감소평균 조절_ beta_1 (default: 0.9), RMSprop의 그래디언트 제곱의 지수감소평균 조절_ beta2 (default: 0.999)\r\n",
        "* (etc) 하이퍼파라미터: 은닉층 개수, 뉴런 개수, 활성화 함수, 층의 종류, 배치 사이즈, 에포크"
      ]
    },
    {
      "cell_type": "code",
      "metadata": {
        "id": "8Jf1AFSskEoh"
      },
      "source": [
        "model.compile(optimizer='sgd', loss='sparse_categorical_crossentropy', metrics='accuracy')\r\n",
        "# sgd = keras.optimizer.SGD()\r\n",
        "# model.compile(optimizer=sgd, loss='sparse_categorical_crossentropy', metrics='accuracy')"
      ],
      "execution_count": null,
      "outputs": []
    },
    {
      "cell_type": "code",
      "metadata": {
        "id": "CxwbVMrhl2Cy"
      },
      "source": [
        "# 모멘텀 최적화\r\n",
        "sgd = keras.optimizers.SGD(learning_rate = 0.1)\r\n",
        "sgd = keras.optimizers.SGD(momentum = 0.9, nesterov = True) \r\n",
        "# momentum: default=0, 대개 0.9 이상을 지정\r\n",
        "# nesterov: 모멘텀 최적화 2회 반복"
      ],
      "execution_count": null,
      "outputs": []
    },
    {
      "cell_type": "code",
      "metadata": {
        "id": "vrFWDI5uqfe4"
      },
      "source": [
        "# 적응적 학습률: Adagrad, RMSprop\r\n",
        "adagrad = keras.optimizers.Adagrad()\r\n",
        "model.compile(optimizer=adagrad, loss='sparse_categorical_crossentropy', metrics='accuracy')\r\n",
        "\r\n",
        "rmsprop = keras.optimizers.RMSprop()\r\n",
        "model.compile(optimizer=rmsprop, loss='sparse_categorical_crossentropy', metrics='accuracy')"
      ],
      "execution_count": null,
      "outputs": []
    },
    {
      "cell_type": "code",
      "metadata": {
        "colab": {
          "base_uri": "https://localhost:8080/"
        },
        "id": "6uRxsX7Lt0vL",
        "outputId": "fd2312ba-4b42-48c0-8cc5-4dff8dce0028"
      },
      "source": [
        "# Adam : 모멘텀 최적화 + RMSprop (learning_rate=0.001)\r\n",
        "model = keras.Sequential()\r\n",
        "model.add(keras.layers.Flatten(input_shape=(28,28)))\r\n",
        "model.add(keras.layers.Dense(100, activation='relu'))\r\n",
        "model.add(keras.layers.Dense(10, activation='softmax'))\r\n",
        "model.compile(optimizer='adam', loss='sparse_categorical_crossentropy', metrics='accuracy')\r\n",
        "model.fit(train_scaled, train_target, epochs=5)"
      ],
      "execution_count": null,
      "outputs": [
        {
          "output_type": "stream",
          "text": [
            "Epoch 1/5\n",
            "1500/1500 [==============================] - 3s 2ms/step - loss: 0.6764 - accuracy: 0.7655\n",
            "Epoch 2/5\n",
            "1500/1500 [==============================] - 3s 2ms/step - loss: 0.4007 - accuracy: 0.8584\n",
            "Epoch 3/5\n",
            "1500/1500 [==============================] - 3s 2ms/step - loss: 0.3586 - accuracy: 0.8728\n",
            "Epoch 4/5\n",
            "1500/1500 [==============================] - 3s 2ms/step - loss: 0.3271 - accuracy: 0.8816\n",
            "Epoch 5/5\n",
            "1500/1500 [==============================] - 3s 2ms/step - loss: 0.2994 - accuracy: 0.8908\n"
          ],
          "name": "stdout"
        },
        {
          "output_type": "execute_result",
          "data": {
            "text/plain": [
              "<tensorflow.python.keras.callbacks.History at 0x7fca1cc6b780>"
            ]
          },
          "metadata": {
            "tags": []
          },
          "execution_count": 45
        }
      ]
    },
    {
      "cell_type": "code",
      "metadata": {
        "colab": {
          "base_uri": "https://localhost:8080/"
        },
        "id": "1sNzRzIDv8hW",
        "outputId": "a521798c-294e-41ab-c083-7ff012c0cef4"
      },
      "source": [
        "model.evaluate(val_scaled, val_target)"
      ],
      "execution_count": null,
      "outputs": [
        {
          "output_type": "stream",
          "text": [
            "375/375 [==============================] - 1s 1ms/step - loss: 0.3516 - accuracy: 0.8720\n"
          ],
          "name": "stdout"
        },
        {
          "output_type": "execute_result",
          "data": {
            "text/plain": [
              "[0.3515954911708832, 0.871999979019165]"
            ]
          },
          "metadata": {
            "tags": []
          },
          "execution_count": 46
        }
      ]
    },
    {
      "cell_type": "markdown",
      "metadata": {
        "id": "vyIDi8Lx0BFl"
      },
      "source": [
        "### 7-3. 신경망 모델 훈련"
      ]
    },
    {
      "cell_type": "code",
      "metadata": {
        "id": "YK1gmEasxD_u"
      },
      "source": [
        "from tensorflow import keras\r\n",
        "from sklearn.model_selection import train_test_split\r\n",
        "(train_input, train_target), (test_input, test_target) = keras.datasets.fashion_mnist.load_data()\r\n",
        "train_scaled = train_input / 255.0\r\n",
        "train_scaled, val_scaled, train_target, val_target = train_test_split(train_scaled, train_target, test_size=0.2, random_state=42)"
      ],
      "execution_count": null,
      "outputs": []
    },
    {
      "cell_type": "code",
      "metadata": {
        "id": "8-5Nir5m0Dez"
      },
      "source": [
        "def model_fn(a_layer=None):\r\n",
        "    model = keras.Sequential()\r\n",
        "    model.add(keras.layers.Flatten(input_shape=(28,28)))\r\n",
        "    model.add(keras.layers.Dense(100, activation='relu'))\r\n",
        "    if a_layer:\r\n",
        "        model.add(a_layer)\r\n",
        "    model.add(keras.layers.Dense(10, activation='softmax'))\r\n",
        "    return model"
      ],
      "execution_count": null,
      "outputs": []
    },
    {
      "cell_type": "code",
      "metadata": {
        "colab": {
          "base_uri": "https://localhost:8080/"
        },
        "id": "DZ_n53kt2ZKg",
        "outputId": "de07615f-2331-41a5-b388-89ac8e840823"
      },
      "source": [
        "model = model_fn()\r\n",
        "model.summary()"
      ],
      "execution_count": null,
      "outputs": [
        {
          "output_type": "stream",
          "text": [
            "Model: \"sequential_9\"\n",
            "_________________________________________________________________\n",
            "Layer (type)                 Output Shape              Param #   \n",
            "=================================================================\n",
            "flatten_9 (Flatten)          (None, 784)               0         \n",
            "_________________________________________________________________\n",
            "dense_18 (Dense)             (None, 100)               78500     \n",
            "_________________________________________________________________\n",
            "dense_19 (Dense)             (None, 10)                1010      \n",
            "=================================================================\n",
            "Total params: 79,510\n",
            "Trainable params: 79,510\n",
            "Non-trainable params: 0\n",
            "_________________________________________________________________\n"
          ],
          "name": "stdout"
        }
      ]
    },
    {
      "cell_type": "code",
      "metadata": {
        "colab": {
          "base_uri": "https://localhost:8080/"
        },
        "id": "fr-phnAX2dFV",
        "outputId": "52502455-7a70-4c6d-856a-5c3d7d4d1c46"
      },
      "source": [
        "model.compile(loss='sparse_categorical_crossentropy', metrics='accuracy')\r\n",
        "history = model.fit(train_scaled, train_target, epochs=5, verbose=0)  \r\n",
        "# verbose=1: 진행상황 및 지표 출력, 2: 지표 출력, 0: 출력X \r\n",
        "print(history.history.keys())"
      ],
      "execution_count": null,
      "outputs": [
        {
          "output_type": "stream",
          "text": [
            "dict_keys(['loss', 'accuracy'])\n"
          ],
          "name": "stdout"
        }
      ]
    },
    {
      "cell_type": "code",
      "metadata": {
        "colab": {
          "base_uri": "https://localhost:8080/",
          "height": 279
        },
        "id": "_QL913NS3XAg",
        "outputId": "255f7009-e713-4ec4-ccf1-3e715cb2c2f9"
      },
      "source": [
        "import matplotlib.pyplot as plt\r\n",
        "plt.plot(history.history['loss'])\r\n",
        "plt.xlabel('epoch')\r\n",
        "plt.ylabel('loss')\r\n",
        "plt.show()"
      ],
      "execution_count": null,
      "outputs": [
        {
          "output_type": "display_data",
          "data": {
            "image/png": "[encoded data removed]",
            "text/plain": [
              "<Figure size 432x288 with 1 Axes>"
            ]
          },
          "metadata": {
            "tags": [],
            "needs_background": "light"
          }
        }
      ]
    },
    {
      "cell_type": "code",
      "metadata": {
        "colab": {
          "base_uri": "https://localhost:8080/",
          "height": 279
        },
        "id": "aS5SnQBV30lv",
        "outputId": "d646967f-4544-4e10-9e95-a65d46ebfcbc"
      },
      "source": [
        "plt.plot(history.history['accuracy'])\r\n",
        "plt.xlabel('epoch')\r\n",
        "plt.ylabel('accuracy')\r\n",
        "plt.show()"
      ],
      "execution_count": null,
      "outputs": [
        {
          "output_type": "display_data",
          "data": {
            "image/png": "[encoded data removed]",
            "text/plain": [
              "<Figure size 432x288 with 1 Axes>"
            ]
          },
          "metadata": {
            "tags": [],
            "needs_background": "light"
          }
        }
      ]
    },
    {
      "cell_type": "code",
      "metadata": {
        "colab": {
          "base_uri": "https://localhost:8080/",
          "height": 279
        },
        "id": "d6-13v8T36hK",
        "outputId": "8ef02863-4615-42e7-fea2-f4121c5868b8"
      },
      "source": [
        "# epochs = 20\r\n",
        "model = model_fn()\r\n",
        "model.compile(loss='sparse_categorical_crossentropy', metrics='accuracy')\r\n",
        "history = model.fit(train_scaled, train_target, epochs=20, verbose=0)\r\n",
        "plt.plot(history.history['loss'])\r\n",
        "plt.xlabel('epoch')\r\n",
        "plt.ylabel('loss')\r\n",
        "plt.show()"
      ],
      "execution_count": null,
      "outputs": [
        {
          "output_type": "display_data",
          "data": {
            "image/png": "[encoded data removed]",
            "text/plain": [
              "<Figure size 432x288 with 1 Axes>"
            ]
          },
          "metadata": {
            "tags": [],
            "needs_background": "light"
          }
        }
      ]
    },
    {
      "cell_type": "markdown",
      "metadata": {
        "id": "2YyPlT4P4h8D"
      },
      "source": [
        "검증 손실: validation_data 활용"
      ]
    },
    {
      "cell_type": "code",
      "metadata": {
        "colab": {
          "base_uri": "https://localhost:8080/"
        },
        "id": "45JwvsM84TRe",
        "outputId": "288ff899-9417-48ce-ab20-72d199210676"
      },
      "source": [
        "model = model_fn()\r\n",
        "model.compile(loss='sparse_categorical_crossentropy', metrics='accuracy')\r\n",
        "history = model.fit(train_scaled, train_target, epochs=20, verbose=0, validation_data=(val_scaled, val_target))\r\n",
        "print(history.history.keys())"
      ],
      "execution_count": null,
      "outputs": [
        {
          "output_type": "stream",
          "text": [
            "dict_keys(['loss', 'accuracy', 'val_loss', 'val_accuracy'])\n"
          ],
          "name": "stdout"
        }
      ]
    },
    {
      "cell_type": "code",
      "metadata": {
        "colab": {
          "base_uri": "https://localhost:8080/",
          "height": 282
        },
        "id": "XFp6PwqK4jcp",
        "outputId": "e6535131-1242-4923-f7f9-494eea929fe6"
      },
      "source": [
        "plt.plot(history.history['loss'])\r\n",
        "plt.plot(history.history['val_loss'])\r\n",
        "plt.xlabel('epoch')\r\n",
        "plt.ylabel('loss')\r\n",
        "plt.legend(['train_loss','val_loss'])\r\n",
        "plt.show()"
      ],
      "execution_count": null,
      "outputs": [
        {
          "output_type": "display_data",
          "data": {
            "image/png": "[encoded data removed]",
            "text/plain": [
              "<Figure size 432x288 with 1 Axes>"
            ]
          },
          "metadata": {
            "tags": [],
            "needs_background": "light"
          }
        }
      ]
    },
    {
      "cell_type": "code",
      "metadata": {
        "colab": {
          "base_uri": "https://localhost:8080/",
          "height": 279
        },
        "id": "0jk5M5LR5ULb",
        "outputId": "4d050120-6d16-4b72-efbc-1b4ae3f53441"
      },
      "source": [
        "# Adam optimizer\r\n",
        "model = model_fn()\r\n",
        "model.compile(optimizer='adam', loss='sparse_categorical_crossentropy', metrics='accuracy')\r\n",
        "history = model.fit(train_scaled, train_target, epochs=20, verbose=0, validation_data=(val_scaled, val_target))\r\n",
        "plt.plot(history.history['loss'])\r\n",
        "plt.plot(history.history['val_loss'])\r\n",
        "plt.xlabel('epoch')\r\n",
        "plt.ylabel('loss')\r\n",
        "plt.legend(['train_loss','val_loss'])\r\n",
        "plt.show()"
      ],
      "execution_count": null,
      "outputs": [
        {
          "output_type": "display_data",
          "data": {
            "image/png": "[encoded data removed]",
            "text/plain": [
              "<Figure size 432x288 with 1 Axes>"
            ]
          },
          "metadata": {
            "tags": [],
            "needs_background": "light"
          }
        }
      ]
    },
    {
      "cell_type": "markdown",
      "metadata": {
        "id": "HUsdBPxz6PsZ"
      },
      "source": [
        "드롭 아웃"
      ]
    },
    {
      "cell_type": "code",
      "metadata": {
        "colab": {
          "base_uri": "https://localhost:8080/"
        },
        "id": "G6omicwz60Wz",
        "outputId": "f19b83a6-520e-4407-dc48-863ffba03b18"
      },
      "source": [
        "model = model_fn(keras.layers.Dropout(0.3))\r\n",
        "model.summary()"
      ],
      "execution_count": null,
      "outputs": [
        {
          "output_type": "stream",
          "text": [
            "Model: \"sequential_13\"\n",
            "_________________________________________________________________\n",
            "Layer (type)                 Output Shape              Param #   \n",
            "=================================================================\n",
            "flatten_13 (Flatten)         (None, 784)               0         \n",
            "_________________________________________________________________\n",
            "dense_26 (Dense)             (None, 100)               78500     \n",
            "_________________________________________________________________\n",
            "dropout_5 (Dropout)          (None, 100)               0         \n",
            "_________________________________________________________________\n",
            "dense_27 (Dense)             (None, 10)                1010      \n",
            "=================================================================\n",
            "Total params: 79,510\n",
            "Trainable params: 79,510\n",
            "Non-trainable params: 0\n",
            "_________________________________________________________________\n"
          ],
          "name": "stdout"
        }
      ]
    },
    {
      "cell_type": "code",
      "metadata": {
        "colab": {
          "base_uri": "https://localhost:8080/",
          "height": 279
        },
        "id": "en7XGno869BJ",
        "outputId": "0838599b-a3dd-44b9-b75f-3aa100927e29"
      },
      "source": [
        "# model에 dropout=0.3 적용됨\r\n",
        "model.compile(optimizer='adam', loss='sparse_categorical_crossentropy', metrics='accuracy')\r\n",
        "history = model.fit(train_scaled, train_target, epochs=20, verbose=0, validation_data=(val_scaled, val_target))\r\n",
        "plt.plot(history.history['loss'])\r\n",
        "plt.plot(history.history['val_loss'])\r\n",
        "plt.xlabel('epoch')\r\n",
        "plt.ylabel('loss')\r\n",
        "plt.legend(['train_loss','val_loss'])\r\n",
        "plt.show()"
      ],
      "execution_count": null,
      "outputs": [
        {
          "output_type": "display_data",
          "data": {
            "image/png": "[encoded data removed]",
            "text/plain": [
              "<Figure size 432x288 with 1 Axes>"
            ]
          },
          "metadata": {
            "tags": [],
            "needs_background": "light"
          }
        }
      ]
    },
    {
      "cell_type": "markdown",
      "metadata": {
        "id": "850ePc6F7xjj"
      },
      "source": [
        "모델 저장과 복원"
      ]
    },
    {
      "cell_type": "code",
      "metadata": {
        "id": "r-OOwYZA7s5O"
      },
      "source": [
        "# epochs = 10\r\n",
        "model = model_fn(keras.layers.Dropout(0.3))\r\n",
        "model.compile(optimizer='adam', loss='sparse_categorical_crossentropy', metrics='accuracy')\r\n",
        "history = model.fit(train_scaled, train_target, epochs=10, verbose=0, validation_data=(val_scaled, val_target))"
      ],
      "execution_count": null,
      "outputs": []
    },
    {
      "cell_type": "code",
      "metadata": {
        "id": "140iy-aS8VgP"
      },
      "source": [
        "model.save_weights('model-weights.h5') # 훈련된 모델의 파라미터 저장\r\n",
        "model.save('model-whole.h5')           # 모델 구조와 파라미터 함께 저장"
      ],
      "execution_count": null,
      "outputs": []
    },
    {
      "cell_type": "code",
      "metadata": {
        "colab": {
          "base_uri": "https://localhost:8080/"
        },
        "id": "wRE9Z76p8sIQ",
        "outputId": "ae423195-af1b-43ff-9254-5ae8de494b62"
      },
      "source": [
        "!ls -al *.h5"
      ],
      "execution_count": null,
      "outputs": [
        {
          "output_type": "stream",
          "text": [
            "-rw-r--r-- 1 root root 981776 Jan 23 12:05 best-model.h5\n",
            "-rw-r--r-- 1 root root 332480 Jan 23 13:09 model-weights.h5\n",
            "-rw-r--r-- 1 root root 981776 Jan 23 13:09 model-whole.h5\n"
          ],
          "name": "stdout"
        }
      ]
    },
    {
      "cell_type": "code",
      "metadata": {
        "id": "m8X2p-KO8w2f"
      },
      "source": [
        "#1. 훈련을 하지 않은 새로운 모델을 만들고, 저장했던 파일에서 훈련된 모델 파라미터를 읽어서 사용\r\n",
        "model = model_fn(keras.layers.Dropout(0.3))\r\n",
        "model.load_weights('model-weights.h5')"
      ],
      "execution_count": null,
      "outputs": []
    },
    {
      "cell_type": "code",
      "metadata": {
        "colab": {
          "base_uri": "https://localhost:8080/"
        },
        "id": "JV9OTIw59MxW",
        "outputId": "2d8cb045-546d-4b85-a030-05288b37a64a"
      },
      "source": [
        "# np.argmax: predict 값 중에 가장 큰 값의 인덱스 반환\r\n",
        "# axis=-1: argmax()함수 배열의 마지막 차원, 2차원 배열-> 1차원 배열 \r\n",
        "\r\n",
        "import numpy as np\r\n",
        "val_labels = np.argmax(model.predict(val_scaled), axis=-1) \r\n",
        "print(np.mean(val_labels == val_target))"
      ],
      "execution_count": null,
      "outputs": [
        {
          "output_type": "stream",
          "text": [
            "0.8815\n"
          ],
          "name": "stdout"
        }
      ]
    },
    {
      "cell_type": "code",
      "metadata": {
        "colab": {
          "base_uri": "https://localhost:8080/"
        },
        "id": "6Ok5KVAK90TN",
        "outputId": "7d035206-4ac1-489b-acd9-8ef61d208e7e"
      },
      "source": [
        "#2. 모델 전체를 파이리에서 읽고, 검증세트 정확도 출력\r\n",
        "model = keras.models.load_model('model-whole.h5')\r\n",
        "model.evaluate(val_scaled, val_target)"
      ],
      "execution_count": null,
      "outputs": [
        {
          "output_type": "stream",
          "text": [
            "375/375 [==============================] - 1s 1ms/step - loss: 0.3296 - accuracy: 0.8815\n"
          ],
          "name": "stdout"
        },
        {
          "output_type": "execute_result",
          "data": {
            "text/plain": [
              "[0.3296326994895935, 0.8815000057220459]"
            ]
          },
          "metadata": {
            "tags": []
          },
          "execution_count": 39
        }
      ]
    },
    {
      "cell_type": "markdown",
      "metadata": {
        "id": "0nNwLfT7_ZJJ"
      },
      "source": [
        "콜백: \r\n",
        "* ModelCheckpoint: 최상의 검증 점수를 만드는 모델을 저장\r\n",
        "> monitor: 모니터링 지표(default: val_loss) // \r\n",
        "> save_weights_only: 가중치와 절편 저장(default: True)\r\n",
        "* EarlyStopping: 과대 적합이 시작되기 전에 조기 종료\r\n",
        "> patience: 모델이 더 이상 향상되지 않고 지속될 수 있는 최대 에포크 수 //\r\n",
        "> restore_best_weights: 최상의 모델가중치 복원 여부(default: False)\r\n"
      ]
    },
    {
      "cell_type": "code",
      "metadata": {
        "id": "a6LKlTw1-53B"
      },
      "source": [
        "# ModelCheckpoint\r\n",
        "model = model_fn(keras.layers.Dropout(0.3))\r\n",
        "model.compile(optimizer='adam', loss='sparse_categorical_crossentropy', metrics='accuracy')\r\n",
        "checkpoint_cb = keras.callbacks.ModelCheckpoint('best-model.h5')\r\n",
        "history = model.fit(train_scaled, train_target, epochs=10, verbose=0, \r\n",
        "                    validation_data=(val_scaled, val_target),\r\n",
        "                    callbacks=[checkpoint_cb])"
      ],
      "execution_count": null,
      "outputs": []
    },
    {
      "cell_type": "code",
      "metadata": {
        "colab": {
          "base_uri": "https://localhost:8080/"
        },
        "id": "hlx3WMQsIfCY",
        "outputId": "517dccb1-9fd0-4646-8026-96a0d66f4ad9"
      },
      "source": [
        "model = keras.models.load_model('best-model.h5')\r\n",
        "model.evaluate(val_scaled, val_target)"
      ],
      "execution_count": null,
      "outputs": [
        {
          "output_type": "stream",
          "text": [
            "375/375 [==============================] - 1s 1ms/step - loss: 0.3323 - accuracy: 0.8801\n"
          ],
          "name": "stdout"
        },
        {
          "output_type": "execute_result",
          "data": {
            "text/plain": [
              "[0.3323375880718231, 0.8800833225250244]"
            ]
          },
          "metadata": {
            "tags": []
          },
          "execution_count": 41
        }
      ]
    },
    {
      "cell_type": "code",
      "metadata": {
        "id": "ZpDcfvaSIsYi"
      },
      "source": [
        "# EarlyStopping\r\n",
        "model = model_fn(keras.layers.Dropout(0.3))\r\n",
        "model.compile(optimizer='adam', loss='sparse_categorical_crossentropy', metrics='accuracy')\r\n",
        "checkpoint_cb = keras.callbacks.ModelCheckpoint('best-model.h5')\r\n",
        "early_stopping_cb = keras.callbacks.EarlyStopping(patience=2,     # 2번 연속 검증점수가 향상되지 않으면 훈련중지\r\n",
        "                                                  restore_best_weights=True)  # 가장 낮은 검증손실을 낸 모델\r\n",
        "history = model.fit(train_scaled, train_target, epochs=10, verbose=0, \r\n",
        "                    validation_data=(val_scaled, val_target),\r\n",
        "                    callbacks=[checkpoint_cb, early_stopping_cb])"
      ],
      "execution_count": null,
      "outputs": []
    },
    {
      "cell_type": "code",
      "metadata": {
        "colab": {
          "base_uri": "https://localhost:8080/"
        },
        "id": "rA5mCHxhYvDP",
        "outputId": "39e99fcc-a83a-4722-883f-1066b9168b83"
      },
      "source": [
        "# 몇 번째 에포크에서 훈련이 중지 되었는가\r\n",
        "# patience=2 ==>> 5-1=4번째 에포크에서 가장 낮은 손실\r\n",
        "print(early_stopping_cb.stopped_epoch)"
      ],
      "execution_count": null,
      "outputs": [
        {
          "output_type": "stream",
          "text": [
            "5\n"
          ],
          "name": "stdout"
        }
      ]
    },
    {
      "cell_type": "code",
      "metadata": {
        "colab": {
          "base_uri": "https://localhost:8080/",
          "height": 279
        },
        "id": "dF-wkpG9ZIPD",
        "outputId": "e1157c17-4f19-4322-ef6b-dede53ddf7ba"
      },
      "source": [
        "plt.plot(history.history['loss'])\r\n",
        "plt.plot(history.history['val_loss'])\r\n",
        "plt.xlabel('epoch')\r\n",
        "plt.ylabel('loss')\r\n",
        "plt.legend(['train_loss','val_loss'])\r\n",
        "plt.show()"
      ],
      "execution_count": null,
      "outputs": [
        {
          "output_type": "display_data",
          "data": {
            "image/png": "[encoded data removed]",
            "text/plain": [
              "<Figure size 432x288 with 1 Axes>"
            ]
          },
          "metadata": {
            "tags": [],
            "needs_background": "light"
          }
        }
      ]
    },
    {
      "cell_type": "code",
      "metadata": {
        "colab": {
          "base_uri": "https://localhost:8080/"
        },
        "id": "w5SlKPsHZPJn",
        "outputId": "27580bbf-c78b-45be-9d7d-eda7870a334a"
      },
      "source": [
        "model.evaluate(val_scaled, val_target)"
      ],
      "execution_count": null,
      "outputs": [
        {
          "output_type": "stream",
          "text": [
            "375/375 [==============================] - 0s 1ms/step - loss: 0.3442 - accuracy: 0.8753\n"
          ],
          "name": "stdout"
        },
        {
          "output_type": "execute_result",
          "data": {
            "text/plain": [
              "[0.3441556692123413, 0.875333309173584]"
            ]
          },
          "metadata": {
            "tags": []
          },
          "execution_count": 49
        }
      ]
    }
  ]
}